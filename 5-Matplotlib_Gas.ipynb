{
 "cells": [
  {
   "cell_type": "code",
   "execution_count": 1,
   "id": "6d203b42",
   "metadata": {},
   "outputs": [],
   "source": [
    "import pandas as pd\n",
    "import matplotlib.pyplot as plt\n",
    "%matplotlib inline"
   ]
  },
  {
   "cell_type": "code",
   "execution_count": 2,
   "id": "476432b8",
   "metadata": {},
   "outputs": [],
   "source": [
    "fifa = pd.read_csv('matplotlib/fifa_data.csv')"
   ]
  },
  {
   "cell_type": "code",
   "execution_count": 215,
   "id": "7332cd8f",
   "metadata": {},
   "outputs": [],
   "source": [
    "gas = pd.read_csv('matplotlib/gas_prices.csv')"
   ]
  },
  {
   "cell_type": "markdown",
   "id": "ee1c06ff",
   "metadata": {},
   "source": [
    "### Gas Prices"
   ]
  },
  {
   "cell_type": "code",
   "execution_count": 29,
   "id": "f2450b2f",
   "metadata": {},
   "outputs": [
    {
     "data": {
      "text/html": [
       "<div>\n",
       "<style scoped>\n",
       "    .dataframe tbody tr th:only-of-type {\n",
       "        vertical-align: middle;\n",
       "    }\n",
       "\n",
       "    .dataframe tbody tr th {\n",
       "        vertical-align: top;\n",
       "    }\n",
       "\n",
       "    .dataframe thead th {\n",
       "        text-align: right;\n",
       "    }\n",
       "</style>\n",
       "<table border=\"1\" class=\"dataframe\">\n",
       "  <thead>\n",
       "    <tr style=\"text-align: right;\">\n",
       "      <th></th>\n",
       "      <th>Year</th>\n",
       "      <th>Australia</th>\n",
       "      <th>Canada</th>\n",
       "      <th>France</th>\n",
       "      <th>Germany</th>\n",
       "      <th>Italy</th>\n",
       "      <th>Japan</th>\n",
       "      <th>Mexico</th>\n",
       "      <th>South Korea</th>\n",
       "      <th>UK</th>\n",
       "      <th>USA</th>\n",
       "    </tr>\n",
       "  </thead>\n",
       "  <tbody>\n",
       "    <tr>\n",
       "      <th>0</th>\n",
       "      <td>1990</td>\n",
       "      <td>NaN</td>\n",
       "      <td>1.87</td>\n",
       "      <td>3.63</td>\n",
       "      <td>2.65</td>\n",
       "      <td>4.59</td>\n",
       "      <td>3.16</td>\n",
       "      <td>1.00</td>\n",
       "      <td>2.05</td>\n",
       "      <td>2.82</td>\n",
       "      <td>1.16</td>\n",
       "    </tr>\n",
       "    <tr>\n",
       "      <th>1</th>\n",
       "      <td>1991</td>\n",
       "      <td>1.96</td>\n",
       "      <td>1.92</td>\n",
       "      <td>3.45</td>\n",
       "      <td>2.90</td>\n",
       "      <td>4.50</td>\n",
       "      <td>3.46</td>\n",
       "      <td>1.30</td>\n",
       "      <td>2.49</td>\n",
       "      <td>3.01</td>\n",
       "      <td>1.14</td>\n",
       "    </tr>\n",
       "    <tr>\n",
       "      <th>2</th>\n",
       "      <td>1992</td>\n",
       "      <td>1.89</td>\n",
       "      <td>1.73</td>\n",
       "      <td>3.56</td>\n",
       "      <td>3.27</td>\n",
       "      <td>4.53</td>\n",
       "      <td>3.58</td>\n",
       "      <td>1.50</td>\n",
       "      <td>2.65</td>\n",
       "      <td>3.06</td>\n",
       "      <td>1.13</td>\n",
       "    </tr>\n",
       "    <tr>\n",
       "      <th>3</th>\n",
       "      <td>1993</td>\n",
       "      <td>1.73</td>\n",
       "      <td>1.57</td>\n",
       "      <td>3.41</td>\n",
       "      <td>3.07</td>\n",
       "      <td>3.68</td>\n",
       "      <td>4.16</td>\n",
       "      <td>1.56</td>\n",
       "      <td>2.88</td>\n",
       "      <td>2.84</td>\n",
       "      <td>1.11</td>\n",
       "    </tr>\n",
       "    <tr>\n",
       "      <th>4</th>\n",
       "      <td>1994</td>\n",
       "      <td>1.84</td>\n",
       "      <td>1.45</td>\n",
       "      <td>3.59</td>\n",
       "      <td>3.52</td>\n",
       "      <td>3.70</td>\n",
       "      <td>4.36</td>\n",
       "      <td>1.48</td>\n",
       "      <td>2.87</td>\n",
       "      <td>2.99</td>\n",
       "      <td>1.11</td>\n",
       "    </tr>\n",
       "    <tr>\n",
       "      <th>5</th>\n",
       "      <td>1995</td>\n",
       "      <td>1.95</td>\n",
       "      <td>1.53</td>\n",
       "      <td>4.26</td>\n",
       "      <td>3.96</td>\n",
       "      <td>4.00</td>\n",
       "      <td>4.43</td>\n",
       "      <td>1.11</td>\n",
       "      <td>2.94</td>\n",
       "      <td>3.21</td>\n",
       "      <td>1.15</td>\n",
       "    </tr>\n",
       "    <tr>\n",
       "      <th>6</th>\n",
       "      <td>1996</td>\n",
       "      <td>2.12</td>\n",
       "      <td>1.61</td>\n",
       "      <td>4.41</td>\n",
       "      <td>3.94</td>\n",
       "      <td>4.39</td>\n",
       "      <td>3.64</td>\n",
       "      <td>1.25</td>\n",
       "      <td>3.18</td>\n",
       "      <td>3.34</td>\n",
       "      <td>1.23</td>\n",
       "    </tr>\n",
       "    <tr>\n",
       "      <th>7</th>\n",
       "      <td>1997</td>\n",
       "      <td>2.05</td>\n",
       "      <td>1.62</td>\n",
       "      <td>4.00</td>\n",
       "      <td>3.53</td>\n",
       "      <td>4.07</td>\n",
       "      <td>3.26</td>\n",
       "      <td>1.47</td>\n",
       "      <td>3.34</td>\n",
       "      <td>3.83</td>\n",
       "      <td>1.23</td>\n",
       "    </tr>\n",
       "    <tr>\n",
       "      <th>8</th>\n",
       "      <td>1998</td>\n",
       "      <td>1.63</td>\n",
       "      <td>1.38</td>\n",
       "      <td>3.87</td>\n",
       "      <td>3.34</td>\n",
       "      <td>3.84</td>\n",
       "      <td>2.82</td>\n",
       "      <td>1.49</td>\n",
       "      <td>3.04</td>\n",
       "      <td>4.06</td>\n",
       "      <td>1.06</td>\n",
       "    </tr>\n",
       "    <tr>\n",
       "      <th>9</th>\n",
       "      <td>1999</td>\n",
       "      <td>1.72</td>\n",
       "      <td>1.52</td>\n",
       "      <td>3.85</td>\n",
       "      <td>3.42</td>\n",
       "      <td>3.87</td>\n",
       "      <td>3.27</td>\n",
       "      <td>1.79</td>\n",
       "      <td>3.80</td>\n",
       "      <td>4.29</td>\n",
       "      <td>1.17</td>\n",
       "    </tr>\n",
       "    <tr>\n",
       "      <th>10</th>\n",
       "      <td>2000</td>\n",
       "      <td>1.94</td>\n",
       "      <td>1.86</td>\n",
       "      <td>3.80</td>\n",
       "      <td>3.45</td>\n",
       "      <td>3.77</td>\n",
       "      <td>3.65</td>\n",
       "      <td>2.01</td>\n",
       "      <td>4.18</td>\n",
       "      <td>4.58</td>\n",
       "      <td>1.51</td>\n",
       "    </tr>\n",
       "    <tr>\n",
       "      <th>11</th>\n",
       "      <td>2001</td>\n",
       "      <td>1.71</td>\n",
       "      <td>1.72</td>\n",
       "      <td>3.51</td>\n",
       "      <td>3.40</td>\n",
       "      <td>3.57</td>\n",
       "      <td>3.27</td>\n",
       "      <td>2.20</td>\n",
       "      <td>3.76</td>\n",
       "      <td>4.13</td>\n",
       "      <td>1.46</td>\n",
       "    </tr>\n",
       "    <tr>\n",
       "      <th>12</th>\n",
       "      <td>2002</td>\n",
       "      <td>1.76</td>\n",
       "      <td>1.69</td>\n",
       "      <td>3.62</td>\n",
       "      <td>3.67</td>\n",
       "      <td>3.74</td>\n",
       "      <td>3.15</td>\n",
       "      <td>2.24</td>\n",
       "      <td>3.84</td>\n",
       "      <td>4.16</td>\n",
       "      <td>1.36</td>\n",
       "    </tr>\n",
       "    <tr>\n",
       "      <th>13</th>\n",
       "      <td>2003</td>\n",
       "      <td>2.19</td>\n",
       "      <td>1.99</td>\n",
       "      <td>4.35</td>\n",
       "      <td>4.59</td>\n",
       "      <td>4.53</td>\n",
       "      <td>3.47</td>\n",
       "      <td>2.04</td>\n",
       "      <td>4.11</td>\n",
       "      <td>4.70</td>\n",
       "      <td>1.59</td>\n",
       "    </tr>\n",
       "    <tr>\n",
       "      <th>14</th>\n",
       "      <td>2004</td>\n",
       "      <td>2.72</td>\n",
       "      <td>2.37</td>\n",
       "      <td>4.99</td>\n",
       "      <td>5.24</td>\n",
       "      <td>5.29</td>\n",
       "      <td>3.93</td>\n",
       "      <td>2.03</td>\n",
       "      <td>4.51</td>\n",
       "      <td>5.56</td>\n",
       "      <td>1.88</td>\n",
       "    </tr>\n",
       "    <tr>\n",
       "      <th>15</th>\n",
       "      <td>2005</td>\n",
       "      <td>3.23</td>\n",
       "      <td>2.89</td>\n",
       "      <td>5.46</td>\n",
       "      <td>5.66</td>\n",
       "      <td>5.74</td>\n",
       "      <td>4.28</td>\n",
       "      <td>2.22</td>\n",
       "      <td>5.28</td>\n",
       "      <td>5.97</td>\n",
       "      <td>2.30</td>\n",
       "    </tr>\n",
       "    <tr>\n",
       "      <th>16</th>\n",
       "      <td>2006</td>\n",
       "      <td>3.54</td>\n",
       "      <td>3.26</td>\n",
       "      <td>5.88</td>\n",
       "      <td>6.03</td>\n",
       "      <td>6.10</td>\n",
       "      <td>4.47</td>\n",
       "      <td>2.31</td>\n",
       "      <td>5.92</td>\n",
       "      <td>6.36</td>\n",
       "      <td>2.59</td>\n",
       "    </tr>\n",
       "    <tr>\n",
       "      <th>17</th>\n",
       "      <td>2007</td>\n",
       "      <td>3.85</td>\n",
       "      <td>3.59</td>\n",
       "      <td>6.60</td>\n",
       "      <td>6.88</td>\n",
       "      <td>6.73</td>\n",
       "      <td>4.49</td>\n",
       "      <td>2.40</td>\n",
       "      <td>6.21</td>\n",
       "      <td>7.13</td>\n",
       "      <td>2.80</td>\n",
       "    </tr>\n",
       "    <tr>\n",
       "      <th>18</th>\n",
       "      <td>2008</td>\n",
       "      <td>4.45</td>\n",
       "      <td>4.08</td>\n",
       "      <td>7.51</td>\n",
       "      <td>7.75</td>\n",
       "      <td>7.63</td>\n",
       "      <td>5.74</td>\n",
       "      <td>2.45</td>\n",
       "      <td>5.83</td>\n",
       "      <td>7.42</td>\n",
       "      <td>3.27</td>\n",
       "    </tr>\n",
       "  </tbody>\n",
       "</table>\n",
       "</div>"
      ],
      "text/plain": [
       "    Year  Australia  Canada  France  Germany  Italy  Japan  Mexico  \\\n",
       "0   1990        NaN    1.87    3.63     2.65   4.59   3.16    1.00   \n",
       "1   1991       1.96    1.92    3.45     2.90   4.50   3.46    1.30   \n",
       "2   1992       1.89    1.73    3.56     3.27   4.53   3.58    1.50   \n",
       "3   1993       1.73    1.57    3.41     3.07   3.68   4.16    1.56   \n",
       "4   1994       1.84    1.45    3.59     3.52   3.70   4.36    1.48   \n",
       "5   1995       1.95    1.53    4.26     3.96   4.00   4.43    1.11   \n",
       "6   1996       2.12    1.61    4.41     3.94   4.39   3.64    1.25   \n",
       "7   1997       2.05    1.62    4.00     3.53   4.07   3.26    1.47   \n",
       "8   1998       1.63    1.38    3.87     3.34   3.84   2.82    1.49   \n",
       "9   1999       1.72    1.52    3.85     3.42   3.87   3.27    1.79   \n",
       "10  2000       1.94    1.86    3.80     3.45   3.77   3.65    2.01   \n",
       "11  2001       1.71    1.72    3.51     3.40   3.57   3.27    2.20   \n",
       "12  2002       1.76    1.69    3.62     3.67   3.74   3.15    2.24   \n",
       "13  2003       2.19    1.99    4.35     4.59   4.53   3.47    2.04   \n",
       "14  2004       2.72    2.37    4.99     5.24   5.29   3.93    2.03   \n",
       "15  2005       3.23    2.89    5.46     5.66   5.74   4.28    2.22   \n",
       "16  2006       3.54    3.26    5.88     6.03   6.10   4.47    2.31   \n",
       "17  2007       3.85    3.59    6.60     6.88   6.73   4.49    2.40   \n",
       "18  2008       4.45    4.08    7.51     7.75   7.63   5.74    2.45   \n",
       "\n",
       "    South Korea    UK   USA  \n",
       "0          2.05  2.82  1.16  \n",
       "1          2.49  3.01  1.14  \n",
       "2          2.65  3.06  1.13  \n",
       "3          2.88  2.84  1.11  \n",
       "4          2.87  2.99  1.11  \n",
       "5          2.94  3.21  1.15  \n",
       "6          3.18  3.34  1.23  \n",
       "7          3.34  3.83  1.23  \n",
       "8          3.04  4.06  1.06  \n",
       "9          3.80  4.29  1.17  \n",
       "10         4.18  4.58  1.51  \n",
       "11         3.76  4.13  1.46  \n",
       "12         3.84  4.16  1.36  \n",
       "13         4.11  4.70  1.59  \n",
       "14         4.51  5.56  1.88  \n",
       "15         5.28  5.97  2.30  \n",
       "16         5.92  6.36  2.59  \n",
       "17         6.21  7.13  2.80  \n",
       "18         5.83  7.42  3.27  "
      ]
     },
     "execution_count": 29,
     "metadata": {},
     "output_type": "execute_result"
    }
   ],
   "source": [
    "gas"
   ]
  },
  {
   "cell_type": "code",
   "execution_count": 38,
   "id": "73b2abbb",
   "metadata": {},
   "outputs": [
    {
     "data": {
      "text/plain": [
       "<AxesSubplot:>"
      ]
     },
     "execution_count": 38,
     "metadata": {},
     "output_type": "execute_result"
    },
    {
     "data": {
      "image/png": "[encoded data removed]",
      "text/plain": [
       "<Figure size 432x288 with 1 Axes>"
      ]
     },
     "metadata": {
      "needs_background": "light"
     },
     "output_type": "display_data"
    }
   ],
   "source": [
    "gas['USA'].plot()"
   ]
  },
  {
   "cell_type": "code",
   "execution_count": 99,
   "id": "a433cc9c",
   "metadata": {},
   "outputs": [
    {
     "data": {
      "text/plain": [
       "<AxesSubplot:xlabel='Year'>"
      ]
     },
     "execution_count": 99,
     "metadata": {},
     "output_type": "execute_result"
    },
    {
     "data": {
      "image/png": "[encoded data removed]",
      "text/plain": [
       "<Figure size 432x288 with 1 Axes>"
      ]
     },
     "metadata": {
      "needs_background": "light"
     },
     "output_type": "display_data"
    }
   ],
   "source": [
    "gas['USA'].plot(kind='bar',ylim=1,xlabel='Year')"
   ]
  },
  {
   "cell_type": "code",
   "execution_count": 202,
   "id": "f9976288",
   "metadata": {},
   "outputs": [
    {
     "data": {
      "image/png": "[encoded data removed]",
      "text/plain": [
       "<Figure size 1152x360 with 1 Axes>"
      ]
     },
     "metadata": {
      "needs_background": "light"
     },
     "output_type": "display_data"
    }
   ],
   "source": [
    "x = gas['Year']\n",
    "y = gas['USA']\n",
    "y2 = gas['UK']\n",
    "\n",
    "plt.figure(figsize=(16,5))\n",
    "plt.title('Gas Price from 1990 to 2008',fontdict={'fontsize':20,'fontweight':'bold'})\n",
    "\n",
    "plt.plot(x,y,'.-g',label='USA')\n",
    "plt.plot(x,y2,'o--r',label='United Kingdom')\n",
    "plt.legend(['USA','UK'])\n",
    "\n",
    "plt.xlabel('Year')\n",
    "plt.ylabel('Gas Prices in USA')\n",
    "plt.xticks(x)\n",
    "#plt.yticks(y)\n",
    "plt.xticks(x[::2].tolist()+[2014])\n",
    "\n",
    "\n",
    "plt.grid()\n",
    "plt.show()"
   ]
  },
  {
   "cell_type": "markdown",
   "id": "a37a4135",
   "metadata": {},
   "source": [
    "#### Scatter/Plot of all countries"
   ]
  },
  {
   "cell_type": "code",
   "execution_count": 208,
   "id": "c5f5e5e3",
   "metadata": {},
   "outputs": [
    {
     "data": {
      "image/png": "[encoded data removed]",
      "text/plain": [
       "<Figure size 1152x360 with 1 Axes>"
      ]
     },
     "metadata": {
      "needs_background": "light"
     },
     "output_type": "display_data"
    },
    {
     "data": {
      "text/plain": [
       "<Figure size 432x288 with 0 Axes>"
      ]
     },
     "metadata": {},
     "output_type": "display_data"
    }
   ],
   "source": [
    "countries = list(gas.columns[1:])\n",
    "plt.figure(figsize=(16,5))\n",
    "plt.title('Gas prices from 1990 to 2008')\n",
    "plt.xticks(x[::2])\n",
    "\n",
    "for country in countries:\n",
    "    plt.scatter(gas['Year'],gas[country],label=[country])\n",
    "\n",
    "plt.legend()\n",
    "plt.grid()\n",
    "plt.show()\n",
    "plt.savefig('Gas prices from 1990 to 2008.png',dpi=300)"
   ]
  },
  {
   "cell_type": "markdown",
   "id": "b663cfe8",
   "metadata": {},
   "source": [
    "#### Hist"
   ]
  },
  {
   "cell_type": "code",
   "execution_count": 263,
   "id": "4fff5ff9",
   "metadata": {},
   "outputs": [
    {
     "data": {
      "image/png": "[encoded data removed]",
      "text/plain": [
       "<Figure size 432x288 with 1 Axes>"
      ]
     },
     "metadata": {
      "needs_background": "light"
     },
     "output_type": "display_data"
    }
   ],
   "source": [
    "plt.hist(gas['USA'],color='y')\n",
    "plt.title('Gas prices in 1990-2008')\n",
    "plt.xlabel('USA gas prices')\n",
    "plt.ylabel('Number')\n",
    "plt.show()"
   ]
  },
  {
   "cell_type": "markdown",
   "id": "1ca97885",
   "metadata": {},
   "source": [
    "#### Pie charts"
   ]
  },
  {
   "cell_type": "code",
   "execution_count": 275,
   "id": "2f4b914e",
   "metadata": {},
   "outputs": [
    {
     "data": {
      "image/png": "[encoded data removed]",
      "text/plain": [
       "<Figure size 640x480 with 1 Axes>"
      ]
     },
     "metadata": {},
     "output_type": "display_data"
    },
    {
     "data": {
      "text/plain": [
       "<Figure size 2000x1000 with 0 Axes>"
      ]
     },
     "metadata": {},
     "output_type": "display_data"
    }
   ],
   "source": [
    "plt.pie(gas['USA'],autopct='%.2f %%')\n",
    "plt.style.use('ggplot')\n",
    "plt.title('The percentage of each year/gas price')\n",
    "plt.figure(figsize=(20,10))\n",
    "plt.show()"
   ]
  },
  {
   "cell_type": "markdown",
   "id": "a86cfc55",
   "metadata": {},
   "source": [
    "#### Boxplot"
   ]
  },
  {
   "cell_type": "code",
   "execution_count": 301,
   "id": "f9cf020c",
   "metadata": {},
   "outputs": [
    {
     "data": {
      "image/png": "[encoded data removed]",
      "text/plain": [
       "<Figure size 640x480 with 1 Axes>"
      ]
     },
     "metadata": {},
     "output_type": "display_data"
    }
   ],
   "source": [
    "labels = ['USA','UK','Canada']\n",
    "plt.boxplot(gas[['USA','UK','Canada']],labels=labels)\n",
    "plt.title('Boxplot of specify countries')\n",
    "plt.xlabel('County')\n",
    "plt.ylabel('Price')\n",
    "plt.show()"
   ]
  },
  {
   "cell_type": "code",
   "execution_count": null,
   "id": "c2a8a3b7",
   "metadata": {},
   "outputs": [],
   "source": []
  },
  {
   "cell_type": "markdown",
   "id": "2dc3fcc5",
   "metadata": {},
   "source": [
    "# FIFA "
   ]
  },
  {
   "cell_type": "code",
   "execution_count": 259,
   "id": "45cb1350",
   "metadata": {},
   "outputs": [],
   "source": [
    "fifa = pd.read_csv('matplotlib/fifa_data.csv')"
   ]
  },
  {
   "cell_type": "code",
   "execution_count": 260,
   "id": "9caca819",
   "metadata": {},
   "outputs": [
    {
     "data": {
      "text/plain": [
       "((18207, 89),\n",
       " Index(['Unnamed: 0', 'ID', 'Name', 'Age', 'Photo', 'Nationality', 'Flag',\n",
       "        'Overall', 'Potential', 'Club', 'Club Logo', 'Value', 'Wage', 'Special',\n",
       "        'Preferred Foot', 'International Reputation', 'Weak Foot',\n",
       "        'Skill Moves', 'Work Rate', 'Body Type', 'Real Face', 'Position',\n",
       "        'Jersey Number', 'Joined', 'Loaned From', 'Contract Valid Until',\n",
       "        'Height', 'Weight', 'LS', 'ST', 'RS', 'LW', 'LF', 'CF', 'RF', 'RW',\n",
       "        'LAM', 'CAM', 'RAM', 'LM', 'LCM', 'CM', 'RCM', 'RM', 'LWB', 'LDM',\n",
       "        'CDM', 'RDM', 'RWB', 'LB', 'LCB', 'CB', 'RCB', 'RB', 'Crossing',\n",
       "        'Finishing', 'HeadingAccuracy', 'ShortPassing', 'Volleys', 'Dribbling',\n",
       "        'Curve', 'FKAccuracy', 'LongPassing', 'BallControl', 'Acceleration',\n",
       "        'SprintSpeed', 'Agility', 'Reactions', 'Balance', 'ShotPower',\n",
       "        'Jumping', 'Stamina', 'Strength', 'LongShots', 'Aggression',\n",
       "        'Interceptions', 'Positioning', 'Vision', 'Penalties', 'Composure',\n",
       "        'Marking', 'StandingTackle', 'SlidingTackle', 'GKDiving', 'GKHandling',\n",
       "        'GKKicking', 'GKPositioning', 'GKReflexes', 'Release Clause'],\n",
       "       dtype='object'))"
      ]
     },
     "execution_count": 260,
     "metadata": {},
     "output_type": "execute_result"
    }
   ],
   "source": [
    "fifa.shape , fifa.columns"
   ]
  },
  {
   "cell_type": "code",
   "execution_count": 261,
   "id": "85879b67",
   "metadata": {},
   "outputs": [],
   "source": [
    "#fifa.drop(columns=['Unnamed: 0','ID','Photo','Flag','Club Logo'],inplace=True)"
   ]
  },
  {
   "cell_type": "markdown",
   "id": "7eff2345",
   "metadata": {},
   "source": [
    "### List all information of Messi"
   ]
  },
  {
   "cell_type": "code",
   "execution_count": 3,
   "id": "122b0e36",
   "metadata": {},
   "outputs": [
    {
     "data": {
      "text/plain": [
       "Unnamed: 0                                                     0\n",
       "ID                                                        158023\n",
       "Name                                                    L. Messi\n",
       "Age                                                           31\n",
       "Photo             https://cdn.sofifa.org/players/4/19/158023.png\n",
       "                                       ...                      \n",
       "GKHandling                                                  11.0\n",
       "GKKicking                                                   15.0\n",
       "GKPositioning                                               14.0\n",
       "GKReflexes                                                   8.0\n",
       "Release Clause                                           €226.5M\n",
       "Name: 0, Length: 89, dtype: object"
      ]
     },
     "execution_count": 3,
     "metadata": {},
     "output_type": "execute_result"
    }
   ],
   "source": [
    "fifa[fifa['Name']=='L. Messi']\n",
    "fifa.loc[0]"
   ]
  },
  {
   "cell_type": "code",
   "execution_count": 4,
   "id": "4315515c",
   "metadata": {},
   "outputs": [
    {
     "name": "stdout",
     "output_type": "stream",
     "text": [
      "Unnamed: 0 : 0\n",
      "ID : 158023\n",
      "Name : L. Messi\n",
      "Age : 31\n",
      "Photo : https://cdn.sofifa.org/players/4/19/158023.png\n",
      "Nationality : Argentina\n",
      "Flag : https://cdn.sofifa.org/flags/52.png\n",
      "Overall : 94\n",
      "Potential : 94\n",
      "Club : FC Barcelona\n",
      "Club Logo : https://cdn.sofifa.org/teams/2/light/241.png\n",
      "Value : €110.5M\n",
      "Wage : €565K\n",
      "Special : 2202\n",
      "Preferred Foot : Left\n",
      "International Reputation : 5.0\n",
      "Weak Foot : 4.0\n",
      "Skill Moves : 4.0\n",
      "Work Rate : Medium/ Medium\n",
      "Body Type : Messi\n",
      "Real Face : Yes\n",
      "Position : RF\n",
      "Jersey Number : 10.0\n",
      "Joined : Jul 1, 2004\n",
      "Loaned From : nan\n",
      "Contract Valid Until : 2021\n",
      "Height : 5'7\n",
      "Weight : 159lbs\n",
      "LS : 88+2\n",
      "ST : 88+2\n",
      "RS : 88+2\n",
      "LW : 92+2\n",
      "LF : 93+2\n",
      "CF : 93+2\n",
      "RF : 93+2\n",
      "RW : 92+2\n",
      "LAM : 93+2\n",
      "CAM : 93+2\n",
      "RAM : 93+2\n",
      "LM : 91+2\n",
      "LCM : 84+2\n",
      "CM : 84+2\n",
      "RCM : 84+2\n",
      "RM : 91+2\n",
      "LWB : 64+2\n",
      "LDM : 61+2\n",
      "CDM : 61+2\n",
      "RDM : 61+2\n",
      "RWB : 64+2\n",
      "LB : 59+2\n",
      "LCB : 47+2\n",
      "CB : 47+2\n",
      "RCB : 47+2\n",
      "RB : 59+2\n",
      "Crossing : 84.0\n",
      "Finishing : 95.0\n",
      "HeadingAccuracy : 70.0\n",
      "ShortPassing : 90.0\n",
      "Volleys : 86.0\n",
      "Dribbling : 97.0\n",
      "Curve : 93.0\n",
      "FKAccuracy : 94.0\n",
      "LongPassing : 87.0\n",
      "BallControl : 96.0\n",
      "Acceleration : 91.0\n",
      "SprintSpeed : 86.0\n",
      "Agility : 91.0\n",
      "Reactions : 95.0\n",
      "Balance : 95.0\n",
      "ShotPower : 85.0\n",
      "Jumping : 68.0\n",
      "Stamina : 72.0\n",
      "Strength : 59.0\n",
      "LongShots : 94.0\n",
      "Aggression : 48.0\n",
      "Interceptions : 22.0\n",
      "Positioning : 94.0\n",
      "Vision : 94.0\n",
      "Penalties : 75.0\n",
      "Composure : 96.0\n",
      "Marking : 33.0\n",
      "StandingTackle : 28.0\n",
      "SlidingTackle : 26.0\n",
      "GKDiving : 6.0\n",
      "GKHandling : 11.0\n",
      "GKKicking : 15.0\n",
      "GKPositioning : 14.0\n",
      "GKReflexes : 8.0\n",
      "Release Clause : €226.5M\n"
     ]
    }
   ],
   "source": [
    "messi = fifa.loc[0]\n",
    "cols = fifa.columns\n",
    "for i,info in enumerate(messi):\n",
    "    print(cols[i], ':', info)"
   ]
  },
  {
   "cell_type": "code",
   "execution_count": 264,
   "id": "0742ad33",
   "metadata": {},
   "outputs": [
    {
     "ename": "IndentationError",
     "evalue": "expected an indented block (3623467000.py, line 6)",
     "output_type": "error",
     "traceback": [
      "\u001b[1;36m  Input \u001b[1;32mIn [264]\u001b[1;36m\u001b[0m\n\u001b[1;33m    #print(cols[i], ':', info)\u001b[0m\n\u001b[1;37m                              ^\u001b[0m\n\u001b[1;31mIndentationError\u001b[0m\u001b[1;31m:\u001b[0m expected an indented block\n"
     ]
    }
   ],
   "source": [
    "cols = fifa.columns\n",
    "for i,row in fifa.iterrows():\n",
    "    if row['Name'] == 'L. Messi':\n",
    "        messi = row[:]\n",
    "        for i,info in enumerate(messi):\n",
    "            #print(cols[i], ':', info)"
   ]
  },
  {
   "cell_type": "markdown",
   "id": "8a4da910",
   "metadata": {},
   "source": [
    "### List all info of specified player"
   ]
  },
  {
   "cell_type": "code",
   "execution_count": 7,
   "id": "c3c82f10",
   "metadata": {},
   "outputs": [],
   "source": [
    "def player(name):\n",
    "    cols = fifa.columns\n",
    "    for i,row in fifa.iterrows():\n",
    "        if row['Name'] == name:\n",
    "            player_info = row[:]\n",
    "            for i,info in enumerate(player_info):\n",
    "                print(cols[i],':',info)\n",
    "    else :\n",
    "        print(\"This name does not exist\")\n"
   ]
  },
  {
   "cell_type": "code",
   "execution_count": 8,
   "id": "60432f54",
   "metadata": {},
   "outputs": [
    {
     "name": "stdout",
     "output_type": "stream",
     "text": [
      "Unnamed: 0 : 2\n",
      "ID : 190871\n",
      "Name : Neymar Jr\n",
      "Age : 26\n",
      "Photo : https://cdn.sofifa.org/players/4/19/190871.png\n",
      "Nationality : Brazil\n",
      "Flag : https://cdn.sofifa.org/flags/54.png\n",
      "Overall : 92\n",
      "Potential : 93\n",
      "Club : Paris Saint-Germain\n",
      "Club Logo : https://cdn.sofifa.org/teams/2/light/73.png\n",
      "Value : €118.5M\n",
      "Wage : €290K\n",
      "Special : 2143\n",
      "Preferred Foot : Right\n",
      "International Reputation : 5.0\n",
      "Weak Foot : 5.0\n",
      "Skill Moves : 5.0\n",
      "Work Rate : High/ Medium\n",
      "Body Type : Neymar\n",
      "Real Face : Yes\n",
      "Position : LW\n",
      "Jersey Number : 10.0\n",
      "Joined : Aug 3, 2017\n",
      "Loaned From : nan\n",
      "Contract Valid Until : 2022\n",
      "Height : 5'9\n",
      "Weight : 150lbs\n",
      "LS : 84+3\n",
      "ST : 84+3\n",
      "RS : 84+3\n",
      "LW : 89+3\n",
      "LF : 89+3\n",
      "CF : 89+3\n",
      "RF : 89+3\n",
      "RW : 89+3\n",
      "LAM : 89+3\n",
      "CAM : 89+3\n",
      "RAM : 89+3\n",
      "LM : 88+3\n",
      "LCM : 81+3\n",
      "CM : 81+3\n",
      "RCM : 81+3\n",
      "RM : 88+3\n",
      "LWB : 65+3\n",
      "LDM : 60+3\n",
      "CDM : 60+3\n",
      "RDM : 60+3\n",
      "RWB : 65+3\n",
      "LB : 60+3\n",
      "LCB : 47+3\n",
      "CB : 47+3\n",
      "RCB : 47+3\n",
      "RB : 60+3\n",
      "Crossing : 79.0\n",
      "Finishing : 87.0\n",
      "HeadingAccuracy : 62.0\n",
      "ShortPassing : 84.0\n",
      "Volleys : 84.0\n",
      "Dribbling : 96.0\n",
      "Curve : 88.0\n",
      "FKAccuracy : 87.0\n",
      "LongPassing : 78.0\n",
      "BallControl : 95.0\n",
      "Acceleration : 94.0\n",
      "SprintSpeed : 90.0\n",
      "Agility : 96.0\n",
      "Reactions : 94.0\n",
      "Balance : 84.0\n",
      "ShotPower : 80.0\n",
      "Jumping : 61.0\n",
      "Stamina : 81.0\n",
      "Strength : 49.0\n",
      "LongShots : 82.0\n",
      "Aggression : 56.0\n",
      "Interceptions : 36.0\n",
      "Positioning : 89.0\n",
      "Vision : 87.0\n",
      "Penalties : 81.0\n",
      "Composure : 94.0\n",
      "Marking : 27.0\n",
      "StandingTackle : 24.0\n",
      "SlidingTackle : 33.0\n",
      "GKDiving : 9.0\n",
      "GKHandling : 9.0\n",
      "GKKicking : 15.0\n",
      "GKPositioning : 15.0\n",
      "GKReflexes : 11.0\n",
      "Release Clause : €228.1M\n",
      "This name does not exist\n"
     ]
    }
   ],
   "source": [
    "player('Neymar Jr')"
   ]
  },
  {
   "cell_type": "code",
   "execution_count": 267,
   "id": "63992fbd",
   "metadata": {},
   "outputs": [],
   "source": [
    "fifa.drop(columns=['Unnamed: 0','ID','Photo','Flag','Club Logo','LS','ST','RS','LW','LF', 'CF', 'RF', 'RW', \n",
    "                   'LAM', 'CAM', 'RAM', 'LM', 'LCM', 'CM', 'RCM','RM', 'LWB', 'LDM', 'CDM', 'RDM', 'RWB', \n",
    "                    'LB', 'LCB', 'CB', 'RCB', 'RB',],inplace=True)"
   ]
  },
  {
   "cell_type": "code",
   "execution_count": null,
   "id": "3e9f4b75",
   "metadata": {},
   "outputs": [],
   "source": []
  },
  {
   "cell_type": "code",
   "execution_count": 268,
   "id": "235e618a",
   "metadata": {},
   "outputs": [
    {
     "data": {
      "text/plain": [
       "Index(['Name', 'Age', 'Nationality', 'Overall', 'Potential', 'Club', 'Value',\n",
       "       'Wage', 'Special', 'Preferred Foot', 'International Reputation',\n",
       "       'Weak Foot', 'Skill Moves', 'Work Rate', 'Body Type', 'Real Face',\n",
       "       'Position', 'Jersey Number', 'Joined', 'Loaned From',\n",
       "       'Contract Valid Until', 'Height', 'Weight', 'Crossing', 'Finishing',\n",
       "       'HeadingAccuracy', 'ShortPassing', 'Volleys', 'Dribbling', 'Curve',\n",
       "       'FKAccuracy', 'LongPassing', 'BallControl', 'Acceleration',\n",
       "       'SprintSpeed', 'Agility', 'Reactions', 'Balance', 'ShotPower',\n",
       "       'Jumping', 'Stamina', 'Strength', 'LongShots', 'Aggression',\n",
       "       'Interceptions', 'Positioning', 'Vision', 'Penalties', 'Composure',\n",
       "       'Marking', 'StandingTackle', 'SlidingTackle', 'GKDiving', 'GKHandling',\n",
       "       'GKKicking', 'GKPositioning', 'GKReflexes', 'Release Clause'],\n",
       "      dtype='object')"
      ]
     },
     "execution_count": 268,
     "metadata": {},
     "output_type": "execute_result"
    }
   ],
   "source": [
    "fifa.columns"
   ]
  },
  {
   "cell_type": "markdown",
   "id": "48cfe0b2",
   "metadata": {},
   "source": [
    "### The country has the most value of players"
   ]
  },
  {
   "cell_type": "code",
   "execution_count": 376,
   "id": "efb1dace",
   "metadata": {},
   "outputs": [],
   "source": [
    "fifa = pd.read_csv('matplotlib/fifa_data.csv')\n",
    "fifa.drop(columns=['Unnamed: 0','ID','Photo','Flag','Club Logo','LS','ST','RS','LW','LF', 'CF', 'RF', 'RW', \n",
    "                   'LAM', 'CAM', 'RAM', 'LM', 'LCM', 'CM', 'RCM','RM', 'LWB', 'LDM', 'CDM', 'RDM', 'RWB', \n",
    "                    'LB', 'LCB', 'CB', 'RCB', 'RB',],inplace=True)"
   ]
  },
  {
   "cell_type": "code",
   "execution_count": 377,
   "id": "d0ea884c",
   "metadata": {},
   "outputs": [
    {
     "data": {
      "text/plain": [
       "0        €110.5M\n",
       "1           €77M\n",
       "2        €118.5M\n",
       "3           €72M\n",
       "4          €102M\n",
       "          ...   \n",
       "18202       €60K\n",
       "18203       €60K\n",
       "18204       €60K\n",
       "18205       €60K\n",
       "18206       €60K\n",
       "Name: Value, Length: 18207, dtype: object"
      ]
     },
     "execution_count": 377,
     "metadata": {},
     "output_type": "execute_result"
    }
   ],
   "source": [
    "fifa['Value']"
   ]
  },
  {
   "cell_type": "code",
   "execution_count": 382,
   "id": "0dba3d8a",
   "metadata": {},
   "outputs": [],
   "source": [
    "fifa['Value'] = fifa['Value'].apply(lambda x:x.replace('.',','))"
   ]
  },
  {
   "cell_type": "code",
   "execution_count": 401,
   "id": "6f00459c",
   "metadata": {},
   "outputs": [
    {
     "data": {
      "text/plain": [
       "'M'"
      ]
     },
     "execution_count": 401,
     "metadata": {},
     "output_type": "execute_result"
    }
   ],
   "source": [
    "fifa['Value'][0][-1]"
   ]
  },
  {
   "cell_type": "code",
   "execution_count": 427,
   "id": "6ab3ab58",
   "metadata": {},
   "outputs": [
    {
     "data": {
      "text/plain": [
       "0        [€110, 5M]\n",
       "1            [€77M]\n",
       "2        [€118, 5M]\n",
       "3            [€72M]\n",
       "4           [€102M]\n",
       "            ...    \n",
       "18202        [€60K]\n",
       "18203        [€60K]\n",
       "18204        [€60K]\n",
       "18205        [€60K]\n",
       "18206        [€60K]\n",
       "Name: Value, Length: 18207, dtype: object"
      ]
     },
     "execution_count": 427,
     "metadata": {},
     "output_type": "execute_result"
    }
   ],
   "source": [
    "fifa['Value'].apply(lambda x:x.split(','))"
   ]
  },
  {
   "cell_type": "code",
   "execution_count": null,
   "id": "27b260df",
   "metadata": {},
   "outputs": [],
   "source": []
  },
  {
   "cell_type": "code",
   "execution_count": null,
   "id": "2b065708",
   "metadata": {},
   "outputs": [],
   "source": []
  },
  {
   "cell_type": "code",
   "execution_count": 341,
   "id": "da635d8d",
   "metadata": {},
   "outputs": [],
   "source": [
    "fifa['Value'] = fifa['Value'].apply(lambda x:x.replace('K','000'))\n",
    "fifa['Value'] = fifa['Value'].apply(lambda x:x.replace('M','000000'))\n",
    "fifa['Value'] = fifa['Value'].apply(lambda x:x.strip('€'))\n",
    "#fifa['Value'] = fifa['Value'].apply(lambda x:x.replace('.',','))"
   ]
  },
  {
   "cell_type": "code",
   "execution_count": 342,
   "id": "2ba57931",
   "metadata": {},
   "outputs": [
    {
     "data": {
      "text/plain": [
       "0        110.5000000\n",
       "1           77000000\n",
       "2        118.5000000\n",
       "3           72000000\n",
       "4          102000000\n",
       "            ...     \n",
       "18202          60000\n",
       "18203          60000\n",
       "18204          60000\n",
       "18205          60000\n",
       "18206          60000\n",
       "Name: Value, Length: 18207, dtype: object"
      ]
     },
     "execution_count": 342,
     "metadata": {},
     "output_type": "execute_result"
    }
   ],
   "source": [
    "fifa['Value']"
   ]
  },
  {
   "cell_type": "code",
   "execution_count": 361,
   "id": "7859df44",
   "metadata": {},
   "outputs": [],
   "source": [
    "fifa['Value'] = fifa['Value'].apply(lambda x:x.replace('.',','))\n",
    "df = fifa[~fifa['Value'].str.contains(',')]\n",
    "df['Value'] = pd.to_numeric(df['Value'])\n",
    "df['Value']"
   ]
  },
  {
   "cell_type": "code",
   "execution_count": 375,
   "id": "15fd2822",
   "metadata": {},
   "outputs": [
    {
     "data": {
      "text/html": [
       "<div>\n",
       "<style scoped>\n",
       "    .dataframe tbody tr th:only-of-type {\n",
       "        vertical-align: middle;\n",
       "    }\n",
       "\n",
       "    .dataframe tbody tr th {\n",
       "        vertical-align: top;\n",
       "    }\n",
       "\n",
       "    .dataframe thead th {\n",
       "        text-align: right;\n",
       "    }\n",
       "</style>\n",
       "<table border=\"1\" class=\"dataframe\">\n",
       "  <thead>\n",
       "    <tr style=\"text-align: right;\">\n",
       "      <th></th>\n",
       "      <th>Age</th>\n",
       "      <th>Overall</th>\n",
       "      <th>Potential</th>\n",
       "      <th>Value</th>\n",
       "      <th>Special</th>\n",
       "      <th>International Reputation</th>\n",
       "      <th>Weak Foot</th>\n",
       "      <th>Skill Moves</th>\n",
       "      <th>Jersey Number</th>\n",
       "      <th>Crossing</th>\n",
       "      <th>...</th>\n",
       "      <th>Penalties</th>\n",
       "      <th>Composure</th>\n",
       "      <th>Marking</th>\n",
       "      <th>StandingTackle</th>\n",
       "      <th>SlidingTackle</th>\n",
       "      <th>GKDiving</th>\n",
       "      <th>GKHandling</th>\n",
       "      <th>GKKicking</th>\n",
       "      <th>GKPositioning</th>\n",
       "      <th>GKReflexes</th>\n",
       "    </tr>\n",
       "    <tr>\n",
       "      <th>Nationality</th>\n",
       "      <th></th>\n",
       "      <th></th>\n",
       "      <th></th>\n",
       "      <th></th>\n",
       "      <th></th>\n",
       "      <th></th>\n",
       "      <th></th>\n",
       "      <th></th>\n",
       "      <th></th>\n",
       "      <th></th>\n",
       "      <th></th>\n",
       "      <th></th>\n",
       "      <th></th>\n",
       "      <th></th>\n",
       "      <th></th>\n",
       "      <th></th>\n",
       "      <th></th>\n",
       "      <th></th>\n",
       "      <th></th>\n",
       "      <th></th>\n",
       "      <th></th>\n",
       "    </tr>\n",
       "  </thead>\n",
       "  <tbody>\n",
       "    <tr>\n",
       "      <th>Spain</th>\n",
       "      <td>16604</td>\n",
       "      <td>45188</td>\n",
       "      <td>48868</td>\n",
       "      <td>2424050000</td>\n",
       "      <td>1070046</td>\n",
       "      <td>760.0</td>\n",
       "      <td>1990.0</td>\n",
       "      <td>1562.0</td>\n",
       "      <td>12686.0</td>\n",
       "      <td>34248.0</td>\n",
       "      <td>...</td>\n",
       "      <td>32627.0</td>\n",
       "      <td>38627.0</td>\n",
       "      <td>32177.0</td>\n",
       "      <td>32531.0</td>\n",
       "      <td>31306.0</td>\n",
       "      <td>11809.0</td>\n",
       "      <td>11819.0</td>\n",
       "      <td>11518.0</td>\n",
       "      <td>11749.0</td>\n",
       "      <td>11823.0</td>\n",
       "    </tr>\n",
       "    <tr>\n",
       "      <th>France</th>\n",
       "      <td>14870</td>\n",
       "      <td>40319</td>\n",
       "      <td>44194</td>\n",
       "      <td>1944955000</td>\n",
       "      <td>961627</td>\n",
       "      <td>717.0</td>\n",
       "      <td>1763.0</td>\n",
       "      <td>1386.0</td>\n",
       "      <td>11884.0</td>\n",
       "      <td>29708.0</td>\n",
       "      <td>...</td>\n",
       "      <td>29367.0</td>\n",
       "      <td>35306.0</td>\n",
       "      <td>28229.0</td>\n",
       "      <td>29375.0</td>\n",
       "      <td>28338.0</td>\n",
       "      <td>10636.0</td>\n",
       "      <td>10441.0</td>\n",
       "      <td>10391.0</td>\n",
       "      <td>10480.0</td>\n",
       "      <td>10726.0</td>\n",
       "    </tr>\n",
       "    <tr>\n",
       "      <th>Germany</th>\n",
       "      <td>21965</td>\n",
       "      <td>58754</td>\n",
       "      <td>64356</td>\n",
       "      <td>1618110000</td>\n",
       "      <td>1387683</td>\n",
       "      <td>995.0</td>\n",
       "      <td>2861.0</td>\n",
       "      <td>1995.0</td>\n",
       "      <td>18209.0</td>\n",
       "      <td>42099.0</td>\n",
       "      <td>...</td>\n",
       "      <td>40191.0</td>\n",
       "      <td>49190.0</td>\n",
       "      <td>41357.0</td>\n",
       "      <td>42128.0</td>\n",
       "      <td>40116.0</td>\n",
       "      <td>16951.0</td>\n",
       "      <td>16567.0</td>\n",
       "      <td>16066.0</td>\n",
       "      <td>16322.0</td>\n",
       "      <td>16954.0</td>\n",
       "    </tr>\n",
       "    <tr>\n",
       "      <th>Brazil</th>\n",
       "      <td>11555</td>\n",
       "      <td>28615</td>\n",
       "      <td>29511</td>\n",
       "      <td>1387675000</td>\n",
       "      <td>680479</td>\n",
       "      <td>471.0</td>\n",
       "      <td>1190.0</td>\n",
       "      <td>1011.0</td>\n",
       "      <td>8003.0</td>\n",
       "      <td>20862.0</td>\n",
       "      <td>...</td>\n",
       "      <td>22158.0</td>\n",
       "      <td>25754.0</td>\n",
       "      <td>19213.0</td>\n",
       "      <td>20075.0</td>\n",
       "      <td>19285.0</td>\n",
       "      <td>7237.0</td>\n",
       "      <td>6968.0</td>\n",
       "      <td>7046.0</td>\n",
       "      <td>7054.0</td>\n",
       "      <td>7420.0</td>\n",
       "    </tr>\n",
       "    <tr>\n",
       "      <th>Argentina</th>\n",
       "      <td>14792</td>\n",
       "      <td>37889</td>\n",
       "      <td>40981</td>\n",
       "      <td>1235960000</td>\n",
       "      <td>893626</td>\n",
       "      <td>638.0</td>\n",
       "      <td>1601.0</td>\n",
       "      <td>1294.0</td>\n",
       "      <td>9430.0</td>\n",
       "      <td>27016.0</td>\n",
       "      <td>...</td>\n",
       "      <td>28345.0</td>\n",
       "      <td>32723.0</td>\n",
       "      <td>26477.0</td>\n",
       "      <td>26152.0</td>\n",
       "      <td>25366.0</td>\n",
       "      <td>10432.0</td>\n",
       "      <td>10213.0</td>\n",
       "      <td>10158.0</td>\n",
       "      <td>10436.0</td>\n",
       "      <td>10397.0</td>\n",
       "    </tr>\n",
       "    <tr>\n",
       "      <th>...</th>\n",
       "      <td>...</td>\n",
       "      <td>...</td>\n",
       "      <td>...</td>\n",
       "      <td>...</td>\n",
       "      <td>...</td>\n",
       "      <td>...</td>\n",
       "      <td>...</td>\n",
       "      <td>...</td>\n",
       "      <td>...</td>\n",
       "      <td>...</td>\n",
       "      <td>...</td>\n",
       "      <td>...</td>\n",
       "      <td>...</td>\n",
       "      <td>...</td>\n",
       "      <td>...</td>\n",
       "      <td>...</td>\n",
       "      <td>...</td>\n",
       "      <td>...</td>\n",
       "      <td>...</td>\n",
       "      <td>...</td>\n",
       "      <td>...</td>\n",
       "    </tr>\n",
       "    <tr>\n",
       "      <th>Indonesia</th>\n",
       "      <td>17</td>\n",
       "      <td>56</td>\n",
       "      <td>74</td>\n",
       "      <td>180000</td>\n",
       "      <td>1380</td>\n",
       "      <td>1.0</td>\n",
       "      <td>3.0</td>\n",
       "      <td>3.0</td>\n",
       "      <td>10.0</td>\n",
       "      <td>40.0</td>\n",
       "      <td>...</td>\n",
       "      <td>47.0</td>\n",
       "      <td>58.0</td>\n",
       "      <td>19.0</td>\n",
       "      <td>47.0</td>\n",
       "      <td>52.0</td>\n",
       "      <td>10.0</td>\n",
       "      <td>13.0</td>\n",
       "      <td>8.0</td>\n",
       "      <td>15.0</td>\n",
       "      <td>9.0</td>\n",
       "    </tr>\n",
       "    <tr>\n",
       "      <th>Botswana</th>\n",
       "      <td>20</td>\n",
       "      <td>56</td>\n",
       "      <td>68</td>\n",
       "      <td>160000</td>\n",
       "      <td>1526</td>\n",
       "      <td>1.0</td>\n",
       "      <td>3.0</td>\n",
       "      <td>2.0</td>\n",
       "      <td>33.0</td>\n",
       "      <td>40.0</td>\n",
       "      <td>...</td>\n",
       "      <td>50.0</td>\n",
       "      <td>50.0</td>\n",
       "      <td>45.0</td>\n",
       "      <td>48.0</td>\n",
       "      <td>42.0</td>\n",
       "      <td>10.0</td>\n",
       "      <td>7.0</td>\n",
       "      <td>9.0</td>\n",
       "      <td>6.0</td>\n",
       "      <td>6.0</td>\n",
       "    </tr>\n",
       "    <tr>\n",
       "      <th>Philippines</th>\n",
       "      <td>19</td>\n",
       "      <td>57</td>\n",
       "      <td>68</td>\n",
       "      <td>150000</td>\n",
       "      <td>1531</td>\n",
       "      <td>1.0</td>\n",
       "      <td>3.0</td>\n",
       "      <td>2.0</td>\n",
       "      <td>26.0</td>\n",
       "      <td>51.0</td>\n",
       "      <td>...</td>\n",
       "      <td>36.0</td>\n",
       "      <td>41.0</td>\n",
       "      <td>54.0</td>\n",
       "      <td>58.0</td>\n",
       "      <td>52.0</td>\n",
       "      <td>15.0</td>\n",
       "      <td>12.0</td>\n",
       "      <td>10.0</td>\n",
       "      <td>7.0</td>\n",
       "      <td>12.0</td>\n",
       "    </tr>\n",
       "    <tr>\n",
       "      <th>Puerto Rico</th>\n",
       "      <td>34</td>\n",
       "      <td>63</td>\n",
       "      <td>63</td>\n",
       "      <td>110000</td>\n",
       "      <td>1492</td>\n",
       "      <td>1.0</td>\n",
       "      <td>2.0</td>\n",
       "      <td>2.0</td>\n",
       "      <td>12.0</td>\n",
       "      <td>56.0</td>\n",
       "      <td>...</td>\n",
       "      <td>44.0</td>\n",
       "      <td>59.0</td>\n",
       "      <td>59.0</td>\n",
       "      <td>62.0</td>\n",
       "      <td>61.0</td>\n",
       "      <td>9.0</td>\n",
       "      <td>12.0</td>\n",
       "      <td>6.0</td>\n",
       "      <td>10.0</td>\n",
       "      <td>9.0</td>\n",
       "    </tr>\n",
       "    <tr>\n",
       "      <th>India</th>\n",
       "      <td>748</td>\n",
       "      <td>1760</td>\n",
       "      <td>1908</td>\n",
       "      <td>0</td>\n",
       "      <td>42084</td>\n",
       "      <td>30.0</td>\n",
       "      <td>89.0</td>\n",
       "      <td>57.0</td>\n",
       "      <td>276.0</td>\n",
       "      <td>1221.0</td>\n",
       "      <td>...</td>\n",
       "      <td>1343.0</td>\n",
       "      <td>1513.0</td>\n",
       "      <td>1171.0</td>\n",
       "      <td>1173.0</td>\n",
       "      <td>1125.0</td>\n",
       "      <td>504.0</td>\n",
       "      <td>486.0</td>\n",
       "      <td>494.0</td>\n",
       "      <td>518.0</td>\n",
       "      <td>492.0</td>\n",
       "    </tr>\n",
       "  </tbody>\n",
       "</table>\n",
       "<p>157 rows × 43 columns</p>\n",
       "</div>"
      ],
      "text/plain": [
       "               Age  Overall  Potential       Value  Special  \\\n",
       "Nationality                                                   \n",
       "Spain        16604    45188      48868  2424050000  1070046   \n",
       "France       14870    40319      44194  1944955000   961627   \n",
       "Germany      21965    58754      64356  1618110000  1387683   \n",
       "Brazil       11555    28615      29511  1387675000   680479   \n",
       "Argentina    14792    37889      40981  1235960000   893626   \n",
       "...            ...      ...        ...         ...      ...   \n",
       "Indonesia       17       56         74      180000     1380   \n",
       "Botswana        20       56         68      160000     1526   \n",
       "Philippines     19       57         68      150000     1531   \n",
       "Puerto Rico     34       63         63      110000     1492   \n",
       "India          748     1760       1908           0    42084   \n",
       "\n",
       "             International Reputation  Weak Foot  Skill Moves  Jersey Number  \\\n",
       "Nationality                                                                    \n",
       "Spain                           760.0     1990.0       1562.0        12686.0   \n",
       "France                          717.0     1763.0       1386.0        11884.0   \n",
       "Germany                         995.0     2861.0       1995.0        18209.0   \n",
       "Brazil                          471.0     1190.0       1011.0         8003.0   \n",
       "Argentina                       638.0     1601.0       1294.0         9430.0   \n",
       "...                               ...        ...          ...            ...   \n",
       "Indonesia                         1.0        3.0          3.0           10.0   \n",
       "Botswana                          1.0        3.0          2.0           33.0   \n",
       "Philippines                       1.0        3.0          2.0           26.0   \n",
       "Puerto Rico                       1.0        2.0          2.0           12.0   \n",
       "India                            30.0       89.0         57.0          276.0   \n",
       "\n",
       "             Crossing  ...  Penalties  Composure  Marking  StandingTackle  \\\n",
       "Nationality            ...                                                  \n",
       "Spain         34248.0  ...    32627.0    38627.0  32177.0         32531.0   \n",
       "France        29708.0  ...    29367.0    35306.0  28229.0         29375.0   \n",
       "Germany       42099.0  ...    40191.0    49190.0  41357.0         42128.0   \n",
       "Brazil        20862.0  ...    22158.0    25754.0  19213.0         20075.0   \n",
       "Argentina     27016.0  ...    28345.0    32723.0  26477.0         26152.0   \n",
       "...               ...  ...        ...        ...      ...             ...   \n",
       "Indonesia        40.0  ...       47.0       58.0     19.0            47.0   \n",
       "Botswana         40.0  ...       50.0       50.0     45.0            48.0   \n",
       "Philippines      51.0  ...       36.0       41.0     54.0            58.0   \n",
       "Puerto Rico      56.0  ...       44.0       59.0     59.0            62.0   \n",
       "India          1221.0  ...     1343.0     1513.0   1171.0          1173.0   \n",
       "\n",
       "             SlidingTackle  GKDiving  GKHandling  GKKicking  GKPositioning  \\\n",
       "Nationality                                                                  \n",
       "Spain              31306.0   11809.0     11819.0    11518.0        11749.0   \n",
       "France             28338.0   10636.0     10441.0    10391.0        10480.0   \n",
       "Germany            40116.0   16951.0     16567.0    16066.0        16322.0   \n",
       "Brazil             19285.0    7237.0      6968.0     7046.0         7054.0   \n",
       "Argentina          25366.0   10432.0     10213.0    10158.0        10436.0   \n",
       "...                    ...       ...         ...        ...            ...   \n",
       "Indonesia             52.0      10.0        13.0        8.0           15.0   \n",
       "Botswana              42.0      10.0         7.0        9.0            6.0   \n",
       "Philippines           52.0      15.0        12.0       10.0            7.0   \n",
       "Puerto Rico           61.0       9.0        12.0        6.0           10.0   \n",
       "India               1125.0     504.0       486.0      494.0          518.0   \n",
       "\n",
       "             GKReflexes  \n",
       "Nationality              \n",
       "Spain           11823.0  \n",
       "France          10726.0  \n",
       "Germany         16954.0  \n",
       "Brazil           7420.0  \n",
       "Argentina       10397.0  \n",
       "...                 ...  \n",
       "Indonesia           9.0  \n",
       "Botswana            6.0  \n",
       "Philippines        12.0  \n",
       "Puerto Rico         9.0  \n",
       "India             492.0  \n",
       "\n",
       "[157 rows x 43 columns]"
      ]
     },
     "execution_count": 375,
     "metadata": {},
     "output_type": "execute_result"
    }
   ],
   "source": [
    "df.groupby('Nationality').sum().sort_values('Value',ascending=False)"
   ]
  },
  {
   "cell_type": "code",
   "execution_count": null,
   "id": "e64f0fdf",
   "metadata": {},
   "outputs": [],
   "source": []
  },
  {
   "cell_type": "code",
   "execution_count": null,
   "id": "2a8940c8",
   "metadata": {},
   "outputs": [],
   "source": []
  },
  {
   "cell_type": "code",
   "execution_count": null,
   "id": "8382db80",
   "metadata": {},
   "outputs": [],
   "source": []
  },
  {
   "cell_type": "code",
   "execution_count": null,
   "id": "80997bea",
   "metadata": {},
   "outputs": [],
   "source": []
  },
  {
   "cell_type": "code",
   "execution_count": null,
   "id": "02d7b415",
   "metadata": {},
   "outputs": [],
   "source": []
  }
 ],
 "metadata": {
  "kernelspec": {
   "display_name": "Python 3 (ipykernel)",
   "language": "python",
   "name": "python3"
  },
  "language_info": {
   "codemirror_mode": {
    "name": "ipython",
    "version": 3
   },
   "file_extension": ".py",
   "mimetype": "text/x-python",
   "name": "python",
   "nbconvert_exporter": "python",
   "pygments_lexer": "ipython3",
   "version": "3.9.12"
  }
 },
 "nbformat": 4,
 "nbformat_minor": 5
}
