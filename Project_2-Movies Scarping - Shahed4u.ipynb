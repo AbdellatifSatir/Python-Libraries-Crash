{
 "cells": [
  {
   "cell_type": "code",
   "execution_count": 1,
   "id": "827571a7",
   "metadata": {},
   "outputs": [],
   "source": [
    "from bs4 import BeautifulSoup as bs\n",
    "import requests as req\n",
    "from selenium import webdriver\n",
    "from selenium.webdriver.common.by import By\n",
    "from selenium.webdriver.chrome.options import Options\n",
    "from selenium.webdriver.support.ui import WebDriverWait\n",
    "from selenium.webdriver.support import expected_conditions as EC"
   ]
  },
  {
   "cell_type": "code",
   "execution_count": 2,
   "id": "2750fa49",
   "metadata": {},
   "outputs": [],
   "source": [
    "import pandas as pd"
   ]
  },
  {
   "cell_type": "code",
   "execution_count": 3,
   "id": "f51022e2",
   "metadata": {},
   "outputs": [],
   "source": [
    "import warnings\n",
    "warnings.filterwarnings('ignore')"
   ]
  },
  {
   "cell_type": "markdown",
   "id": "2d681e58",
   "metadata": {},
   "source": [
    "## Website study"
   ]
  },
  {
   "cell_type": "code",
   "execution_count": 4,
   "id": "85cb55de",
   "metadata": {},
   "outputs": [
    {
     "data": {
      "text/plain": [
       "<div class=\"content-box\">\n",
       "<a class=\"fullClick\" href=\"https://shahed4uu.shop/%d8%a7%d9%86%d9%85%d9%8a-%d9%88%d9%86-%d8%a8%d9%8a%d8%b3-one-piece-%d8%a7%d9%84%d8%ad%d9%84%d9%82%d8%a9-1052-%d9%85%d8%aa%d8%b1%d8%ac%d9%85%d8%a9/\" title=\"انمي ون بيس One Piece الحلقة 1052 مترجمة\"></a>\n",
       "<a class=\"image\" href=\"https://shahed4uu.shop/%d8%a7%d9%86%d9%85%d9%8a-%d9%88%d9%86-%d8%a8%d9%8a%d8%b3-one-piece-%d8%a7%d9%84%d8%ad%d9%84%d9%82%d8%a9-1052-%d9%85%d8%aa%d8%b1%d8%ac%d9%85%d8%a9/\">\n",
       "<img alt=\"انمي ون بيس One Piece الحلقة 1052 مترجمة\" class=\"imgInit\" data-image=\"https://shahed4uu.shop/wp-content/uploads/2021/08/MV5BODcwNWE3OTMtMDc3MS00NDFjLWE1OTAtNDU3NjgxODMxY2UyXkEyXkFqcGdeQXVyNTAyODkwOQ@@._V1_SX700-367x550.jpg\"/>\n",
       "</a>\n",
       "<span class=\"rate ti-star\">8.8</span>\n",
       "<span class=\"category\">مسلسلات انمي</span>\n",
       "<span class=\"episode-block\"><span>الحلقة </span><span>1052</span></span>\n",
       "<a class=\"ti-slow-motion play-btn\" href=\"https://shahed4uu.shop/%d8%a7%d9%86%d9%85%d9%8a-%d9%88%d9%86-%d8%a8%d9%8a%d8%b3-one-piece-%d8%a7%d9%84%d8%ad%d9%84%d9%82%d8%a9-1052-%d9%85%d8%aa%d8%b1%d8%ac%d9%85%d8%a9/\"></a>\n",
       "<div class=\"hvr\">\n",
       "<div class=\"genres\">\n",
       "<span>اكشن</span>\n",
       "<span>دراما</span>\n",
       "<span>فانتازيا</span>\n",
       "</div>\n",
       "<a href=\"https://shahed4uu.shop/%d8%a7%d9%86%d9%85%d9%8a-%d9%88%d9%86-%d8%a8%d9%8a%d8%b3-one-piece-%d8%a7%d9%84%d8%ad%d9%84%d9%82%d8%a9-1052-%d9%85%d8%aa%d8%b1%d8%ac%d9%85%d8%a9/\"><h3>انمي ون بيس One Piece الحلقة 1052 مترجمة</h3></a>\n",
       "</div>\n",
       "</div>"
      ]
     },
     "execution_count": 4,
     "metadata": {},
     "output_type": "execute_result"
    }
   ],
   "source": [
    "site = 'https://shahed4uu.click/?s=one+piece' #exp.one piece\n",
    "home_page = req.get(site)\n",
    "home_page.content\n",
    "soup = bs(home_page.content,'lxml')\n",
    "#soup\n",
    "#//div[@class='content-box']  ->  #conatin all info (episode number,image,...)\n",
    "ep_info = soup.find('div',class_='content-box') \n",
    "ep_info"
   ]
  },
  {
   "cell_type": "code",
   "execution_count": 5,
   "id": "a98b27be",
   "metadata": {},
   "outputs": [
    {
     "name": "stdout",
     "output_type": "stream",
     "text": [
      "https://shahed4uu.shop/%d8%a7%d9%86%d9%85%d9%8a-%d9%88%d9%86-%d8%a8%d9%8a%d8%b3-one-piece-%d8%a7%d9%84%d8%ad%d9%84%d9%82%d8%a9-1052-%d9%85%d8%aa%d8%b1%d8%ac%d9%85%d8%a9/\n",
      "انمي ون بيس One Piece الحلقة 1052 مترجمة\n"
     ]
    }
   ],
   "source": [
    "soup.find('a',class_='fullClick')\n",
    "ep_link = soup.find('a',class_='fullClick')['href']\n",
    "ep_title = soup.find('a',class_='fullClick')['title']\n",
    "print(ep_link)\n",
    "print(ep_title)"
   ]
  },
  {
   "cell_type": "code",
   "execution_count": 6,
   "id": "c70aeff0",
   "metadata": {},
   "outputs": [
    {
     "name": "stdout",
     "output_type": "stream",
     "text": [
      "https://shahed4uu.shop/wp-content/uploads/2021/08/MV5BODcwNWE3OTMtMDc3MS00NDFjLWE1OTAtNDU3NjgxODMxY2UyXkEyXkFqcGdeQXVyNTAyODkwOQ@@._V1_SX700-367x550.jpg\n",
      "انمي ون بيس One Piece الحلقة 1052 مترجمة\n",
      "https://shahed4uu.shop/%d8%a7%d9%86%d9%85%d9%8a-%d9%88%d9%86-%d8%a8%d9%8a%d8%b3-one-piece-%d8%a7%d9%84%d8%ad%d9%84%d9%82%d8%a9-1052-%d9%85%d8%aa%d8%b1%d8%ac%d9%85%d8%a9/\n"
     ]
    }
   ],
   "source": [
    "soup.find('a',class_='image')\n",
    "image_link = soup.find('a',class_='image').img['data-image']\n",
    "ep_title2 = soup.find('a',class_='image').img['alt']\n",
    "ep_link2 = soup.find('a',class_='image')['href']\n",
    "print(image_link)\n",
    "print(ep_title2)\n",
    "print(ep_link2)\n",
    "#https://shahed4uu.click/انمي-ون-بيس-one-piece-الحلقة-1049-مترجمة/\n",
    "#https://shahed4uu.click/انمي-ون-بيس-one-piece-الحلقة-1048-مترجمة/watch/"
   ]
  },
  {
   "cell_type": "code",
   "execution_count": 7,
   "id": "0ae55a89",
   "metadata": {},
   "outputs": [
    {
     "name": "stdout",
     "output_type": "stream",
     "text": [
      "مسلسلات انمي\n",
      "الحلقة 1052\n",
      "8.8\n"
     ]
    }
   ],
   "source": [
    "category = soup.find('span',class_='category').text\n",
    "ep_number = soup.find('span',class_='episode-block').text\n",
    "ep_rating = soup.find('span',class_='rate ti-star').text\n",
    "print(category)\n",
    "print(ep_number)\n",
    "print(ep_rating)"
   ]
  },
  {
   "cell_type": "code",
   "execution_count": 8,
   "id": "d7687a28",
   "metadata": {},
   "outputs": [],
   "source": [
    "# https://shahed4uu.click/مشاهدة-فيلم-pirates-of-the-caribbean-on-stranger-tides-2011-مترجم/watch/\n",
    "# https://shahed4uu.click/انمي-ون-بيس-one-piece-الحلقة-1048-مترجمة/watch/    \n",
    "# https://shahed4uu.click/انمي-death-note-الحلقة-1/watch/"
   ]
  },
  {
   "cell_type": "markdown",
   "id": "18015070",
   "metadata": {},
   "source": [
    "## Testing"
   ]
  },
  {
   "cell_type": "code",
   "execution_count": 10,
   "id": "4dc27d23",
   "metadata": {},
   "outputs": [
    {
     "name": "stdout",
     "output_type": "stream",
     "text": [
      "Movie Name : death note\n",
      "https://shahed4uu.click/page/1/?s=death note\n"
     ]
    }
   ],
   "source": [
    "movie_name = input('Movie Name : ')\n",
    "url = f'https://shahed4uu.click/page/1/?s={movie_name}'\n",
    "episodes = req.get(url)\n",
    "soup = bs(episodes.content,'lxml')\n",
    "#last_page = int(list(soup.find('ul',class_='page-numbers'))[-4].text)\n",
    "# print(last_page) range(1,last_page+1)\n",
    "# https://shahed4uu.click/page/2/?s=one+piece\n",
    "print(url)"
   ]
  },
  {
   "cell_type": "code",
   "execution_count": 11,
   "id": "1b97fabb",
   "metadata": {},
   "outputs": [
    {
     "data": {
      "text/html": [
       "<div>\n",
       "<style scoped>\n",
       "    .dataframe tbody tr th:only-of-type {\n",
       "        vertical-align: middle;\n",
       "    }\n",
       "\n",
       "    .dataframe tbody tr th {\n",
       "        vertical-align: top;\n",
       "    }\n",
       "\n",
       "    .dataframe thead th {\n",
       "        text-align: right;\n",
       "    }\n",
       "</style>\n",
       "<table border=\"1\" class=\"dataframe\">\n",
       "  <thead>\n",
       "    <tr style=\"text-align: right;\">\n",
       "      <th></th>\n",
       "      <th>title</th>\n",
       "      <th>image</th>\n",
       "    </tr>\n",
       "  </thead>\n",
       "  <tbody>\n",
       "    <tr>\n",
       "      <th>0</th>\n",
       "      <td>1</td>\n",
       "      <td>4</td>\n",
       "    </tr>\n",
       "    <tr>\n",
       "      <th>1</th>\n",
       "      <td>2</td>\n",
       "      <td>5</td>\n",
       "    </tr>\n",
       "    <tr>\n",
       "      <th>2</th>\n",
       "      <td>3</td>\n",
       "      <td>6</td>\n",
       "    </tr>\n",
       "  </tbody>\n",
       "</table>\n",
       "</div>"
      ],
      "text/plain": [
       "   title  image\n",
       "0      1      4\n",
       "1      2      5\n",
       "2      3      6"
      ]
     },
     "execution_count": 11,
     "metadata": {},
     "output_type": "execute_result"
    }
   ],
   "source": [
    "a = [1,2,3]\n",
    "b = [4,5,6]\n",
    "dictt = {\n",
    "    \"title\" : a,\n",
    "    \"image\" : b\n",
    "}\n",
    "pd.DataFrame(dictt)"
   ]
  },
  {
   "cell_type": "code",
   "execution_count": 12,
   "id": "29e9509a",
   "metadata": {},
   "outputs": [
    {
     "name": "stdout",
     "output_type": "stream",
     "text": [
      "Episode page(contians watch and download links) :  https://shahed4uu.homes/%d8%a7%d9%86%d9%85%d9%8a-%d9%88%d9%86-%d8%a8%d9%8a%d8%b3-one-piece-%d8%a7%d9%84%d8%ad%d9%84%d9%82%d8%a9-1049-%d9%85%d8%aa%d8%b1%d8%ac%d9%85%d8%a9/\n",
      "link for watching the episode(contains iframe #document) :  https://shahed4uu.shop/%d8%a7%d9%86%d9%85%d9%8a-%d9%88%d9%86-%d8%a8%d9%8a%d8%b3-one-piece-%d8%a7%d9%84%d8%ad%d9%84%d9%82%d8%a9-1049-%d9%85%d8%aa%d8%b1%d8%ac%d9%85%d8%a9/watch/\n",
      "=======================================================\n",
      "Iframe source(.html): https://vidhd.best/embed-e73eqzhyjl2b.html\n",
      "Video source (.mp4): https://s2.e-amzn-cdn.net/kmxsurznpbumwmesrl3uyzfohi43ntvwqfmgyivwqkic42zv2wyceluyfqwq/v.mp4\n",
      "CPU times: total: 906 ms\n",
      "Wall time: 39.4 s\n"
     ]
    }
   ],
   "source": [
    "%%time\n",
    "## 1 https://shahed4uu.click/page/1/?s=one+piece ,we are already scrape info from this page  ##\n",
    "\n",
    "## 2 Navigate to ep_link (contains watch and download liks) we want to scrape watching link ##\n",
    "ep_page_links = 'https://shahed4uu.homes/%d8%a7%d9%86%d9%85%d9%8a-%d9%88%d9%86-%d8%a8%d9%8a%d8%b3-one-piece-%d8%a7%d9%84%d8%ad%d9%84%d9%82%d8%a9-1049-%d9%85%d8%aa%d8%b1%d8%ac%d9%85%d8%a9/'\n",
    "eachlink = req.get(ep_page_links)\n",
    "soup_2 = bs(eachlink.content,'lxml')\n",
    "watching_link = soup_2.find('a',class_='btns-play watch-btn primary btn')['href']\n",
    "print('Episode page(contians watch and download links) : ',ep_page_links)\n",
    "print('link for watching the episode(contains iframe #document) : ',watching_link)\n",
    "\n",
    "\n",
    "## 3 Navitage to watching_link (contains watching servers) we want to scrape servers links iframes ##\n",
    "    ## access problem the solution is using selenium\n",
    "print('=======================================================')\n",
    "# Method 2 :we will use this method for time minimization (without opening the browser)\n",
    "video_page = watching_link\n",
    "path = r\"C:\\Users\\pc\\Downloads\\chromedriver_win32 (1)\\chromedriver.exe\"\n",
    "options = Options()\n",
    "options.headless = True\n",
    "driver = webdriver.Chrome(path,options=options)\n",
    "driver.get(video_page)\n",
    "\n",
    "iframe = WebDriverWait(driver, 10).until(EC.presence_of_element_located((By.TAG_NAME, \"iframe\")))\n",
    "if iframe:\n",
    "    iframe_src = iframe.get_attribute(\"src\")\n",
    "    print(\"Iframe source(.html):\", iframe_src)\n",
    "    driver.switch_to.frame(iframe)\n",
    "    page_source = driver.page_source\n",
    "    soup_3 = bs(page_source, \"html.parser\")\n",
    "    video = soup_3.find(\"video\")\n",
    "    if video:\n",
    "        video_src = video[\"src\"]\n",
    "        print(\"Video source (.mp4):\", video_src)\n",
    "    else:\n",
    "        print(\"No video tag found in the iframe.\")\n",
    "else:\n",
    "    print(\"No iframe found on the page.\")\n",
    "\n",
    "driver.quit()"
   ]
  },
  {
   "cell_type": "code",
   "execution_count": 13,
   "id": "b0e8b4fe",
   "metadata": {
    "scrolled": true
   },
   "outputs": [
    {
     "name": "stdout",
     "output_type": "stream",
     "text": [
      "Video page (.html) :  https://vidhd.best/embed-e73eqzhyjl2b.html\n",
      "No video tag found in the iframe.\n",
      "CPU times: total: 125 ms\n",
      "Wall time: 1min 20s\n"
     ]
    }
   ],
   "source": [
    "%%time\n",
    "# Method 1 :this way take a lot of time (with opening browser)\n",
    "\n",
    "# video_page = watching_link\n",
    "# path = r\"C:\\Users\\pc\\Downloads\\chromedriver_win32 (1)\\chromedriver.exe\"\n",
    "# driver = webdriver.Chrome(path)\n",
    "# driver.get(video_page)\n",
    "\n",
    "# iframe = driver.find_element(By.TAG_NAME,'iframe')\n",
    "# if iframe:\n",
    "#     iframe_src = iframe.get_attribute(\"src\")\n",
    "#     print('Video page (.html) : ',iframe_src)\n",
    "# #     driver.switch_to.frame(iframe)\n",
    "#     page_source = driver.page_source\n",
    "#     soup_3 = bs(page_source, \"html.parser\")\n",
    "#     video = soup_3.find(\"video\") # video = driver.find_element(By.TAG_NAME,'video')\n",
    "#     if video:\n",
    "#         video_src = video[\"src\"]\n",
    "#         print('Video inside Iframe (.mp4) : ',video_src)\n",
    "#     else:\n",
    "#         print(\"No video tag found in the iframe.\")\n",
    "# else:\n",
    "#     print(\"No iframe found on the page.\")\n",
    "    \n",
    "    \n",
    "# driver.quit()"
   ]
  },
  {
   "cell_type": "code",
   "execution_count": 13,
   "id": "b92c5114",
   "metadata": {},
   "outputs": [
    {
     "name": "stdout",
     "output_type": "stream",
     "text": [
      "Iframe source: https://vidhd.best/embed-e73eqzhyjl2b.html\n",
      "Video source: https://s2.e-amzn-cdn.net/kmxsurznpbumwmesrl3uyzfohi43ntvwqfmgyivwqkic42zv2wyesluyfqwq/v.mp4\n",
      "CPU times: total: 31.2 ms\n",
      "Wall time: 12.8 s\n"
     ]
    }
   ],
   "source": [
    "%%time\n",
    "# Method 2 :we will use this method for time minimization (without opening browser)\n",
    "\n",
    "video_page = watching_link\n",
    "path = r\"C:\\Users\\pc\\Downloads\\chromedriver_win32 (1)\\chromedriver.exe\"\n",
    "options = Options()\n",
    "options.headless = True\n",
    "driver = webdriver.Chrome(path,options=options)\n",
    "driver.get(video_page)\n",
    "\n",
    "# iframe = WebDriverWait(driver, 10).until(EC.presence_of_element_located((By.TAG_NAME, \"iframe\")))\n",
    "iframe = driver.find_element(By.TAG_NAME,'iframe')\n",
    "if iframe:\n",
    "    iframe_src = iframe.get_attribute(\"src\")\n",
    "    print(\"Iframe source:\", iframe_src)\n",
    "    driver.switch_to.frame(iframe)\n",
    "    page_source = driver.page_source\n",
    "    soup_3 = bs(page_source, \"html.parser\")\n",
    "    video = soup_3.find(\"video\") \n",
    "#     video = driver.find_element(By.TAG_NAME,'video')\n",
    "    if video:\n",
    "        video_src = video[\"src\"]\n",
    "        print(\"Video source:\", video_src)\n",
    "    else:\n",
    "        print(\"No video tag found in the iframe.\")\n",
    "else:\n",
    "    print(\"No iframe found on the page.\")\n",
    "\n",
    "driver.quit()"
   ]
  },
  {
   "cell_type": "code",
   "execution_count": null,
   "id": "9df6dcb7",
   "metadata": {},
   "outputs": [],
   "source": []
  },
  {
   "cell_type": "code",
   "execution_count": 14,
   "id": "bb06355c",
   "metadata": {},
   "outputs": [
    {
     "data": {
      "text/plain": [
       "'https://shahed4uu.shop/%d8%a7%d9%86%d9%85%d9%8a-%d9%88%d9%86-%d8%a8%d9%8a%d8%b3-one-piece-%d8%a7%d9%84%d8%ad%d9%84%d9%82%d8%a9-1049-%d9%85%d8%aa%d8%b1%d8%ac%d9%85%d8%a9/watch/'"
      ]
     },
     "execution_count": 14,
     "metadata": {},
     "output_type": "execute_result"
    }
   ],
   "source": [
    "watching_link"
   ]
  },
  {
   "cell_type": "code",
   "execution_count": null,
   "id": "78a9ffa4",
   "metadata": {},
   "outputs": [],
   "source": []
  },
  {
   "cell_type": "markdown",
   "id": "13247c42",
   "metadata": {},
   "source": [
    "## Script"
   ]
  },
  {
   "cell_type": "code",
   "execution_count": 27,
   "id": "bc5fa6bb",
   "metadata": {
    "scrolled": true
   },
   "outputs": [
    {
     "name": "stdout",
     "output_type": "stream",
     "text": [
      "Movie Name : John Wick: Chapter 4\n",
      "Episode page(contians watch and download links) :  https://shahed4uu.shop/%d8%a7%d8%b9%d9%84%d8%a7%d9%86-%d9%81%d9%8a%d9%84%d9%85-john-wick-chapter-4-2023-%d9%85%d8%aa%d8%b1%d8%ac%d9%85/\n",
      "link for watching the episode(contains iframe #document) :  https://shahed4uu.shop/%d8%a7%d8%b9%d9%84%d8%a7%d9%86-%d9%81%d9%8a%d9%84%d9%85-john-wick-chapter-4-2023-%d9%85%d8%aa%d8%b1%d8%ac%d9%85/watch/\n",
      "=======================================================\n",
      "CPU times: total: 1.88 s\n",
      "Wall time: 21 s\n"
     ]
    }
   ],
   "source": [
    "%%time\n",
    "movie_name = input('Movie Name : ')\n",
    "\n",
    "for page in range(1,3):\n",
    "    url = f'https://shahed4uu.click/page/{page}/?s={movie_name}'\n",
    "    episodes = req.get(url)\n",
    "    soup = bs(episodes.content,'lxml')\n",
    "    infos = soup.find_all('div',class_='content-box')\n",
    "\n",
    "    for i in infos :\n",
    "        ep_title = i.find('a',class_='fullClick')['title']\n",
    "        ep_link = i.find('a',class_='fullClick')['href']\n",
    "        image = i.find('a',class_='image').img['data-image']\n",
    "        category = i.find('span',class_='category').text\n",
    "        #ep_number = i.find('span',class_='episode-block').text\n",
    "        #ep_rating = i.find('span',class_='rate ti-star').text\n",
    "        \n",
    "        \n",
    "        ### Navigating to ep_link for scrape video link inside iframe ###\n",
    "        #--------------------------------------------------------------------------------------------------#\n",
    "        ## 1 https://shahed4uu.click/page/1/?s=one+piece ,we are already scrape info from this page  ##\n",
    "\n",
    "        ## 2 Navigate to ep_link (contains watch and download liks) we want to scrape watching link ##\n",
    "        ep_page_links = ep_link\n",
    "        eachlink = req.get(ep_page_links)\n",
    "        soup_2 = bs(eachlink.content,'lxml')\n",
    "        watching_link = soup_2.find('a',class_='btns-play watch-btn primary btn')['href']\n",
    "        print('Episode page(contians watch and download links) : ',ep_page_links)\n",
    "        print('link for watching the episode(contains iframe #document) : ',watching_link)\n",
    "\n",
    "\n",
    "        ## 3 Navitage to watching_link (contains watching servers) we want to scrape servers links iframes ##\n",
    "            ## access problem the solution is using selenium\n",
    "        #print('=======================================================')\n",
    "        # Method 2 :we will use this method for time minimization (without opening the browser)\n",
    "        video_page = watching_link\n",
    "        path = r\"C:\\Users\\pc\\Downloads\\chromedriver_win32 (1)\\chromedriver.exe\"\n",
    "        options = Options()\n",
    "        options.headless = True\n",
    "        driver = webdriver.Chrome(path,options=options)\n",
    "        driver.get(video_page)\n",
    "\n",
    "        iframe = WebDriverWait(driver, 10).until(EC.presence_of_element_located((By.TAG_NAME, \"iframe\")))\n",
    "        if iframe:\n",
    "            iframe_src = iframe.get_attribute(\"src\")\n",
    "            #print(\"Iframe source(.html):\", iframe_src)\n",
    "            driver.switch_to.frame(iframe)\n",
    "            page_source = driver.page_source\n",
    "            soup_3 = bs(page_source, \"html.parser\") #html inside iframe\n",
    "            video = soup_3.find(\"video\")\n",
    "            if video:\n",
    "                video_src = video[\"src\"]\n",
    "                #print(\"Video source (.mp4):\", video_src)\n",
    "            else:\n",
    "                print(\"No video tag found in the iframe.\")\n",
    "        else:\n",
    "            print(\"No iframe found on the page.\")\n",
    "\n",
    "        driver.quit()\n",
    "        #print('=======================================================')\n",
    "        #--------------------------------------------------------------------------------------------------#\n",
    "        ### End Navigating  ###\n",
    "        \n",
    "        \n",
    "        if category=='مسلسلات انمي' or category=='مسلسلات اجنبي':\n",
    "            try:\n",
    "                ep_number = i.find('span',class_='episode-block').text\n",
    "            except Exception as e:\n",
    "                print(repr(e))\n",
    "            print(ep_title,' : ',ep_link,'\\nImage : ',image,'\\n',category,'\\n',ep_rating,'\\n',ep_number,'\\n')\n",
    "            print(\" Video source (.mp4):\", video_src , '\\n' , \"Iframe source(.html):\", iframe_src)\n",
    "            \n",
    "        if category=='افلام اجنبي' or category=='افلام انمي':\n",
    "            print(ep_title,' : ',ep_link,'\\nImage : ',image,'\\n',category,'\\n',ep_rating,'\\n')\n",
    "            print(\" Video source (.mp4):\", video_src , '\\n' , \"Iframe source(.html):\", iframe_src)\n",
    "        print('=======================================================')\n",
    "        \n",
    "        \n",
    "        "
   ]
  },
  {
   "cell_type": "code",
   "execution_count": null,
   "id": "81b1e8fd",
   "metadata": {},
   "outputs": [],
   "source": []
  },
  {
   "cell_type": "markdown",
   "id": "57355b9b",
   "metadata": {},
   "source": [
    "## just the movies (no series) less time"
   ]
  },
  {
   "cell_type": "code",
   "execution_count": 26,
   "id": "244992a7",
   "metadata": {
    "scrolled": true
   },
   "outputs": [
    {
     "name": "stdout",
     "output_type": "stream",
     "text": [
      "Movie Name : John Wick: Chapter 4\n",
      "=======================================================\n",
      "CPU times: total: 1.41 s\n",
      "Wall time: 7.69 s\n"
     ]
    }
   ],
   "source": [
    "%%time\n",
    "movie_name = input('Movie Name : ')\n",
    "\n",
    "for page in range(1,3):\n",
    "    url = f'https://shahed4uu.click/page/{page}/?s={movie_name}'\n",
    "    episodes = req.get(url)\n",
    "    soup = bs(episodes.content,'lxml')\n",
    "    infos = soup.find_all('div',class_='content-box')\n",
    "\n",
    "    for i in infos :\n",
    "        ep_title = i.find('a',class_='fullClick')['title']\n",
    "        ep_link = i.find('a',class_='fullClick')['href']\n",
    "        image = i.find('a',class_='image').img['data-image']\n",
    "        category = i.find('span',class_='category').text\n",
    "        #ep_number = i.find('span',class_='episode-block').text\n",
    "        #ep_rating = i.find('span',class_='rate ti-star').text\n",
    "        \n",
    "        if category=='افلام اجنبي' or category=='افلام انمي':\n",
    "            ### Navigating to ep_link for scrape video link inside iframe ###\n",
    "            #--------------------------------------------------------------------------------------------------#\n",
    "            ## 1 https://shahed4uu.click/page/1/?s=one+piece ,we are already scrape info from this page  ##\n",
    "\n",
    "            ## 2 Navigate to ep_link (contains watch and download liks) we want to scrape watching link ##\n",
    "            ep_page_links = ep_link\n",
    "            eachlink = req.get(ep_page_links)\n",
    "            soup_2 = bs(eachlink.content,'lxml')\n",
    "            watching_link = soup_2.find('a',class_='btns-play watch-btn primary btn')['href']\n",
    "            print('Episode page(contians watch and download links) : ',ep_page_links)\n",
    "            print('link for watching the episode(contains iframe #document) : ',watching_link)\n",
    "\n",
    "\n",
    "            ## 3 Navitage to watching_link (contains watching servers) we want to scrape servers links iframes ##\n",
    "                ## access problem the solution is using selenium\n",
    "            #print('=======================================================')\n",
    "            # Method 2 :we will use this method for time minimization (without opening the browser)\n",
    "            video_page = watching_link\n",
    "            path = r\"C:\\Users\\pc\\Downloads\\chromedriver_win32 (1)\\chromedriver.exe\"\n",
    "            options = Options()\n",
    "            options.headless = True\n",
    "            driver = webdriver.Chrome(path,options=options)\n",
    "            driver.get(video_page)\n",
    "\n",
    "            iframe = WebDriverWait(driver, 10).until(EC.presence_of_element_located((By.TAG_NAME, \"iframe\")))\n",
    "            if iframe:\n",
    "                iframe_src = iframe.get_attribute(\"src\")\n",
    "                #print(\"Iframe source(.html):\", iframe_src)\n",
    "                driver.switch_to.frame(iframe)\n",
    "                page_source = driver.page_source\n",
    "                soup_3 = bs(page_source, \"html.parser\")\n",
    "                video = soup_3.find(\"video\")\n",
    "                if video:\n",
    "                    video_src = video[\"src\"]\n",
    "                    #print(\"Video source (.mp4):\", video_src)\n",
    "                else:\n",
    "                    print(\"No video tag found in the iframe.\")\n",
    "                    video_src = 'NULL'\n",
    "                    \n",
    "#                 dictt = {\n",
    "#                     \"ep_title\" : ep_title,\n",
    "#                     \"ep_link\" : ep_link,\n",
    "#                     \"image\" : image,\n",
    "#                     \"category\" : category,\n",
    "#                     \"video_src\" : video_src\n",
    "#                 }\n",
    "#                 data = pd.DataFrame(dictt)\n",
    "            \n",
    "            else:\n",
    "                print(\"No iframe found on the page.\")\n",
    "\n",
    "            driver.quit()\n",
    "            #print('=======================================================')\n",
    "            #--------------------------------------------------------------------------------------------------#\n",
    "            ### End Navigating  ###\n",
    "            print(ep_title,' : ',ep_link,'\\nImage : ',image,'\\n',category,'\\n',ep_rating,'\\n')\n",
    "            print(\" Video source (.mp4):\", video_src , '\\n' , \"Iframe source(.html):\", iframe_src)\n",
    "        print('=======================================================')\n",
    "            \n",
    "        \n",
    "#         if category=='مسلسلات انمي' or category=='مسلسلات اجنبي':\n",
    "#             try:\n",
    "#                 ep_number = i.find('span',class_='episode-block').text\n",
    "#             except Exception as e:\n",
    "#                 print(repr(e))\n",
    "#             print(ep_title,' : ',ep_link,'\\nImage : ',image,'\\n',category,'\\n',ep_rating,'\\n',ep_number,'\\n')\n",
    "#             print(\" Video source (.mp4):\", video_src , '\\n' , \"Iframe source(.html):\", iframe_src)\n",
    "            \n",
    "#         if category=='افلام اجنبي' or category=='افلام انمي':\n",
    "#             print(ep_title,' : ',ep_link,'\\nImage : ',image,'\\n',category,'\\n',ep_rating,'\\n')\n",
    "#             print(\" Video source (.mp4):\", video_src , '\\n' , \"Iframe source(.html):\", iframe_src)\n",
    "#         print('=======================================================')\n",
    "\n"
   ]
  },
  {
   "cell_type": "code",
   "execution_count": null,
   "id": "babbebba",
   "metadata": {},
   "outputs": [],
   "source": []
  },
  {
   "cell_type": "code",
   "execution_count": null,
   "id": "2d636a85",
   "metadata": {},
   "outputs": [],
   "source": [
    "data"
   ]
  },
  {
   "cell_type": "code",
   "execution_count": null,
   "id": "ce612283",
   "metadata": {},
   "outputs": [],
   "source": []
  },
  {
   "cell_type": "code",
   "execution_count": null,
   "id": "0c41ba15",
   "metadata": {},
   "outputs": [],
   "source": [
    "death note\n",
    "CPU times: total: 25.8 s\n",
    "Wall time: 10min 28s\n",
    "\n",
    "the pirates of \n",
    "CPU times: total: 4.23 s\n",
    "Wall time: 1min 56s"
   ]
  },
  {
   "cell_type": "code",
   "execution_count": null,
   "id": "743d1a58",
   "metadata": {},
   "outputs": [],
   "source": []
  },
  {
   "cell_type": "code",
   "execution_count": null,
   "id": "d64d8df1",
   "metadata": {},
   "outputs": [],
   "source": []
  },
  {
   "cell_type": "code",
   "execution_count": null,
   "id": "8111637f",
   "metadata": {},
   "outputs": [],
   "source": [
    "test_connection = 'https://shahed4uu.click/?s=lucy'\n",
    "c = req.get(test_connection)\n",
    "c.content\n",
    "s = bs(c.content,'lxml')\n",
    "s"
   ]
  },
  {
   "cell_type": "code",
   "execution_count": null,
   "id": "6934106e",
   "metadata": {},
   "outputs": [],
   "source": []
  },
  {
   "cell_type": "code",
   "execution_count": null,
   "id": "be12c734",
   "metadata": {},
   "outputs": [],
   "source": []
  },
  {
   "cell_type": "code",
   "execution_count": null,
   "id": "9513f009",
   "metadata": {},
   "outputs": [],
   "source": []
  }
 ],
 "metadata": {
  "kernelspec": {
   "display_name": "Python 3 (ipykernel)",
   "language": "python",
   "name": "python3"
  },
  "language_info": {
   "codemirror_mode": {
    "name": "ipython",
    "version": 3
   },
   "file_extension": ".py",
   "mimetype": "text/x-python",
   "name": "python",
   "nbconvert_exporter": "python",
   "pygments_lexer": "ipython3",
   "version": "3.9.12"
  }
 },
 "nbformat": 4,
 "nbformat_minor": 5
}
