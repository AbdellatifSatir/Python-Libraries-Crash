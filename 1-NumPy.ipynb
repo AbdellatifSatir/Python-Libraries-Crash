{
 "cells": [
  {
   "cell_type": "code",
   "execution_count": 1,
   "id": "ea138e12",
   "metadata": {},
   "outputs": [],
   "source": [
    "import numpy as np"
   ]
  },
  {
   "cell_type": "markdown",
   "id": "54346723",
   "metadata": {},
   "source": [
    "### numpy vs list"
   ]
  },
  {
   "cell_type": "code",
   "execution_count": 2,
   "id": "2b07de46",
   "metadata": {},
   "outputs": [
    {
     "data": {
      "text/plain": [
       "dtype('int32')"
      ]
     },
     "execution_count": 2,
     "metadata": {},
     "output_type": "execute_result"
    }
   ],
   "source": [
    "np.array([1,2,3]).dtype"
   ]
  },
  {
   "cell_type": "code",
   "execution_count": 3,
   "id": "0ddb4d3d",
   "metadata": {},
   "outputs": [
    {
     "data": {
      "text/plain": [
       "dtype('float64')"
      ]
     },
     "execution_count": 3,
     "metadata": {},
     "output_type": "execute_result"
    }
   ],
   "source": [
    "np.array([1,2.2,3]).dtype"
   ]
  },
  {
   "cell_type": "code",
   "execution_count": 4,
   "id": "5ceda004",
   "metadata": {},
   "outputs": [
    {
     "data": {
      "text/plain": [
       "([1, 2, 3], [1, 2.2, 3])"
      ]
     },
     "execution_count": 4,
     "metadata": {},
     "output_type": "execute_result"
    }
   ],
   "source": [
    "l1 = [1,2,3]\n",
    "l2 = [1,2.2,3]\n",
    "l1 , l2"
   ]
  },
  {
   "cell_type": "code",
   "execution_count": 5,
   "id": "02344e0a",
   "metadata": {},
   "outputs": [
    {
     "data": {
      "text/plain": [
       "array([ 4, 10, 18])"
      ]
     },
     "execution_count": 5,
     "metadata": {},
     "output_type": "execute_result"
    }
   ],
   "source": [
    "#l1*l2\n",
    "np.array([1,2,3])*np.array([4,5,6])"
   ]
  },
  {
   "cell_type": "markdown",
   "id": "13f06966",
   "metadata": {},
   "source": [
    "### 2D array"
   ]
  },
  {
   "cell_type": "code",
   "execution_count": 6,
   "id": "40eba11d",
   "metadata": {},
   "outputs": [],
   "source": [
    "d2 = np.array([ [1,2,3],[4,5,6] ])"
   ]
  },
  {
   "cell_type": "code",
   "execution_count": 7,
   "id": "53c929fc",
   "metadata": {},
   "outputs": [
    {
     "data": {
      "text/plain": [
       "(2, (2, 3), dtype('int32'))"
      ]
     },
     "execution_count": 7,
     "metadata": {},
     "output_type": "execute_result"
    }
   ],
   "source": [
    "d2.ndim  , d2.shape , d2.dtype "
   ]
  },
  {
   "cell_type": "code",
   "execution_count": 8,
   "id": "6da09be4",
   "metadata": {},
   "outputs": [
    {
     "data": {
      "text/plain": [
       "(6, 4, 24)"
      ]
     },
     "execution_count": 8,
     "metadata": {},
     "output_type": "execute_result"
    }
   ],
   "source": [
    "d2.size , d2.itemsize , d2.nbytes"
   ]
  },
  {
   "cell_type": "code",
   "execution_count": 9,
   "id": "db14b719",
   "metadata": {},
   "outputs": [
    {
     "data": {
      "text/plain": [
       "(21, 1, 1.707825127659933, 3.5)"
      ]
     },
     "execution_count": 9,
     "metadata": {},
     "output_type": "execute_result"
    }
   ],
   "source": [
    " d2.sum() , d2.min() , d2.std() , d2.mean() "
   ]
  },
  {
   "cell_type": "code",
   "execution_count": 10,
   "id": "2395fef0",
   "metadata": {},
   "outputs": [
    {
     "data": {
      "text/plain": [
       "(array([1, 2, 3]), array([1, 4]))"
      ]
     },
     "execution_count": 10,
     "metadata": {},
     "output_type": "execute_result"
    }
   ],
   "source": [
    "d2.min(axis=0) , d2.min(axis=1) "
   ]
  },
  {
   "cell_type": "code",
   "execution_count": 11,
   "id": "ec18dc37",
   "metadata": {},
   "outputs": [
    {
     "data": {
      "text/plain": [
       "dtype('int8')"
      ]
     },
     "execution_count": 11,
     "metadata": {},
     "output_type": "execute_result"
    }
   ],
   "source": [
    "np.array([ [1,2,3],[4,5,6] ]  , dtype='int8').dtype"
   ]
  },
  {
   "cell_type": "code",
   "execution_count": 12,
   "id": "b01ec2ab",
   "metadata": {},
   "outputs": [
    {
     "data": {
      "text/plain": [
       "array([[1, 2, 3],\n",
       "       [4, 5, 6],\n",
       "       [7, 8, 9]])"
      ]
     },
     "execution_count": 12,
     "metadata": {},
     "output_type": "execute_result"
    }
   ],
   "source": [
    "d2 = np.array([ [1,2,3],[4,5,6],[7,8,9] ])\n",
    "d2"
   ]
  },
  {
   "cell_type": "code",
   "execution_count": 13,
   "id": "07f75697",
   "metadata": {},
   "outputs": [
    {
     "data": {
      "text/plain": [
       "(array([[1, 2],\n",
       "        [4, 5]]),\n",
       " array([[1, 2, 3],\n",
       "        [4, 5, 6]]))"
      ]
     },
     "execution_count": 13,
     "metadata": {},
     "output_type": "execute_result"
    }
   ],
   "source": [
    "d2[0:-1,0:-1,] , d2[0:-1,0:3]"
   ]
  },
  {
   "cell_type": "code",
   "execution_count": 14,
   "id": "13fe3dbc",
   "metadata": {},
   "outputs": [
    {
     "data": {
      "text/plain": [
       "(array([3, 6, 9]), array([1, 2, 3]))"
      ]
     },
     "execution_count": 14,
     "metadata": {},
     "output_type": "execute_result"
    }
   ],
   "source": [
    "d2[:,2] , d2[0,:]"
   ]
  },
  {
   "cell_type": "markdown",
   "id": "34658fe1",
   "metadata": {},
   "source": [
    "### 3D array "
   ]
  },
  {
   "cell_type": "code",
   "execution_count": 15,
   "id": "afb4def4",
   "metadata": {},
   "outputs": [
    {
     "data": {
      "text/plain": [
       "array([[[ 1,  2,  3],\n",
       "        [ 4,  5,  6]],\n",
       "\n",
       "       [[ 7,  8,  9],\n",
       "        [10, 11, 12]]])"
      ]
     },
     "execution_count": 15,
     "metadata": {},
     "output_type": "execute_result"
    }
   ],
   "source": [
    "d3 = np.array([ [[1,2,3],[4,5,6]] , [[7,8,9],[10,11,12]] ])\n",
    "d3"
   ]
  },
  {
   "cell_type": "code",
   "execution_count": 16,
   "id": "b12c5aa7",
   "metadata": {},
   "outputs": [
    {
     "data": {
      "text/plain": [
       "(3, (2, 2, 3), dtype('int32'))"
      ]
     },
     "execution_count": 16,
     "metadata": {},
     "output_type": "execute_result"
    }
   ],
   "source": [
    "d3.ndim , d3.shape , d3.dtype "
   ]
  },
  {
   "cell_type": "code",
   "execution_count": 17,
   "id": "25b80fe7",
   "metadata": {},
   "outputs": [
    {
     "data": {
      "text/plain": [
       "(3, 3, 2)"
      ]
     },
     "execution_count": 17,
     "metadata": {},
     "output_type": "execute_result"
    }
   ],
   "source": [
    "np.array([ [[1,2],[3,4],[5,6]] , [[7,8],[9,10],[11,12]] , [[7,8],[9,10],[11,12]]]).shape"
   ]
  },
  {
   "cell_type": "code",
   "execution_count": 18,
   "id": "d15ef3f1",
   "metadata": {},
   "outputs": [
    {
     "data": {
      "text/plain": [
       "(3,\n",
       " array([[ 7,  8,  9],\n",
       "        [10, 11, 12]]))"
      ]
     },
     "execution_count": 18,
     "metadata": {},
     "output_type": "execute_result"
    }
   ],
   "source": [
    "d3[0,0,2] , d3[1,:,:]"
   ]
  },
  {
   "cell_type": "markdown",
   "id": "201e682e",
   "metadata": {},
   "source": [
    "### Working with array"
   ]
  },
  {
   "cell_type": "code",
   "execution_count": 19,
   "id": "25ca9e74",
   "metadata": {},
   "outputs": [
    {
     "data": {
      "text/plain": [
       "array([[[0., 0.],\n",
       "        [0., 0.],\n",
       "        [0., 0.]],\n",
       "\n",
       "       [[0., 0.],\n",
       "        [0., 0.],\n",
       "        [0., 0.]]])"
      ]
     },
     "execution_count": 19,
     "metadata": {},
     "output_type": "execute_result"
    }
   ],
   "source": [
    "np.zeros((2,3,2))"
   ]
  },
  {
   "cell_type": "code",
   "execution_count": 20,
   "id": "a20eb4c6",
   "metadata": {},
   "outputs": [
    {
     "data": {
      "text/plain": [
       "array([[[0., 0., 0.],\n",
       "        [0., 0., 0.]],\n",
       "\n",
       "       [[0., 0., 0.],\n",
       "        [0., 0., 0.]]])"
      ]
     },
     "execution_count": 20,
     "metadata": {},
     "output_type": "execute_result"
    }
   ],
   "source": [
    "np.zeros((2,3,2)).reshape((2,2,3))"
   ]
  },
  {
   "cell_type": "code",
   "execution_count": 21,
   "id": "7281b0a1",
   "metadata": {},
   "outputs": [
    {
     "data": {
      "text/plain": [
       "array([[[[1., 1.]],\n",
       "\n",
       "        [[1., 1.]]],\n",
       "\n",
       "\n",
       "       [[[1., 1.]],\n",
       "\n",
       "        [[1., 1.]]]])"
      ]
     },
     "execution_count": 21,
     "metadata": {},
     "output_type": "execute_result"
    }
   ],
   "source": [
    "np.ones((2,2,1,2))"
   ]
  },
  {
   "cell_type": "code",
   "execution_count": 22,
   "id": "df95f5cb",
   "metadata": {},
   "outputs": [
    {
     "data": {
      "text/plain": [
       "array([[4, 4, 4],\n",
       "       [4, 4, 4]])"
      ]
     },
     "execution_count": 22,
     "metadata": {},
     "output_type": "execute_result"
    }
   ],
   "source": [
    "np.full((2,3),4)"
   ]
  },
  {
   "cell_type": "code",
   "execution_count": 23,
   "id": "9345a812",
   "metadata": {},
   "outputs": [
    {
     "data": {
      "text/plain": [
       "array([0.2251262 , 0.75440538, 0.66369463, 0.08838165, 0.6410603 ])"
      ]
     },
     "execution_count": 23,
     "metadata": {},
     "output_type": "execute_result"
    }
   ],
   "source": [
    "np.random.random(5) #1D"
   ]
  },
  {
   "cell_type": "code",
   "execution_count": 24,
   "id": "68b1fdcf",
   "metadata": {},
   "outputs": [
    {
     "data": {
      "text/plain": [
       "array([[0.29631913, 0.51017148],\n",
       "       [0.54602548, 0.74161194]])"
      ]
     },
     "execution_count": 24,
     "metadata": {},
     "output_type": "execute_result"
    }
   ],
   "source": [
    "np.random.rand(2,2) #random float num"
   ]
  },
  {
   "cell_type": "code",
   "execution_count": 25,
   "id": "00b47d88",
   "metadata": {},
   "outputs": [
    {
     "data": {
      "text/plain": [
       "array([[2, 3],\n",
       "       [1, 3]])"
      ]
     },
     "execution_count": 25,
     "metadata": {},
     "output_type": "execute_result"
    }
   ],
   "source": [
    "np.random.randint(1,5, (2,2))"
   ]
  },
  {
   "cell_type": "code",
   "execution_count": 26,
   "id": "9d17bb72",
   "metadata": {},
   "outputs": [
    {
     "data": {
      "text/plain": [
       "array([[1., 0.],\n",
       "       [0., 1.]])"
      ]
     },
     "execution_count": 26,
     "metadata": {},
     "output_type": "execute_result"
    }
   ],
   "source": [
    "np.identity(2)"
   ]
  },
  {
   "cell_type": "code",
   "execution_count": 27,
   "id": "9e38fda0",
   "metadata": {},
   "outputs": [
    {
     "data": {
      "text/plain": [
       "(array([1, 1, 1, 1]),\n",
       " array([[1, 2, 3],\n",
       "        [1, 2, 3],\n",
       "        [4, 5, 6],\n",
       "        [4, 5, 6],\n",
       "        [7, 8, 9],\n",
       "        [7, 8, 9]]))"
      ]
     },
     "execution_count": 27,
     "metadata": {},
     "output_type": "execute_result"
    }
   ],
   "source": [
    "np.repeat(1,4) , np.repeat(d2,2, axis=0)"
   ]
  },
  {
   "cell_type": "code",
   "execution_count": 28,
   "id": "770c1c95",
   "metadata": {},
   "outputs": [
    {
     "data": {
      "text/plain": [
       "array([[1., 1., 1., 1., 1.],\n",
       "       [1., 0., 0., 0., 1.],\n",
       "       [1., 0., 9., 0., 1.],\n",
       "       [1., 0., 0., 0., 1.],\n",
       "       [1., 1., 1., 1., 1.]])"
      ]
     },
     "execution_count": 28,
     "metadata": {},
     "output_type": "execute_result"
    }
   ],
   "source": [
    "#exp\n",
    "o = np.ones((5,5))\n",
    "z = np.zeros((3,3))\n",
    "z[1,1] = 9\n",
    "o[1:-1,1:-1]=z\n",
    "o"
   ]
  },
  {
   "cell_type": "code",
   "execution_count": 29,
   "id": "a27a65ba",
   "metadata": {},
   "outputs": [
    {
     "data": {
      "text/plain": [
       "array([[1, 2, 3],\n",
       "       [5, 6, 7]])"
      ]
     },
     "execution_count": 29,
     "metadata": {},
     "output_type": "execute_result"
    }
   ],
   "source": [
    "a = np.array([ [1,2,3],[5,6,7] ])\n",
    "a"
   ]
  },
  {
   "cell_type": "code",
   "execution_count": 30,
   "id": "845dfe0f",
   "metadata": {},
   "outputs": [
    {
     "data": {
      "text/plain": [
       "array([[1, 2],\n",
       "       [3, 5],\n",
       "       [6, 7]])"
      ]
     },
     "execution_count": 30,
     "metadata": {},
     "output_type": "execute_result"
    }
   ],
   "source": [
    "a.reshape(3,2)"
   ]
  },
  {
   "cell_type": "code",
   "execution_count": 31,
   "id": "5baa48f0",
   "metadata": {},
   "outputs": [
    {
     "data": {
      "text/plain": [
       "array([[1, 2, 3],\n",
       "       [0, 3, 2]])"
      ]
     },
     "execution_count": 31,
     "metadata": {},
     "output_type": "execute_result"
    }
   ],
   "source": [
    "v1 = np.array([1,2,3])\n",
    "v2 = np.array([0,3,2])\n",
    "np.vstack((v1,v2)) #vertical stacking"
   ]
  },
  {
   "cell_type": "code",
   "execution_count": 32,
   "id": "0aca8497",
   "metadata": {},
   "outputs": [
    {
     "data": {
      "text/plain": [
       "array([1, 2, 3, 0, 3, 2])"
      ]
     },
     "execution_count": 32,
     "metadata": {},
     "output_type": "execute_result"
    }
   ],
   "source": [
    "np.hstack((v1,v2)) #horizontal stacking"
   ]
  },
  {
   "cell_type": "code",
   "execution_count": 33,
   "id": "ccc4ce95",
   "metadata": {},
   "outputs": [
    {
     "data": {
      "text/plain": [
       "array([[ 1,  2, -1],\n",
       "       [ 3,  4, -2]])"
      ]
     },
     "execution_count": 33,
     "metadata": {},
     "output_type": "execute_result"
    }
   ],
   "source": [
    "d2 = np.array( [[1,2,-1],[3,4,-2]] )\n",
    "d2"
   ]
  },
  {
   "cell_type": "code",
   "execution_count": 34,
   "id": "9e9ba34d",
   "metadata": {},
   "outputs": [
    {
     "data": {
      "text/plain": [
       "(array([[False, False, False],\n",
       "        [ True, False, False]]),\n",
       " array([3, 4]))"
      ]
     },
     "execution_count": 34,
     "metadata": {},
     "output_type": "execute_result"
    }
   ],
   "source": [
    "#boolean masking \n",
    "d2==3 , d2[d2>=3] "
   ]
  },
  {
   "cell_type": "code",
   "execution_count": 35,
   "id": "f9673a5d",
   "metadata": {},
   "outputs": [
    {
     "data": {
      "text/plain": [
       "array([False,  True, False])"
      ]
     },
     "execution_count": 35,
     "metadata": {},
     "output_type": "execute_result"
    }
   ],
   "source": [
    "np.any(d2>3 , axis=0)"
   ]
  },
  {
   "cell_type": "code",
   "execution_count": 36,
   "id": "25e17c96",
   "metadata": {},
   "outputs": [
    {
     "data": {
      "text/plain": [
       "(True, False)"
      ]
     },
     "execution_count": 36,
     "metadata": {},
     "output_type": "execute_result"
    }
   ],
   "source": [
    "np.any(d2>3)  ,  np.all(d2>3) "
   ]
  },
  {
   "cell_type": "code",
   "execution_count": 37,
   "id": "6adac929",
   "metadata": {},
   "outputs": [
    {
     "data": {
      "text/plain": [
       "array([[ True, False, False],\n",
       "       [False, False, False]])"
      ]
     },
     "execution_count": 37,
     "metadata": {},
     "output_type": "execute_result"
    }
   ],
   "source": [
    "( (d2<2) & (d2>0) )"
   ]
  },
  {
   "cell_type": "markdown",
   "id": "3a3c7e01",
   "metadata": {},
   "source": [
    "### Math, Linear algebra, Statistics"
   ]
  },
  {
   "cell_type": "code",
   "execution_count": 38,
   "id": "3e9a27a9",
   "metadata": {},
   "outputs": [],
   "source": [
    "a = np.array([1,2,0,4])\n",
    "b = np.array([1,0,1,2])"
   ]
  },
  {
   "cell_type": "code",
   "execution_count": 39,
   "id": "6aaf31c5",
   "metadata": {},
   "outputs": [
    {
     "name": "stderr",
     "output_type": "stream",
     "text": [
      "C:\\Users\\pc\\AppData\\Local\\Temp\\ipykernel_10204\\2211108670.py:1: RuntimeWarning: divide by zero encountered in true_divide\n",
      "  a+b , a*b , a/b , a-b , a**b , np.cos(a)\n"
     ]
    },
    {
     "data": {
      "text/plain": [
       "(array([2, 2, 1, 6]),\n",
       " array([1, 0, 0, 8]),\n",
       " array([ 1., inf,  0.,  2.]),\n",
       " array([ 0,  2, -1,  2]),\n",
       " array([ 1,  1,  0, 16], dtype=int32),\n",
       " array([ 0.54030231, -0.41614684,  1.        , -0.65364362]))"
      ]
     },
     "execution_count": 39,
     "metadata": {},
     "output_type": "execute_result"
    }
   ],
   "source": [
    "a+b , a*b , a/b , a-b , a**b , np.cos(a)"
   ]
  },
  {
   "cell_type": "code",
   "execution_count": 40,
   "id": "09c770cd",
   "metadata": {},
   "outputs": [],
   "source": [
    "a = np.ones((2,3))\n",
    "b = np.full((3,2),3)"
   ]
  },
  {
   "cell_type": "code",
   "execution_count": 41,
   "id": "008c4000",
   "metadata": {},
   "outputs": [
    {
     "data": {
      "text/plain": [
       "(array([[1., 1., 1.],\n",
       "        [1., 1., 1.]]),\n",
       " array([[3, 3],\n",
       "        [3, 3],\n",
       "        [3, 3]]),\n",
       " array([[9., 9.],\n",
       "        [9., 9.]]))"
      ]
     },
     "execution_count": 41,
     "metadata": {},
     "output_type": "execute_result"
    }
   ],
   "source": [
    "a , b , np.matmul(a,b) #multiplication matricial"
   ]
  },
  {
   "cell_type": "code",
   "execution_count": 42,
   "id": "ef1be6e8",
   "metadata": {},
   "outputs": [
    {
     "data": {
      "text/plain": [
       "1.0"
      ]
     },
     "execution_count": 42,
     "metadata": {},
     "output_type": "execute_result"
    }
   ],
   "source": [
    "np.linalg.det(np.identity(3))"
   ]
  },
  {
   "cell_type": "code",
   "execution_count": 43,
   "id": "2cb1b709",
   "metadata": {},
   "outputs": [],
   "source": [
    "s = np.array([ [1,2,3],[4,5,6] ])"
   ]
  },
  {
   "cell_type": "code",
   "execution_count": 44,
   "id": "292156d9",
   "metadata": {},
   "outputs": [
    {
     "data": {
      "text/plain": [
       "(1, 6, 21, 6, 3.5, 1.707825127659933)"
      ]
     },
     "execution_count": 44,
     "metadata": {},
     "output_type": "execute_result"
    }
   ],
   "source": [
    "s.min() , s.max() , s.sum() , s.size , s.mean() , s.std() , "
   ]
  },
  {
   "cell_type": "markdown",
   "id": "39a679dd",
   "metadata": {},
   "source": [
    "#### Load data text from file"
   ]
  },
  {
   "cell_type": "code",
   "execution_count": 58,
   "id": "38c09f6f",
   "metadata": {},
   "outputs": [
    {
     "data": {
      "text/plain": [
       "array([[    nan,     nan,     nan,     nan,     nan],\n",
       "       [7.0e+00, 2.5e+03, 6.0e+00, 1.0e+00, 1.0e+00],\n",
       "       [6.0e+00, 2.0e+03, 4.0e+00, 1.0e+00, 1.0e+00],\n",
       "       [7.0e+00, 2.5e+03, 5.0e+00, 1.0e+00, 1.0e+00],\n",
       "       [7.0e+00, 2.0e+03, 5.0e+00, 1.0e+00, 1.0e+00],\n",
       "       [6.0e+00, 1.5e+03, 6.0e+00, 1.0e+00, 1.0e+00],\n",
       "       [1.0e+01, 1.0e+04, 1.0e+00, 0.0e+00, 0.0e+00],\n",
       "       [1.1e+01, 1.2e+04, 2.0e+00, 0.0e+00, 0.0e+00],\n",
       "       [1.2e+01, 1.0e+04, 0.0e+00, 0.0e+00, 0.0e+00],\n",
       "       [1.2e+01, 1.1e+04, 1.0e+00, 0.0e+00, 0.0e+00],\n",
       "       [1.1e+01, 1.3e+04, 0.0e+00, 0.0e+00, 0.0e+00],\n",
       "       [1.1e+01, 1.2e+04, 2.0e+00, 0.0e+00, 0.0e+00],\n",
       "       [1.2e+01, 1.0e+04, 1.0e+00, 0.0e+00, 0.0e+00],\n",
       "       [1.2e+01, 1.3e+04, 0.0e+00, 0.0e+00, 0.0e+00],\n",
       "       [1.0e+01, 1.4e+04, 0.0e+00, 0.0e+00, 0.0e+00],\n",
       "       [1.0e+01, 1.1e+04, 1.0e+00, 0.0e+00, 0.0e+00],\n",
       "       [6.0e+00, 1.5e+03, 6.0e+00, 1.0e+00, 1.0e+00],\n",
       "       [7.0e+00, 2.0e+03, 5.0e+00, 1.0e+00, 1.0e+00],\n",
       "       [7.0e+00, 2.5e+03, 4.0e+00, 1.0e+00, 1.0e+00],\n",
       "       [6.0e+00, 2.2e+03, 5.0e+00, 1.0e+00, 1.0e+00]])"
      ]
     },
     "execution_count": 58,
     "metadata": {},
     "output_type": "execute_result"
    }
   ],
   "source": [
    "np.genfromtxt('.\\DataSets\\Wladcha3b.csv', delimiter=',')"
   ]
  },
  {
   "cell_type": "code",
   "execution_count": 69,
   "id": "c0073a55",
   "metadata": {},
   "outputs": [
    {
     "data": {
      "text/plain": [
       "array([[b'\\xef\\xbb\\xbflfya9', b'salaire', b'lwlad', b'tkarfis', b'label'],\n",
       "       [b'7', b'2500', b'6', b'1', b'1'],\n",
       "       [b'6', b'2000', b'4', b'1', b'1'],\n",
       "       [b'7', b'2500', b'5', b'1', b'1'],\n",
       "       [b'7', b'2000', b'5', b'1', b'1'],\n",
       "       [b'6', b'1500', b'6', b'1', b'1'],\n",
       "       [b'10', b'10000', b'1', b'0', b'0'],\n",
       "       [b'11', b'12000', b'2', b'0', b'0'],\n",
       "       [b'12', b'10000', b'0', b'0', b'0'],\n",
       "       [b'12', b'11000', b'1', b'0', b'0'],\n",
       "       [b'11', b'13000', b'0', b'0', b'0'],\n",
       "       [b'11', b'12000', b'2', b'0', b'0'],\n",
       "       [b'12', b'10000', b'1', b'0', b'0'],\n",
       "       [b'12', b'13000', b'0', b'0', b'0'],\n",
       "       [b'10', b'14000', b'0', b'0', b'0'],\n",
       "       [b'10', b'11000', b'1', b'0', b'0'],\n",
       "       [b'6', b'1500', b'6', b'1', b'1'],\n",
       "       [b'7', b'2000', b'5', b'1', b'1'],\n",
       "       [b'7', b'2500', b'4', b'1', b'1'],\n",
       "       [b'6', b'2200', b'5', b'1', b'1']], dtype='|S8')"
      ]
     },
     "execution_count": 69,
     "metadata": {},
     "output_type": "execute_result"
    }
   ],
   "source": [
    "np.loadtxt('.\\DataSets\\Wladcha3b.csv',dtype='string_' , delimiter=',')"
   ]
  },
  {
   "cell_type": "code",
   "execution_count": 71,
   "id": "ec6ce08d",
   "metadata": {},
   "outputs": [
    {
     "ename": "TypeError",
     "evalue": "_savetxt_dispatcher() missing 1 required positional argument: 'X'",
     "output_type": "error",
     "traceback": [
      "\u001b[1;31m---------------------------------------------------------------------------\u001b[0m",
      "\u001b[1;31mTypeError\u001b[0m                                 Traceback (most recent call last)",
      "Input \u001b[1;32mIn [71]\u001b[0m, in \u001b[0;36m<cell line: 1>\u001b[1;34m()\u001b[0m\n\u001b[1;32m----> 1\u001b[0m \u001b[43mnp\u001b[49m\u001b[38;5;241;43m.\u001b[39;49m\u001b[43msavetxt\u001b[49m\u001b[43m(\u001b[49m\u001b[38;5;124;43m'\u001b[39;49m\u001b[38;5;124;43mwb.txt\u001b[39;49m\u001b[38;5;124;43m'\u001b[39;49m\u001b[43m)\u001b[49m\n",
      "File \u001b[1;32m<__array_function__ internals>:4\u001b[0m, in \u001b[0;36msavetxt\u001b[1;34m(*args, **kwargs)\u001b[0m\n",
      "\u001b[1;31mTypeError\u001b[0m: _savetxt_dispatcher() missing 1 required positional argument: 'X'"
     ]
    }
   ],
   "source": [
    "np.savetxt('wb.txt')"
   ]
  },
  {
   "cell_type": "code",
   "execution_count": null,
   "id": "9c4dc04c",
   "metadata": {},
   "outputs": [],
   "source": []
  }
 ],
 "metadata": {
  "kernelspec": {
   "display_name": "Python 3 (ipykernel)",
   "language": "python",
   "name": "python3"
  },
  "language_info": {
   "codemirror_mode": {
    "name": "ipython",
    "version": 3
   },
   "file_extension": ".py",
   "mimetype": "text/x-python",
   "name": "python",
   "nbconvert_exporter": "python",
   "pygments_lexer": "ipython3",
   "version": "3.9.12"
  }
 },
 "nbformat": 4,
 "nbformat_minor": 5
}
