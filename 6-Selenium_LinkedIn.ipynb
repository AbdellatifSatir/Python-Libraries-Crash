{
 "cells": [
  {
   "cell_type": "code",
   "execution_count": 1,
   "id": "07ccf98f",
   "metadata": {},
   "outputs": [],
   "source": [
    "from selenium import webdriver\n",
    "from selenium.webdriver.common.by import By\n",
    "from selenium.webdriver.common.keys import Keys\n",
    "import time\n",
    "import getpass"
   ]
  },
  {
   "cell_type": "code",
   "execution_count": null,
   "id": "18165937",
   "metadata": {},
   "outputs": [],
   "source": [
    "from selenium import webdriver\n",
    "from selenium.webdriver.common.by import By\n",
    "\n",
    "site, path\n",
    "driver = webdriver.Chrome(path)\n",
    "driver.get(site)\n",
    "driver.find_element(By.)\n",
    "driver.quit()"
   ]
  },
  {
   "cell_type": "code",
   "execution_count": 6,
   "id": "42ba9a1a",
   "metadata": {
    "scrolled": true
   },
   "outputs": [
    {
     "name": "stderr",
     "output_type": "stream",
     "text": [
      "C:\\Users\\pc\\AppData\\Local\\Temp\\ipykernel_10620\\1901917882.py:3: DeprecationWarning: executable_path has been deprecated, please pass in a Service object\n",
      "  driver = webdriver.Chrome(path)\n"
     ]
    }
   ],
   "source": [
    "website = 'https://www.linkedin.com/'\n",
    "path =  r\"C:\\Users\\pc\\Downloads\\chromedriver_win32\\chromedriver.exe\"\n",
    "driver = webdriver.Chrome(path)\n",
    "\n",
    "driver.get(website)\n",
    "email = driver.find_element(By.XPATH,\"//input[@name='session_key']\")\n",
    "password = driver.find_element(By.XPATH,\"//input[@name='session_password']\")\n",
    "\n",
    "    #LOGIN\n",
    "#your_email = input('Enter Your Email : ')\n",
    "#your_pass  = getpass.getpass('Enter Your Password : ')\n",
    "your_email = 'abdo.satir0811@gmail.com'\n",
    "your_pass  = '***'\n",
    "email.send_keys(your_email)\n",
    "password.send_keys(your_pass)\n",
    "submit = driver.find_element(By.XPATH,\"//button[@type='submit']\")\n",
    "submit.click()\n",
    "time.sleep(10)\n",
    "\n",
    "    #SEND MESSAGE\n",
    "driver.maximize_window()\n",
    "my_network = driver.find_element(By.XPATH,'//a[@href=\"https://www.linkedin.com/mynetwork/?\"]')\n",
    "my_network.click()\n",
    "time.sleep(2)\n",
    "connections = driver.find_element(By.XPATH,'//a[@href=\"/mynetwork/invite-connect/connections/\"]')\n",
    "connections.click()\n",
    "\n",
    "\n",
    "\n",
    "\n",
    "\n",
    "    #LOGOUT - popup link\n",
    "# profil = driver.find_element(By.XPATH,\"//div[starts-with(@class,'global-nav__me artdeco-dropdown')]\")\n",
    "# profil.click()\n",
    "# whandle = driver.window_handles[0]  #get instance of first pop up  window\n",
    "# driver.switch_to.window(whandle)   #switch to pop up window\n",
    "# sign_out = driver.find_element(By.XPATH,\"//a[text()='Sign Out']\") #get text of a element in pop window\n",
    "# sign_out.click()\n",
    "\n",
    "# time.sleep(5)\n",
    "# driver.quit()"
   ]
  },
  {
   "cell_type": "code",
   "execution_count": 8,
   "id": "269a96f7",
   "metadata": {},
   "outputs": [
    {
     "ename": "StaleElementReferenceException",
     "evalue": "Message: stale element reference: element is not attached to the page document\n  (Session info: chrome=108.0.5359.125)\nStacktrace:\nBacktrace:\n\tOrdinal0 [0x0026ACD3+2075859]\n\tOrdinal0 [0x001FEE61+1633889]\n\tOrdinal0 [0x000FB7BD+571325]\n\tOrdinal0 [0x000FE374+582516]\n\tOrdinal0 [0x000FE225+582181]\n\tOrdinal0 [0x000FE4C0+582848]\n\tOrdinal0 [0x00126847+747591]\n\tOrdinal0 [0x0014731C+881436]\n\tOrdinal0 [0x001215BF+726463]\n\tOrdinal0 [0x00147534+881972]\n\tOrdinal0 [0x0015B56A+963946]\n\tOrdinal0 [0x00147136+880950]\n\tOrdinal0 [0x0011FEFD+720637]\n\tOrdinal0 [0x00120F3F+724799]\n\tGetHandleVerifier [0x0051EED2+2769538]\n\tGetHandleVerifier [0x00510D95+2711877]\n\tGetHandleVerifier [0x002FA03A+521194]\n\tGetHandleVerifier [0x002F8DA0+516432]\n\tOrdinal0 [0x0020682C+1665068]\n\tOrdinal0 [0x0020B128+1683752]\n\tOrdinal0 [0x0020B215+1683989]\n\tOrdinal0 [0x00216484+1729668]\n\tBaseThreadInitThunk [0x7604FA29+25]\n\tRtlGetAppContainerNamedObjectPath [0x77A275F4+228]\n\tRtlGetAppContainerNamedObjectPath [0x77A275C4+180]\n\t(No symbol) [0x00000000]\n",
     "output_type": "error",
     "traceback": [
      "\u001b[1;31m---------------------------------------------------------------------------\u001b[0m",
      "\u001b[1;31mStaleElementReferenceException\u001b[0m            Traceback (most recent call last)",
      "Input \u001b[1;32mIn [8]\u001b[0m, in \u001b[0;36m<cell line: 2>\u001b[1;34m()\u001b[0m\n\u001b[0;32m      1\u001b[0m btns \u001b[38;5;241m=\u001b[39m driver\u001b[38;5;241m.\u001b[39mfind_elements(By\u001b[38;5;241m.\u001b[39mTAG_NAME,\u001b[38;5;124m'\u001b[39m\u001b[38;5;124mbutton\u001b[39m\u001b[38;5;124m'\u001b[39m)\n\u001b[1;32m----> 2\u001b[0m b_msg \u001b[38;5;241m=\u001b[39m [b \u001b[38;5;28;01mfor\u001b[39;00m b \u001b[38;5;129;01min\u001b[39;00m btns \u001b[38;5;28;01mif\u001b[39;00m b\u001b[38;5;241m.\u001b[39mtext\u001b[38;5;241m==\u001b[39m\u001b[38;5;124m\"\u001b[39m\u001b[38;5;124mMessage\u001b[39m\u001b[38;5;124m\"\u001b[39m]\n\u001b[0;32m      4\u001b[0m b_msg[\u001b[38;5;241m0\u001b[39m]\u001b[38;5;241m.\u001b[39mclick()\n\u001b[0;32m      5\u001b[0m parags \u001b[38;5;241m=\u001b[39m driver\u001b[38;5;241m.\u001b[39mfind_elements(By\u001b[38;5;241m.\u001b[39mTAG_NAME,\u001b[38;5;124m'\u001b[39m\u001b[38;5;124mp\u001b[39m\u001b[38;5;124m'\u001b[39m)\n",
      "Input \u001b[1;32mIn [8]\u001b[0m, in \u001b[0;36m<listcomp>\u001b[1;34m(.0)\u001b[0m\n\u001b[0;32m      1\u001b[0m btns \u001b[38;5;241m=\u001b[39m driver\u001b[38;5;241m.\u001b[39mfind_elements(By\u001b[38;5;241m.\u001b[39mTAG_NAME,\u001b[38;5;124m'\u001b[39m\u001b[38;5;124mbutton\u001b[39m\u001b[38;5;124m'\u001b[39m)\n\u001b[1;32m----> 2\u001b[0m b_msg \u001b[38;5;241m=\u001b[39m [b \u001b[38;5;28;01mfor\u001b[39;00m b \u001b[38;5;129;01min\u001b[39;00m btns \u001b[38;5;28;01mif\u001b[39;00m \u001b[43mb\u001b[49m\u001b[38;5;241;43m.\u001b[39;49m\u001b[43mtext\u001b[49m\u001b[38;5;241m==\u001b[39m\u001b[38;5;124m\"\u001b[39m\u001b[38;5;124mMessage\u001b[39m\u001b[38;5;124m\"\u001b[39m]\n\u001b[0;32m      4\u001b[0m b_msg[\u001b[38;5;241m0\u001b[39m]\u001b[38;5;241m.\u001b[39mclick()\n\u001b[0;32m      5\u001b[0m parags \u001b[38;5;241m=\u001b[39m driver\u001b[38;5;241m.\u001b[39mfind_elements(By\u001b[38;5;241m.\u001b[39mTAG_NAME,\u001b[38;5;124m'\u001b[39m\u001b[38;5;124mp\u001b[39m\u001b[38;5;124m'\u001b[39m)\n",
      "File \u001b[1;32m~\\anaconda3\\lib\\site-packages\\selenium\\webdriver\\remote\\webelement.py:89\u001b[0m, in \u001b[0;36mWebElement.text\u001b[1;34m(self)\u001b[0m\n\u001b[0;32m     86\u001b[0m \u001b[38;5;129m@property\u001b[39m\n\u001b[0;32m     87\u001b[0m \u001b[38;5;28;01mdef\u001b[39;00m \u001b[38;5;21mtext\u001b[39m(\u001b[38;5;28mself\u001b[39m) \u001b[38;5;241m-\u001b[39m\u001b[38;5;241m>\u001b[39m \u001b[38;5;28mstr\u001b[39m:\n\u001b[0;32m     88\u001b[0m     \u001b[38;5;124;03m\"\"\"The text of the element.\"\"\"\u001b[39;00m\n\u001b[1;32m---> 89\u001b[0m     \u001b[38;5;28;01mreturn\u001b[39;00m \u001b[38;5;28;43mself\u001b[39;49m\u001b[38;5;241;43m.\u001b[39;49m\u001b[43m_execute\u001b[49m\u001b[43m(\u001b[49m\u001b[43mCommand\u001b[49m\u001b[38;5;241;43m.\u001b[39;49m\u001b[43mGET_ELEMENT_TEXT\u001b[49m\u001b[43m)\u001b[49m[\u001b[38;5;124m\"\u001b[39m\u001b[38;5;124mvalue\u001b[39m\u001b[38;5;124m\"\u001b[39m]\n",
      "File \u001b[1;32m~\\anaconda3\\lib\\site-packages\\selenium\\webdriver\\remote\\webelement.py:410\u001b[0m, in \u001b[0;36mWebElement._execute\u001b[1;34m(self, command, params)\u001b[0m\n\u001b[0;32m    408\u001b[0m     params \u001b[38;5;241m=\u001b[39m {}\n\u001b[0;32m    409\u001b[0m params[\u001b[38;5;124m\"\u001b[39m\u001b[38;5;124mid\u001b[39m\u001b[38;5;124m\"\u001b[39m] \u001b[38;5;241m=\u001b[39m \u001b[38;5;28mself\u001b[39m\u001b[38;5;241m.\u001b[39m_id\n\u001b[1;32m--> 410\u001b[0m \u001b[38;5;28;01mreturn\u001b[39;00m \u001b[38;5;28;43mself\u001b[39;49m\u001b[38;5;241;43m.\u001b[39;49m\u001b[43m_parent\u001b[49m\u001b[38;5;241;43m.\u001b[39;49m\u001b[43mexecute\u001b[49m\u001b[43m(\u001b[49m\u001b[43mcommand\u001b[49m\u001b[43m,\u001b[49m\u001b[43m \u001b[49m\u001b[43mparams\u001b[49m\u001b[43m)\u001b[49m\n",
      "File \u001b[1;32m~\\anaconda3\\lib\\site-packages\\selenium\\webdriver\\remote\\webdriver.py:444\u001b[0m, in \u001b[0;36mWebDriver.execute\u001b[1;34m(self, driver_command, params)\u001b[0m\n\u001b[0;32m    442\u001b[0m response \u001b[38;5;241m=\u001b[39m \u001b[38;5;28mself\u001b[39m\u001b[38;5;241m.\u001b[39mcommand_executor\u001b[38;5;241m.\u001b[39mexecute(driver_command, params)\n\u001b[0;32m    443\u001b[0m \u001b[38;5;28;01mif\u001b[39;00m response:\n\u001b[1;32m--> 444\u001b[0m     \u001b[38;5;28;43mself\u001b[39;49m\u001b[38;5;241;43m.\u001b[39;49m\u001b[43merror_handler\u001b[49m\u001b[38;5;241;43m.\u001b[39;49m\u001b[43mcheck_response\u001b[49m\u001b[43m(\u001b[49m\u001b[43mresponse\u001b[49m\u001b[43m)\u001b[49m\n\u001b[0;32m    445\u001b[0m     response[\u001b[38;5;124m\"\u001b[39m\u001b[38;5;124mvalue\u001b[39m\u001b[38;5;124m\"\u001b[39m] \u001b[38;5;241m=\u001b[39m \u001b[38;5;28mself\u001b[39m\u001b[38;5;241m.\u001b[39m_unwrap_value(response\u001b[38;5;241m.\u001b[39mget(\u001b[38;5;124m\"\u001b[39m\u001b[38;5;124mvalue\u001b[39m\u001b[38;5;124m\"\u001b[39m, \u001b[38;5;28;01mNone\u001b[39;00m))\n\u001b[0;32m    446\u001b[0m     \u001b[38;5;28;01mreturn\u001b[39;00m response\n",
      "File \u001b[1;32m~\\anaconda3\\lib\\site-packages\\selenium\\webdriver\\remote\\errorhandler.py:249\u001b[0m, in \u001b[0;36mErrorHandler.check_response\u001b[1;34m(self, response)\u001b[0m\n\u001b[0;32m    247\u001b[0m         alert_text \u001b[38;5;241m=\u001b[39m value[\u001b[38;5;124m\"\u001b[39m\u001b[38;5;124malert\u001b[39m\u001b[38;5;124m\"\u001b[39m]\u001b[38;5;241m.\u001b[39mget(\u001b[38;5;124m\"\u001b[39m\u001b[38;5;124mtext\u001b[39m\u001b[38;5;124m\"\u001b[39m)\n\u001b[0;32m    248\u001b[0m     \u001b[38;5;28;01mraise\u001b[39;00m exception_class(message, screen, stacktrace, alert_text)  \u001b[38;5;66;03m# type: ignore[call-arg]  # mypy is not smart enough here\u001b[39;00m\n\u001b[1;32m--> 249\u001b[0m \u001b[38;5;28;01mraise\u001b[39;00m exception_class(message, screen, stacktrace)\n",
      "\u001b[1;31mStaleElementReferenceException\u001b[0m: Message: stale element reference: element is not attached to the page document\n  (Session info: chrome=108.0.5359.125)\nStacktrace:\nBacktrace:\n\tOrdinal0 [0x0026ACD3+2075859]\n\tOrdinal0 [0x001FEE61+1633889]\n\tOrdinal0 [0x000FB7BD+571325]\n\tOrdinal0 [0x000FE374+582516]\n\tOrdinal0 [0x000FE225+582181]\n\tOrdinal0 [0x000FE4C0+582848]\n\tOrdinal0 [0x00126847+747591]\n\tOrdinal0 [0x0014731C+881436]\n\tOrdinal0 [0x001215BF+726463]\n\tOrdinal0 [0x00147534+881972]\n\tOrdinal0 [0x0015B56A+963946]\n\tOrdinal0 [0x00147136+880950]\n\tOrdinal0 [0x0011FEFD+720637]\n\tOrdinal0 [0x00120F3F+724799]\n\tGetHandleVerifier [0x0051EED2+2769538]\n\tGetHandleVerifier [0x00510D95+2711877]\n\tGetHandleVerifier [0x002FA03A+521194]\n\tGetHandleVerifier [0x002F8DA0+516432]\n\tOrdinal0 [0x0020682C+1665068]\n\tOrdinal0 [0x0020B128+1683752]\n\tOrdinal0 [0x0020B215+1683989]\n\tOrdinal0 [0x00216484+1729668]\n\tBaseThreadInitThunk [0x7604FA29+25]\n\tRtlGetAppContainerNamedObjectPath [0x77A275F4+228]\n\tRtlGetAppContainerNamedObjectPath [0x77A275C4+180]\n\t(No symbol) [0x00000000]\n"
     ]
    }
   ],
   "source": [
    "btns = driver.find_elements(By.TAG_NAME,'button')\n",
    "b_msg = [b for b in btns if b.text==\"Message\"]\n",
    "\n",
    "b_msg[0].click()\n",
    "parags = driver.find_elements(By.TAG_NAME,'p')\n",
    "parags[-5].click()\n",
    "parags[-5].send_keys(\"hello\")\n",
    "time.sleep(2)\n",
    "parags[-5].clear()\n",
    "close = driver.find_element(By.XPATH,\"//button[starts-with(@class,'msg-overlay-bubble-header__control artdeco-button')]\")\n",
    "time.sleep(3)\n",
    "close.click()\n",
    "#dicard msg popup\n",
    "w = driver.window_handles[0]\n",
    "driver.switch_to.window(w)\n",
    "discard = driver.find_element(By.XPATH,\"//button[@data-test-dialog-primary-btn]\")\n",
    "driver.execute(\"arguments[0].click();\",discard)\n",
    "#discard.click()"
   ]
  },
  {
   "cell_type": "code",
   "execution_count": null,
   "id": "17aaf3ea",
   "metadata": {},
   "outputs": [],
   "source": []
  },
  {
   "cell_type": "code",
   "execution_count": null,
   "id": "bc20f0bd",
   "metadata": {},
   "outputs": [],
   "source": []
  },
  {
   "cell_type": "code",
   "execution_count": null,
   "id": "6e2cd3c2",
   "metadata": {},
   "outputs": [],
   "source": []
  },
  {
   "cell_type": "code",
   "execution_count": null,
   "id": "f3bcf7fc",
   "metadata": {},
   "outputs": [],
   "source": []
  }
 ],
 "metadata": {
  "kernelspec": {
   "display_name": "Python 3 (ipykernel)",
   "language": "python",
   "name": "python3"
  },
  "language_info": {
   "codemirror_mode": {
    "name": "ipython",
    "version": 3
   },
   "file_extension": ".py",
   "mimetype": "text/x-python",
   "name": "python",
   "nbconvert_exporter": "python",
   "pygments_lexer": "ipython3",
   "version": "3.9.12"
  }
 },
 "nbformat": 4,
 "nbformat_minor": 5
}
