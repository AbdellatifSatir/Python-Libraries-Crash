{
 "cells": [
  {
   "cell_type": "code",
   "execution_count": 1,
   "id": "e9ecdb7f",
   "metadata": {},
   "outputs": [],
   "source": [
    "from selenium import webdriver\n",
    "from selenium.webdriver.common.by import By\n",
    "import time\n",
    "from selenium.webdriver.support.ui import Select"
   ]
  },
  {
   "cell_type": "markdown",
   "id": "c5501bac",
   "metadata": {},
   "source": [
    "### List all tr content"
   ]
  },
  {
   "cell_type": "code",
   "execution_count": 2,
   "id": "1ef809ac",
   "metadata": {
    "scrolled": true
   },
   "outputs": [
    {
     "name": "stderr",
     "output_type": "stream",
     "text": [
      "C:\\Users\\pc\\AppData\\Local\\Temp\\ipykernel_12576\\3404731017.py:8: DeprecationWarning: executable_path has been deprecated, please pass in a Service object\n",
      "  driver = webdriver.Chrome(path)\n"
     ]
    },
    {
     "ename": "NoSuchElementException",
     "evalue": "Message: no such element: Unable to locate element: {\"method\":\"xpath\",\"selector\":\"//div[@data-ng-repeat=\"team in :refreshStats:vm.teams\"]\"}\n  (Session info: chrome=108.0.5359.124)\nStacktrace:\nBacktrace:\n\tOrdinal0 [0x00B6ACD3+2075859]\n\tOrdinal0 [0x00AFEE61+1633889]\n\tOrdinal0 [0x009FB7BD+571325]\n\tOrdinal0 [0x00A2AC2F+764975]\n\tOrdinal0 [0x00A2AE1B+765467]\n\tOrdinal0 [0x00A5D0F2+970994]\n\tOrdinal0 [0x00A47364+881508]\n\tOrdinal0 [0x00A5B56A+963946]\n\tOrdinal0 [0x00A47136+880950]\n\tOrdinal0 [0x00A1FEFD+720637]\n\tOrdinal0 [0x00A20F3F+724799]\n\tGetHandleVerifier [0x00E1EED2+2769538]\n\tGetHandleVerifier [0x00E10D95+2711877]\n\tGetHandleVerifier [0x00BFA03A+521194]\n\tGetHandleVerifier [0x00BF8DA0+516432]\n\tOrdinal0 [0x00B0682C+1665068]\n\tOrdinal0 [0x00B0B128+1683752]\n\tOrdinal0 [0x00B0B215+1683989]\n\tOrdinal0 [0x00B16484+1729668]\n\tBaseThreadInitThunk [0x7604FA29+25]\n\tRtlGetAppContainerNamedObjectPath [0x77A275F4+228]\n\tRtlGetAppContainerNamedObjectPath [0x77A275C4+180]\n",
     "output_type": "error",
     "traceback": [
      "\u001b[1;31m---------------------------------------------------------------------------\u001b[0m",
      "\u001b[1;31mNoSuchElementException\u001b[0m                    Traceback (most recent call last)",
      "Input \u001b[1;32mIn [2]\u001b[0m, in \u001b[0;36m<cell line: 25>\u001b[1;34m()\u001b[0m\n\u001b[0;32m     20\u001b[0m s\u001b[38;5;241m.\u001b[39mselect_by_value(\u001b[38;5;124m\"\u001b[39m\u001b[38;5;124mobject:53\u001b[39m\u001b[38;5;124m\"\u001b[39m)\n\u001b[0;32m     22\u001b[0m \u001b[38;5;66;03m#All teams \u001b[39;00m\n\u001b[0;32m     23\u001b[0m \u001b[38;5;66;03m#trs = driver.find_elements(By.XPATH,'//tr[@class=\"ng-scope isNotHighlightedRow\"]')\u001b[39;00m\n\u001b[1;32m---> 25\u001b[0m first_div \u001b[38;5;241m=\u001b[39m \u001b[43mdriver\u001b[49m\u001b[38;5;241;43m.\u001b[39;49m\u001b[43mfind_element\u001b[49m\u001b[43m(\u001b[49m\u001b[43mBy\u001b[49m\u001b[38;5;241;43m.\u001b[39;49m\u001b[43mXPATH\u001b[49m\u001b[43m,\u001b[49m\u001b[38;5;124;43m'\u001b[39;49m\u001b[38;5;124;43m//div[@data-ng-repeat=\u001b[39;49m\u001b[38;5;124;43m\"\u001b[39;49m\u001b[38;5;124;43mteam in :refreshStats:vm.teams\u001b[39;49m\u001b[38;5;124;43m\"\u001b[39;49m\u001b[38;5;124;43m]\u001b[39;49m\u001b[38;5;124;43m'\u001b[39;49m\u001b[43m)\u001b[49m\n\u001b[0;32m     26\u001b[0m trs \u001b[38;5;241m=\u001b[39m first_div\u001b[38;5;241m.\u001b[39mfind_elements(By\u001b[38;5;241m.\u001b[39mXPATH,\u001b[38;5;124m'\u001b[39m\u001b[38;5;124m//tr[@class=\u001b[39m\u001b[38;5;124m\"\u001b[39m\u001b[38;5;124mng-scope isNotHighlightedRow\u001b[39m\u001b[38;5;124m\"\u001b[39m\u001b[38;5;124m]\u001b[39m\u001b[38;5;124m'\u001b[39m)\n\u001b[0;32m     27\u001b[0m s\u001b[38;5;241m=\u001b[39m\u001b[38;5;241m0\u001b[39m\n",
      "File \u001b[1;32m~\\anaconda3\\lib\\site-packages\\selenium\\webdriver\\remote\\webdriver.py:861\u001b[0m, in \u001b[0;36mWebDriver.find_element\u001b[1;34m(self, by, value)\u001b[0m\n\u001b[0;32m    858\u001b[0m     by \u001b[38;5;241m=\u001b[39m By\u001b[38;5;241m.\u001b[39mCSS_SELECTOR\n\u001b[0;32m    859\u001b[0m     value \u001b[38;5;241m=\u001b[39m \u001b[38;5;124m'\u001b[39m\u001b[38;5;124m[name=\u001b[39m\u001b[38;5;124m\"\u001b[39m\u001b[38;5;132;01m%s\u001b[39;00m\u001b[38;5;124m\"\u001b[39m\u001b[38;5;124m]\u001b[39m\u001b[38;5;124m'\u001b[39m \u001b[38;5;241m%\u001b[39m value\n\u001b[1;32m--> 861\u001b[0m \u001b[38;5;28;01mreturn\u001b[39;00m \u001b[38;5;28;43mself\u001b[39;49m\u001b[38;5;241;43m.\u001b[39;49m\u001b[43mexecute\u001b[49m\u001b[43m(\u001b[49m\u001b[43mCommand\u001b[49m\u001b[38;5;241;43m.\u001b[39;49m\u001b[43mFIND_ELEMENT\u001b[49m\u001b[43m,\u001b[49m\u001b[43m \u001b[49m\u001b[43m{\u001b[49m\u001b[38;5;124;43m\"\u001b[39;49m\u001b[38;5;124;43musing\u001b[39;49m\u001b[38;5;124;43m\"\u001b[39;49m\u001b[43m:\u001b[49m\u001b[43m \u001b[49m\u001b[43mby\u001b[49m\u001b[43m,\u001b[49m\u001b[43m \u001b[49m\u001b[38;5;124;43m\"\u001b[39;49m\u001b[38;5;124;43mvalue\u001b[39;49m\u001b[38;5;124;43m\"\u001b[39;49m\u001b[43m:\u001b[49m\u001b[43m \u001b[49m\u001b[43mvalue\u001b[49m\u001b[43m}\u001b[49m\u001b[43m)\u001b[49m[\u001b[38;5;124m\"\u001b[39m\u001b[38;5;124mvalue\u001b[39m\u001b[38;5;124m\"\u001b[39m]\n",
      "File \u001b[1;32m~\\anaconda3\\lib\\site-packages\\selenium\\webdriver\\remote\\webdriver.py:444\u001b[0m, in \u001b[0;36mWebDriver.execute\u001b[1;34m(self, driver_command, params)\u001b[0m\n\u001b[0;32m    442\u001b[0m response \u001b[38;5;241m=\u001b[39m \u001b[38;5;28mself\u001b[39m\u001b[38;5;241m.\u001b[39mcommand_executor\u001b[38;5;241m.\u001b[39mexecute(driver_command, params)\n\u001b[0;32m    443\u001b[0m \u001b[38;5;28;01mif\u001b[39;00m response:\n\u001b[1;32m--> 444\u001b[0m     \u001b[38;5;28;43mself\u001b[39;49m\u001b[38;5;241;43m.\u001b[39;49m\u001b[43merror_handler\u001b[49m\u001b[38;5;241;43m.\u001b[39;49m\u001b[43mcheck_response\u001b[49m\u001b[43m(\u001b[49m\u001b[43mresponse\u001b[49m\u001b[43m)\u001b[49m\n\u001b[0;32m    445\u001b[0m     response[\u001b[38;5;124m\"\u001b[39m\u001b[38;5;124mvalue\u001b[39m\u001b[38;5;124m\"\u001b[39m] \u001b[38;5;241m=\u001b[39m \u001b[38;5;28mself\u001b[39m\u001b[38;5;241m.\u001b[39m_unwrap_value(response\u001b[38;5;241m.\u001b[39mget(\u001b[38;5;124m\"\u001b[39m\u001b[38;5;124mvalue\u001b[39m\u001b[38;5;124m\"\u001b[39m, \u001b[38;5;28;01mNone\u001b[39;00m))\n\u001b[0;32m    446\u001b[0m     \u001b[38;5;28;01mreturn\u001b[39;00m response\n",
      "File \u001b[1;32m~\\anaconda3\\lib\\site-packages\\selenium\\webdriver\\remote\\errorhandler.py:249\u001b[0m, in \u001b[0;36mErrorHandler.check_response\u001b[1;34m(self, response)\u001b[0m\n\u001b[0;32m    247\u001b[0m         alert_text \u001b[38;5;241m=\u001b[39m value[\u001b[38;5;124m\"\u001b[39m\u001b[38;5;124malert\u001b[39m\u001b[38;5;124m\"\u001b[39m]\u001b[38;5;241m.\u001b[39mget(\u001b[38;5;124m\"\u001b[39m\u001b[38;5;124mtext\u001b[39m\u001b[38;5;124m\"\u001b[39m)\n\u001b[0;32m    248\u001b[0m     \u001b[38;5;28;01mraise\u001b[39;00m exception_class(message, screen, stacktrace, alert_text)  \u001b[38;5;66;03m# type: ignore[call-arg]  # mypy is not smart enough here\u001b[39;00m\n\u001b[1;32m--> 249\u001b[0m \u001b[38;5;28;01mraise\u001b[39;00m exception_class(message, screen, stacktrace)\n",
      "\u001b[1;31mNoSuchElementException\u001b[0m: Message: no such element: Unable to locate element: {\"method\":\"xpath\",\"selector\":\"//div[@data-ng-repeat=\"team in :refreshStats:vm.teams\"]\"}\n  (Session info: chrome=108.0.5359.124)\nStacktrace:\nBacktrace:\n\tOrdinal0 [0x00B6ACD3+2075859]\n\tOrdinal0 [0x00AFEE61+1633889]\n\tOrdinal0 [0x009FB7BD+571325]\n\tOrdinal0 [0x00A2AC2F+764975]\n\tOrdinal0 [0x00A2AE1B+765467]\n\tOrdinal0 [0x00A5D0F2+970994]\n\tOrdinal0 [0x00A47364+881508]\n\tOrdinal0 [0x00A5B56A+963946]\n\tOrdinal0 [0x00A47136+880950]\n\tOrdinal0 [0x00A1FEFD+720637]\n\tOrdinal0 [0x00A20F3F+724799]\n\tGetHandleVerifier [0x00E1EED2+2769538]\n\tGetHandleVerifier [0x00E10D95+2711877]\n\tGetHandleVerifier [0x00BFA03A+521194]\n\tGetHandleVerifier [0x00BF8DA0+516432]\n\tOrdinal0 [0x00B0682C+1665068]\n\tOrdinal0 [0x00B0B128+1683752]\n\tOrdinal0 [0x00B0B215+1683989]\n\tOrdinal0 [0x00B16484+1729668]\n\tBaseThreadInitThunk [0x7604FA29+25]\n\tRtlGetAppContainerNamedObjectPath [0x77A275F4+228]\n\tRtlGetAppContainerNamedObjectPath [0x77A275C4+180]\n"
     ]
    }
   ],
   "source": [
    "from selenium import webdriver\n",
    "from selenium.webdriver.common.by import By\n",
    "import time\n",
    "from selenium.webdriver.support.ui import Select\n",
    "\n",
    "website = \"https://www.adamchoi.co.uk/overs/detailed\"\n",
    "path = r\"C:\\Users\\pc\\Downloads\\chromedriver_win32\\chromedriver.exe\"\n",
    "driver = webdriver.Chrome(path)\n",
    "driver.get(website)\n",
    "\n",
    "#click on button\n",
    "all_matches = driver.find_element(By.XPATH,'//label[text()=\"All matches\"]')\n",
    "all_matches.click()\n",
    "time.sleep(3)\n",
    "\n",
    "#select option Select Season 21/22\n",
    "select = driver.find_element(By.ID,'season')\n",
    "select.click()\n",
    "s = Select(select)\n",
    "s.select_by_value(\"object:53\")\n",
    "\n",
    "#All teams \n",
    "#trs = driver.find_elements(By.XPATH,'//tr[@class=\"ng-scope isNotHighlightedRow\"]')\n",
    "\n",
    "first_div = driver.find_element(By.XPATH,'//div[@data-ng-repeat=\"team in :refreshStats:vm.teams\"]')\n",
    "trs = first_div.find_elements(By.XPATH,'//tr[@class=\"ng-scope isNotHighlightedRow\"]')\n",
    "s=0\n",
    "for tr in trs:\n",
    "    print(tr.text)\n",
    "    s=s+1\n",
    "print(s)\n",
    "driver.quit()\n",
    "\n",
    "\n",
    "#time.sleep(10)\n",
    "#driver.quit()"
   ]
  },
  {
   "cell_type": "code",
   "execution_count": null,
   "id": "4166ed9b",
   "metadata": {},
   "outputs": [],
   "source": []
  },
  {
   "cell_type": "markdown",
   "id": "99c0b151",
   "metadata": {},
   "source": [
    "### List match of first team - Arsenal"
   ]
  },
  {
   "cell_type": "code",
   "execution_count": 3,
   "id": "65f9e2e2",
   "metadata": {
    "scrolled": true
   },
   "outputs": [
    {
     "name": "stderr",
     "output_type": "stream",
     "text": [
      "C:\\Users\\pc\\AppData\\Local\\Temp\\ipykernel_13924\\302185721.py:8: DeprecationWarning: executable_path has been deprecated, please pass in a Service object\n",
      "  driver = webdriver.Chrome(path)\n"
     ]
    },
    {
     "ename": "NoSuchElementException",
     "evalue": "Message: no such element: Unable to locate element: {\"method\":\"xpath\",\"selector\":\"//div[@data-ng-repeat=\"team in :refreshStats:vm.teams\"]//table/tbody\"}\n  (Session info: chrome=107.0.5304.122)\nStacktrace:\nBacktrace:\n\tOrdinal0 [0x011EACD3+2075859]\n\tOrdinal0 [0x0117EE61+1633889]\n\tOrdinal0 [0x0107B7BD+571325]\n\tOrdinal0 [0x010AAC2F+764975]\n\tOrdinal0 [0x010AAE1B+765467]\n\tOrdinal0 [0x010DD0F2+970994]\n\tOrdinal0 [0x010C7364+881508]\n\tOrdinal0 [0x010DB56A+963946]\n\tOrdinal0 [0x010C7136+880950]\n\tOrdinal0 [0x0109FEFD+720637]\n\tOrdinal0 [0x010A0F3F+724799]\n\tGetHandleVerifier [0x0149EED2+2769538]\n\tGetHandleVerifier [0x01490D95+2711877]\n\tGetHandleVerifier [0x0127A03A+521194]\n\tGetHandleVerifier [0x01278DA0+516432]\n\tOrdinal0 [0x0118682C+1665068]\n\tOrdinal0 [0x0118B128+1683752]\n\tOrdinal0 [0x0118B215+1683989]\n\tOrdinal0 [0x01196484+1729668]\n\tBaseThreadInitThunk [0x76EFFA29+25]\n\tRtlGetAppContainerNamedObjectPath [0x774275F4+228]\n\tRtlGetAppContainerNamedObjectPath [0x774275C4+180]\n",
     "output_type": "error",
     "traceback": [
      "\u001b[1;31m---------------------------------------------------------------------------\u001b[0m",
      "\u001b[1;31mNoSuchElementException\u001b[0m                    Traceback (most recent call last)",
      "Input \u001b[1;32mIn [3]\u001b[0m, in \u001b[0;36m<cell line: 21>\u001b[1;34m()\u001b[0m\n\u001b[0;32m     18\u001b[0m s\u001b[38;5;241m.\u001b[39mselect_by_value(\u001b[38;5;124m\"\u001b[39m\u001b[38;5;124mobject:53\u001b[39m\u001b[38;5;124m\"\u001b[39m)\n\u001b[0;32m     20\u001b[0m \u001b[38;5;66;03m#Arsenal team\u001b[39;00m\n\u001b[1;32m---> 21\u001b[0m first_div \u001b[38;5;241m=\u001b[39m \u001b[43mdriver\u001b[49m\u001b[38;5;241;43m.\u001b[39;49m\u001b[43mfind_element\u001b[49m\u001b[43m(\u001b[49m\u001b[43mBy\u001b[49m\u001b[38;5;241;43m.\u001b[39;49m\u001b[43mXPATH\u001b[49m\u001b[43m,\u001b[49m\u001b[38;5;124;43m'\u001b[39;49m\u001b[38;5;124;43m//div[@data-ng-repeat=\u001b[39;49m\u001b[38;5;124;43m\"\u001b[39;49m\u001b[38;5;124;43mteam in :refreshStats:vm.teams\u001b[39;49m\u001b[38;5;124;43m\"\u001b[39;49m\u001b[38;5;124;43m]//table/tbody\u001b[39;49m\u001b[38;5;124;43m'\u001b[39;49m\u001b[43m)\u001b[49m\n\u001b[0;32m     22\u001b[0m trs \u001b[38;5;241m=\u001b[39m first_div\u001b[38;5;241m.\u001b[39mfind_elements(By\u001b[38;5;241m.\u001b[39mXPATH,\u001b[38;5;124m'\u001b[39m\u001b[38;5;124m./tr\u001b[39m\u001b[38;5;124m'\u001b[39m)\n\u001b[0;32m     24\u001b[0m s\u001b[38;5;241m=\u001b[39m\u001b[38;5;241m0\u001b[39m\n",
      "File \u001b[1;32m~\\anaconda3\\lib\\site-packages\\selenium\\webdriver\\remote\\webdriver.py:861\u001b[0m, in \u001b[0;36mWebDriver.find_element\u001b[1;34m(self, by, value)\u001b[0m\n\u001b[0;32m    858\u001b[0m     by \u001b[38;5;241m=\u001b[39m By\u001b[38;5;241m.\u001b[39mCSS_SELECTOR\n\u001b[0;32m    859\u001b[0m     value \u001b[38;5;241m=\u001b[39m \u001b[38;5;124m'\u001b[39m\u001b[38;5;124m[name=\u001b[39m\u001b[38;5;124m\"\u001b[39m\u001b[38;5;132;01m%s\u001b[39;00m\u001b[38;5;124m\"\u001b[39m\u001b[38;5;124m]\u001b[39m\u001b[38;5;124m'\u001b[39m \u001b[38;5;241m%\u001b[39m value\n\u001b[1;32m--> 861\u001b[0m \u001b[38;5;28;01mreturn\u001b[39;00m \u001b[38;5;28;43mself\u001b[39;49m\u001b[38;5;241;43m.\u001b[39;49m\u001b[43mexecute\u001b[49m\u001b[43m(\u001b[49m\u001b[43mCommand\u001b[49m\u001b[38;5;241;43m.\u001b[39;49m\u001b[43mFIND_ELEMENT\u001b[49m\u001b[43m,\u001b[49m\u001b[43m \u001b[49m\u001b[43m{\u001b[49m\u001b[38;5;124;43m\"\u001b[39;49m\u001b[38;5;124;43musing\u001b[39;49m\u001b[38;5;124;43m\"\u001b[39;49m\u001b[43m:\u001b[49m\u001b[43m \u001b[49m\u001b[43mby\u001b[49m\u001b[43m,\u001b[49m\u001b[43m \u001b[49m\u001b[38;5;124;43m\"\u001b[39;49m\u001b[38;5;124;43mvalue\u001b[39;49m\u001b[38;5;124;43m\"\u001b[39;49m\u001b[43m:\u001b[49m\u001b[43m \u001b[49m\u001b[43mvalue\u001b[49m\u001b[43m}\u001b[49m\u001b[43m)\u001b[49m[\u001b[38;5;124m\"\u001b[39m\u001b[38;5;124mvalue\u001b[39m\u001b[38;5;124m\"\u001b[39m]\n",
      "File \u001b[1;32m~\\anaconda3\\lib\\site-packages\\selenium\\webdriver\\remote\\webdriver.py:444\u001b[0m, in \u001b[0;36mWebDriver.execute\u001b[1;34m(self, driver_command, params)\u001b[0m\n\u001b[0;32m    442\u001b[0m response \u001b[38;5;241m=\u001b[39m \u001b[38;5;28mself\u001b[39m\u001b[38;5;241m.\u001b[39mcommand_executor\u001b[38;5;241m.\u001b[39mexecute(driver_command, params)\n\u001b[0;32m    443\u001b[0m \u001b[38;5;28;01mif\u001b[39;00m response:\n\u001b[1;32m--> 444\u001b[0m     \u001b[38;5;28;43mself\u001b[39;49m\u001b[38;5;241;43m.\u001b[39;49m\u001b[43merror_handler\u001b[49m\u001b[38;5;241;43m.\u001b[39;49m\u001b[43mcheck_response\u001b[49m\u001b[43m(\u001b[49m\u001b[43mresponse\u001b[49m\u001b[43m)\u001b[49m\n\u001b[0;32m    445\u001b[0m     response[\u001b[38;5;124m\"\u001b[39m\u001b[38;5;124mvalue\u001b[39m\u001b[38;5;124m\"\u001b[39m] \u001b[38;5;241m=\u001b[39m \u001b[38;5;28mself\u001b[39m\u001b[38;5;241m.\u001b[39m_unwrap_value(response\u001b[38;5;241m.\u001b[39mget(\u001b[38;5;124m\"\u001b[39m\u001b[38;5;124mvalue\u001b[39m\u001b[38;5;124m\"\u001b[39m, \u001b[38;5;28;01mNone\u001b[39;00m))\n\u001b[0;32m    446\u001b[0m     \u001b[38;5;28;01mreturn\u001b[39;00m response\n",
      "File \u001b[1;32m~\\anaconda3\\lib\\site-packages\\selenium\\webdriver\\remote\\errorhandler.py:249\u001b[0m, in \u001b[0;36mErrorHandler.check_response\u001b[1;34m(self, response)\u001b[0m\n\u001b[0;32m    247\u001b[0m         alert_text \u001b[38;5;241m=\u001b[39m value[\u001b[38;5;124m\"\u001b[39m\u001b[38;5;124malert\u001b[39m\u001b[38;5;124m\"\u001b[39m]\u001b[38;5;241m.\u001b[39mget(\u001b[38;5;124m\"\u001b[39m\u001b[38;5;124mtext\u001b[39m\u001b[38;5;124m\"\u001b[39m)\n\u001b[0;32m    248\u001b[0m     \u001b[38;5;28;01mraise\u001b[39;00m exception_class(message, screen, stacktrace, alert_text)  \u001b[38;5;66;03m# type: ignore[call-arg]  # mypy is not smart enough here\u001b[39;00m\n\u001b[1;32m--> 249\u001b[0m \u001b[38;5;28;01mraise\u001b[39;00m exception_class(message, screen, stacktrace)\n",
      "\u001b[1;31mNoSuchElementException\u001b[0m: Message: no such element: Unable to locate element: {\"method\":\"xpath\",\"selector\":\"//div[@data-ng-repeat=\"team in :refreshStats:vm.teams\"]//table/tbody\"}\n  (Session info: chrome=107.0.5304.122)\nStacktrace:\nBacktrace:\n\tOrdinal0 [0x011EACD3+2075859]\n\tOrdinal0 [0x0117EE61+1633889]\n\tOrdinal0 [0x0107B7BD+571325]\n\tOrdinal0 [0x010AAC2F+764975]\n\tOrdinal0 [0x010AAE1B+765467]\n\tOrdinal0 [0x010DD0F2+970994]\n\tOrdinal0 [0x010C7364+881508]\n\tOrdinal0 [0x010DB56A+963946]\n\tOrdinal0 [0x010C7136+880950]\n\tOrdinal0 [0x0109FEFD+720637]\n\tOrdinal0 [0x010A0F3F+724799]\n\tGetHandleVerifier [0x0149EED2+2769538]\n\tGetHandleVerifier [0x01490D95+2711877]\n\tGetHandleVerifier [0x0127A03A+521194]\n\tGetHandleVerifier [0x01278DA0+516432]\n\tOrdinal0 [0x0118682C+1665068]\n\tOrdinal0 [0x0118B128+1683752]\n\tOrdinal0 [0x0118B215+1683989]\n\tOrdinal0 [0x01196484+1729668]\n\tBaseThreadInitThunk [0x76EFFA29+25]\n\tRtlGetAppContainerNamedObjectPath [0x774275F4+228]\n\tRtlGetAppContainerNamedObjectPath [0x774275C4+180]\n"
     ]
    }
   ],
   "source": [
    "from selenium import webdriver\n",
    "from selenium.webdriver.common.by import By\n",
    "import time\n",
    "from selenium.webdriver.support.ui import Select\n",
    "\n",
    "website = \"https://www.adamchoi.co.uk/overs/detailed\"\n",
    "path = r\"C:\\Users\\pc\\Downloads\\chromedriver_win32\\chromedriver.exe\"\n",
    "driver = webdriver.Chrome(path)\n",
    "driver.get(website)\n",
    "all_matches = driver.find_element(By.XPATH,'//label[text()=\"All matches\"]')\n",
    "all_matches.click()\n",
    "time.sleep(3)\n",
    "\n",
    "#select option Select Season 21/22\n",
    "select = driver.find_element(By.ID,'season')\n",
    "select.click()\n",
    "s = Select(select)\n",
    "s.select_by_value(\"object:53\")\n",
    "\n",
    "#Arsenal team\n",
    "first_div = driver.find_element(By.XPATH,'//div[@data-ng-repeat=\"team in :refreshStats:vm.teams\"]//table/tbody')\n",
    "trs = first_div.find_elements(By.XPATH,'./tr')\n",
    "\n",
    "s=0\n",
    "for tr in trs:\n",
    "    print(tr.text)\n",
    "    s=s+1\n",
    "print(s)\n",
    "driver.quit()\n",
    "\n",
    "\n",
    "#time.sleep(10)\n",
    "#driver.quit()"
   ]
  },
  {
   "cell_type": "code",
   "execution_count": null,
   "id": "38293c22",
   "metadata": {},
   "outputs": [],
   "source": []
  },
  {
   "cell_type": "markdown",
   "id": "8453bc9f",
   "metadata": {},
   "source": [
    "### Matches of spesific team"
   ]
  },
  {
   "cell_type": "code",
   "execution_count": null,
   "id": "1279ba15",
   "metadata": {},
   "outputs": [],
   "source": [
    "from selenium import webdriver\n",
    "from selenium.webdriver.common.by import By\n",
    "import time\n",
    "from selenium.webdriver.support.ui import Select\n",
    "\n",
    "website = \"https://www.adamchoi.co.uk/overs/detailed\"\n",
    "path = r\"C:\\Users\\pc\\Downloads\\chromedriver_win32\\chromedriver.exe\"\n",
    "driver = webdriver.Chrome(path)\n",
    "driver.get(website)\n",
    "all_matches = driver.find_element(By.XPATH,'//label[text()=\"All matches\"]')\n",
    "all_matches.click()\n",
    "time.sleep(3)\n",
    "\n",
    "#select option Select Season 21/22\n",
    "select = driver.find_element(By.ID,'season')\n",
    "select.click()\n",
    "s = Select(select)\n",
    "s.select_by_value(\"object:53\")\n",
    "\n",
    "#Selected team\n",
    "\n",
    "\n",
    "\n",
    "driver.quit()\n",
    "\n",
    "\n",
    "#time.sleep(10)\n",
    "#driver.quit()"
   ]
  },
  {
   "cell_type": "code",
   "execution_count": null,
   "id": "eccfd2f3",
   "metadata": {},
   "outputs": [],
   "source": []
  },
  {
   "cell_type": "code",
   "execution_count": null,
   "id": "ee425535",
   "metadata": {},
   "outputs": [],
   "source": []
  },
  {
   "cell_type": "code",
   "execution_count": null,
   "id": "df81499e",
   "metadata": {},
   "outputs": [],
   "source": []
  }
 ],
 "metadata": {
  "kernelspec": {
   "display_name": "Python 3 (ipykernel)",
   "language": "python",
   "name": "python3"
  },
  "language_info": {
   "codemirror_mode": {
    "name": "ipython",
    "version": 3
   },
   "file_extension": ".py",
   "mimetype": "text/x-python",
   "name": "python",
   "nbconvert_exporter": "python",
   "pygments_lexer": "ipython3",
   "version": "3.9.12"
  }
 },
 "nbformat": 4,
 "nbformat_minor": 5
}
