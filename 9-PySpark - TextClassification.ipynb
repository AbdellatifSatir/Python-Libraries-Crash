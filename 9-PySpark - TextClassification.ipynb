{
 "cells": [
  {
   "cell_type": "code",
   "execution_count": 1,
   "id": "88756cab",
   "metadata": {},
   "outputs": [],
   "source": [
    "import findspark\n",
    "findspark.init()\n",
    "findspark.find()\n",
    "import pyspark\n",
    "from pyspark import SparkContext"
   ]
  },
  {
   "cell_type": "code",
   "execution_count": 17,
   "id": "88ad6e9f",
   "metadata": {},
   "outputs": [],
   "source": [
    "import pandas as pd"
   ]
  },
  {
   "cell_type": "markdown",
   "id": "8b5acb6a",
   "metadata": {},
   "source": [
    "## Spark Conext\n",
    " SparkContext is the entry point and the core component responsible for coordinating the execution of Spark jobs across a cluster."
   ]
  },
  {
   "cell_type": "code",
   "execution_count": 2,
   "id": "0cb35b25",
   "metadata": {},
   "outputs": [
    {
     "data": {
      "text/html": [
       "\n",
       "        <div>\n",
       "            <p><b>SparkContext</b></p>\n",
       "\n",
       "            <p><a href=\"http://DESKTOP-T7O7UUD:4040\">Spark UI</a></p>\n",
       "\n",
       "            <dl>\n",
       "              <dt>Version</dt>\n",
       "                <dd><code>v3.4.1</code></dd>\n",
       "              <dt>Master</dt>\n",
       "                <dd><code>local</code></dd>\n",
       "              <dt>AppName</dt>\n",
       "                <dd><code>test-app</code></dd>\n",
       "            </dl>\n",
       "        </div>\n",
       "        "
      ],
      "text/plain": [
       "<SparkContext master=local appName=test-app>"
      ]
     },
     "execution_count": 2,
     "metadata": {},
     "output_type": "execute_result"
    }
   ],
   "source": [
    "sc = SparkContext(master='local',appName='test-app')\n",
    "sc"
   ]
  },
  {
   "cell_type": "code",
   "execution_count": 3,
   "id": "bd342123",
   "metadata": {},
   "outputs": [
    {
     "data": {
      "text/plain": [
       "pyspark.rdd.RDD"
      ]
     },
     "execution_count": 3,
     "metadata": {},
     "output_type": "execute_result"
    }
   ],
   "source": [
    "rdd = sc.parallelize([1,2,3,4,5,6,7,8,9,10,11,12])\n",
    "type(rdd)"
   ]
  },
  {
   "cell_type": "code",
   "execution_count": 4,
   "id": "486350fd",
   "metadata": {},
   "outputs": [
    {
     "data": {
      "text/plain": [
       "[1, 2, 3, 4, 5, 6, 7, 8, 9, 10, 11, 12]"
      ]
     },
     "execution_count": 4,
     "metadata": {},
     "output_type": "execute_result"
    }
   ],
   "source": [
    "rdd.collect()"
   ]
  },
  {
   "cell_type": "code",
   "execution_count": 5,
   "id": "57891f82",
   "metadata": {},
   "outputs": [
    {
     "data": {
      "text/plain": [
       "[1, 4, 9, 16, 25, 36, 49, 64, 81, 100, 121, 144]"
      ]
     },
     "execution_count": 5,
     "metadata": {},
     "output_type": "execute_result"
    }
   ],
   "source": [
    "rdd.map(lambda x:x*x).collect()"
   ]
  },
  {
   "cell_type": "code",
   "execution_count": 6,
   "id": "c8f50313",
   "metadata": {},
   "outputs": [],
   "source": [
    "sc.stop()"
   ]
  },
  {
   "cell_type": "markdown",
   "id": "1d82bc90",
   "metadata": {},
   "source": [
    "## SparkSession\n",
    "The SparkSession includes a built-in SparkContext, and it provides additional functionality, including support for DataFrames and Dataset APIs, Spark SQL, and Spark's built-in functions."
   ]
  },
  {
   "cell_type": "code",
   "execution_count": 7,
   "id": "c606b897",
   "metadata": {},
   "outputs": [],
   "source": [
    "from pyspark.sql import SparkSession\n",
    "\n",
    "spark = SparkSession.builder.appName('TextClassification').getOrCreate()"
   ]
  },
  {
   "cell_type": "code",
   "execution_count": 8,
   "id": "dadb6aa3",
   "metadata": {},
   "outputs": [
    {
     "data": {
      "text/html": [
       "\n",
       "            <div>\n",
       "                <p><b>SparkSession - in-memory</b></p>\n",
       "                \n",
       "        <div>\n",
       "            <p><b>SparkContext</b></p>\n",
       "\n",
       "            <p><a href=\"http://DESKTOP-T7O7UUD:4040\">Spark UI</a></p>\n",
       "\n",
       "            <dl>\n",
       "              <dt>Version</dt>\n",
       "                <dd><code>v3.4.1</code></dd>\n",
       "              <dt>Master</dt>\n",
       "                <dd><code>local[*]</code></dd>\n",
       "              <dt>AppName</dt>\n",
       "                <dd><code>TextClassification</code></dd>\n",
       "            </dl>\n",
       "        </div>\n",
       "        \n",
       "            </div>\n",
       "        "
      ],
      "text/plain": [
       "<pyspark.sql.session.SparkSession at 0x26fd8bbdaf0>"
      ]
     },
     "execution_count": 8,
     "metadata": {},
     "output_type": "execute_result"
    }
   ],
   "source": [
    "spark"
   ]
  },
  {
   "cell_type": "code",
   "execution_count": 9,
   "id": "346685c0",
   "metadata": {
    "scrolled": true
   },
   "outputs": [
    {
     "name": "stdout",
     "output_type": "stream",
     "text": [
      "+---+---------+--------------------+--------------------+-------+-----+---------------+-----------+------------+------------------+----------------+--------------------+----------------+--------------------+\n",
      "|_c0|course_id|        course_title|                 url|is_paid|price|num_subscribers|num_reviews|num_lectures|             level|content_duration| published_timestamp|         subject|  clean_course_title|\n",
      "+---+---------+--------------------+--------------------+-------+-----+---------------+-----------+------------+------------------+----------------+--------------------+----------------+--------------------+\n",
      "|  0|  1070968|Ultimate Investme...|https://www.udemy...|   True|  200|           2147|         23|          51|        All Levels|       1.5 hours|2017-01-18T20:58:58Z|Business Finance|Ultimate Investme...|\n",
      "|  1|  1113822|Complete GST Cour...|https://www.udemy...|   True|   75|           2792|        923|         274|        All Levels|        39 hours|2017-03-09T16:34:20Z|Business Finance|Complete GST Cour...|\n",
      "|  2|  1006314|Financial Modelin...|https://www.udemy...|   True|   45|           2174|         74|          51|Intermediate Level|       2.5 hours|2016-12-19T19:26:30Z|Business Finance|Financial Modelin...|\n",
      "|  3|  1210588|Beginner to Pro -...|https://www.udemy...|   True|   95|           2451|         11|          36|        All Levels|         3 hours|2017-05-30T20:07:24Z|Business Finance|Beginner Pro  Fin...|\n",
      "|  4|  1011058|How To Maximize Y...|https://www.udemy...|   True|  200|           1276|         45|          26|Intermediate Level|         2 hours|2016-12-13T14:57:18Z|Business Finance|Maximize Profits ...|\n",
      "|  5|   192870|Trading Penny Sto...|https://www.udemy...|   True|  150|           9221|        138|          25|        All Levels|         3 hours|2014-05-02T15:13:30Z|Business Finance|Trading Penny Sto...|\n",
      "|  6|   739964|Investing And Tra...|https://www.udemy...|   True|   65|           1540|        178|          26|    Beginner Level|          1 hour|2016-02-21T18:23:12Z|Business Finance|Investing Trading...|\n",
      "|  7|   403100|Trading Stock Cha...|https://www.udemy...|   True|   95|           2917|        148|          23|        All Levels|       2.5 hours|2015-01-30T22:13:03Z|Business Finance|Trading Stock Cha...|\n",
      "|  8|   476268|Options Trading 3...|https://www.udemy...|   True|  195|           5172|         34|          38|      Expert Level|       2.5 hours|2015-05-28T00:14:03Z|Business Finance|Options Trading 3...|\n",
      "|  9|  1167710|The Only Investme...|https://www.udemy...|   True|  200|            827|         14|          15|        All Levels|          1 hour|2017-04-18T18:13:32Z|Business Finance|Investment Strate...|\n",
      "| 10|   592338|Forex Trading Sec...|https://www.udemy...|   True|  200|           4284|         93|          76|        All Levels|         5 hours|2015-09-11T16:47:02Z|Business Finance|Forex Trading Sec...|\n",
      "| 11|   975046|Trading Options W...|https://www.udemy...|   True|  200|           1380|         42|          17|        All Levels|          1 hour|2016-10-18T22:52:31Z|Business Finance|Trading Options M...|\n",
      "| 12|   742602|Financial Managem...|https://www.udemy...|   True|   30|           3607|         21|          19|        All Levels|       1.5 hours|2016-02-03T18:04:01Z|Business Finance|Financial Managem...|\n",
      "| 13|   794151|Forex Trading Cou...|https://www.udemy...|   True|  195|           4061|         52|          16|        All Levels|         2 hours|2016-03-16T15:40:19Z|Business Finance|Forex Trading Cou...|\n",
      "| 14|  1196544|Python Algo Tradi...|https://www.udemy...|   True|  200|            294|         19|          42|        All Levels|         7 hours|2017-04-28T16:41:44Z|Business Finance|Python Algo Tradi...|\n",
      "| 15|   504036|Short Selling: Le...|https://www.udemy...|   True|   75|           2276|        106|          19|Intermediate Level|       1.5 hours|2015-06-22T21:18:35Z|Business Finance|Short Selling Lea...|\n",
      "| 16|   719698|Basic Technical A...|https://www.udemy...|   True|   20|           4919|         79|          16|    Beginner Level|       1.5 hours|2016-01-08T17:21:26Z|Business Finance|Basic Technical A...|\n",
      "| 17|   564966|The Complete Char...|https://www.udemy...|   True|  200|           2666|        115|          52|        All Levels|         4 hours|2015-08-10T21:07:35Z|Business Finance|Complete Chart Pa...|\n",
      "| 18|   606928|7 Deadly Mistakes...|https://www.udemy...|   True|   50|           5354|         24|          23|        All Levels|       1.5 hours|2015-09-21T18:10:34Z|Business Finance|7 Deadly Mistakes...|\n",
      "| 19|    58977|Financial Stateme...|https://www.udemy...|   True|   95|           8095|        249|          12|    Beginner Level|         35 mins|2013-06-09T00:21:26Z|Business Finance|Financial Stateme...|\n",
      "+---+---------+--------------------+--------------------+-------+-----+---------------+-----------+------------+------------------+----------------+--------------------+----------------+--------------------+\n",
      "only showing top 20 rows\n",
      "\n"
     ]
    }
   ],
   "source": [
    "# https://github.com/Jcharis/pyspark-tutorials/blob/main/Text_Classification_with_PySpark/data/udemy_courses_clean.csv\n",
    "df = spark.read.csv('udemy_courses_clean.csv',header=True,inferSchema=True)\n",
    "df.show()"
   ]
  },
  {
   "cell_type": "code",
   "execution_count": 10,
   "id": "ba76cb0d",
   "metadata": {},
   "outputs": [
    {
     "data": {
      "text/plain": [
       "['_c0',\n",
       " 'course_id',\n",
       " 'course_title',\n",
       " 'url',\n",
       " 'is_paid',\n",
       " 'price',\n",
       " 'num_subscribers',\n",
       " 'num_reviews',\n",
       " 'num_lectures',\n",
       " 'level',\n",
       " 'content_duration',\n",
       " 'published_timestamp',\n",
       " 'subject',\n",
       " 'clean_course_title']"
      ]
     },
     "execution_count": 10,
     "metadata": {},
     "output_type": "execute_result"
    }
   ],
   "source": [
    "df.columns"
   ]
  },
  {
   "cell_type": "code",
   "execution_count": 11,
   "id": "a28f3513",
   "metadata": {
    "scrolled": true
   },
   "outputs": [
    {
     "name": "stdout",
     "output_type": "stream",
     "text": [
      "+--------------------+----------------+\n",
      "|        course_title|         subject|\n",
      "+--------------------+----------------+\n",
      "|Ultimate Investme...|Business Finance|\n",
      "|Complete GST Cour...|Business Finance|\n",
      "|Financial Modelin...|Business Finance|\n",
      "|Beginner to Pro -...|Business Finance|\n",
      "|How To Maximize Y...|Business Finance|\n",
      "+--------------------+----------------+\n",
      "only showing top 5 rows\n",
      "\n"
     ]
    }
   ],
   "source": [
    "df1 = df.select('course_title','subject')\n",
    "df1.show(5)"
   ]
  },
  {
   "cell_type": "code",
   "execution_count": 12,
   "id": "36c1848b",
   "metadata": {},
   "outputs": [
    {
     "name": "stdout",
     "output_type": "stream",
     "text": [
      "+--------------------+-----+\n",
      "|             subject|count|\n",
      "+--------------------+-----+\n",
      "|play Electric Gui...|    1|\n",
      "|Multiply returns ...|    1|\n",
      "|                null|    6|\n",
      "|    Business Finance| 1198|\n",
      "|Introduction Guit...|    1|\n",
      "|Learn Play Fernan...|    1|\n",
      "|      Graphic Design|  603|\n",
      "|Aprende tocar el ...|    1|\n",
      "|     Web Development| 1200|\n",
      "|Learn Classical G...|    1|\n",
      "| Musical Instruments|  676|\n",
      "+--------------------+-----+\n",
      "\n"
     ]
    }
   ],
   "source": [
    "df1.groupBy('subject').count().show()"
   ]
  },
  {
   "cell_type": "code",
   "execution_count": 13,
   "id": "f16b20c8",
   "metadata": {},
   "outputs": [
    {
     "name": "stdout",
     "output_type": "stream",
     "text": [
      "root\n",
      " |-- course_title: string (nullable = true)\n",
      " |-- subject: string (nullable = true)\n",
      "\n"
     ]
    }
   ],
   "source": [
    "# df1.toPandas()\n",
    "df1.printSchema()"
   ]
  },
  {
   "cell_type": "code",
   "execution_count": 18,
   "id": "2b9e9a6b",
   "metadata": {
    "scrolled": false
   },
   "outputs": [
    {
     "data": {
      "text/html": [
       "<div>\n",
       "<style scoped>\n",
       "    .dataframe tbody tr th:only-of-type {\n",
       "        vertical-align: middle;\n",
       "    }\n",
       "\n",
       "    .dataframe tbody tr th {\n",
       "        vertical-align: top;\n",
       "    }\n",
       "\n",
       "    .dataframe thead th {\n",
       "        text-align: right;\n",
       "    }\n",
       "</style>\n",
       "<table border=\"1\" class=\"dataframe\">\n",
       "  <thead>\n",
       "    <tr style=\"text-align: right;\">\n",
       "      <th></th>\n",
       "      <th>course_title</th>\n",
       "      <th>subject</th>\n",
       "    </tr>\n",
       "  </thead>\n",
       "  <tbody>\n",
       "    <tr>\n",
       "      <th>0</th>\n",
       "      <td>Ultimate Investment Banking Course</td>\n",
       "      <td>Business Finance</td>\n",
       "    </tr>\n",
       "    <tr>\n",
       "      <th>1</th>\n",
       "      <td>Complete GST Course &amp; Certification - Grow You...</td>\n",
       "      <td>Business Finance</td>\n",
       "    </tr>\n",
       "    <tr>\n",
       "      <th>2</th>\n",
       "      <td>Financial Modeling for Business Analysts and C...</td>\n",
       "      <td>Business Finance</td>\n",
       "    </tr>\n",
       "    <tr>\n",
       "      <th>3</th>\n",
       "      <td>Beginner to Pro - Financial Analysis in Excel ...</td>\n",
       "      <td>Business Finance</td>\n",
       "    </tr>\n",
       "    <tr>\n",
       "      <th>4</th>\n",
       "      <td>How To Maximize Your Profits Trading Options</td>\n",
       "      <td>Business Finance</td>\n",
       "    </tr>\n",
       "    <tr>\n",
       "      <th>...</th>\n",
       "      <td>...</td>\n",
       "      <td>...</td>\n",
       "    </tr>\n",
       "    <tr>\n",
       "      <th>3684</th>\n",
       "      <td>Learn jQuery from Scratch - Master of JavaScri...</td>\n",
       "      <td>Web Development</td>\n",
       "    </tr>\n",
       "    <tr>\n",
       "      <th>3685</th>\n",
       "      <td>How To Design A WordPress Website With No Codi...</td>\n",
       "      <td>Web Development</td>\n",
       "    </tr>\n",
       "    <tr>\n",
       "      <th>3686</th>\n",
       "      <td>Learn and Build using Polymer</td>\n",
       "      <td>Web Development</td>\n",
       "    </tr>\n",
       "    <tr>\n",
       "      <th>3687</th>\n",
       "      <td>CSS Animations: Create Amazing Effects on Your...</td>\n",
       "      <td>Web Development</td>\n",
       "    </tr>\n",
       "    <tr>\n",
       "      <th>3688</th>\n",
       "      <td>Using MODX CMS to Build Websites: A Beginner's...</td>\n",
       "      <td>Web Development</td>\n",
       "    </tr>\n",
       "  </tbody>\n",
       "</table>\n",
       "<p>3689 rows × 2 columns</p>\n",
       "</div>"
      ],
      "text/plain": [
       "                                           course_title           subject\n",
       "0                    Ultimate Investment Banking Course  Business Finance\n",
       "1     Complete GST Course & Certification - Grow You...  Business Finance\n",
       "2     Financial Modeling for Business Analysts and C...  Business Finance\n",
       "3     Beginner to Pro - Financial Analysis in Excel ...  Business Finance\n",
       "4          How To Maximize Your Profits Trading Options  Business Finance\n",
       "...                                                 ...               ...\n",
       "3684  Learn jQuery from Scratch - Master of JavaScri...   Web Development\n",
       "3685  How To Design A WordPress Website With No Codi...   Web Development\n",
       "3686                      Learn and Build using Polymer   Web Development\n",
       "3687  CSS Animations: Create Amazing Effects on Your...   Web Development\n",
       "3688  Using MODX CMS to Build Websites: A Beginner's...   Web Development\n",
       "\n",
       "[3689 rows x 2 columns]"
      ]
     },
     "execution_count": 18,
     "metadata": {},
     "output_type": "execute_result"
    }
   ],
   "source": [
    "df1.toPandas()"
   ]
  },
  {
   "cell_type": "code",
   "execution_count": 19,
   "id": "2b3de307",
   "metadata": {},
   "outputs": [
    {
     "name": "stdout",
     "output_type": "stream",
     "text": [
      "+-------+---------------------------------+--------------------+\n",
      "|summary|                     course_title|             subject|\n",
      "+-------+---------------------------------+--------------------+\n",
      "|  count|                             3689|                3683|\n",
      "|   mean|                             null|                null|\n",
      "| stddev|                             null|                null|\n",
      "|    min|             #1 Piano Hand Coo...|Aprende tocar el ...|\n",
      "|    max|７日でマスター  ビギナー向け A...|play Electric Gui...|\n",
      "+-------+---------------------------------+--------------------+\n",
      "\n"
     ]
    }
   ],
   "source": [
    "df1.describe().show()"
   ]
  },
  {
   "cell_type": "code",
   "execution_count": 15,
   "id": "78433654",
   "metadata": {},
   "outputs": [
    {
     "name": "stdout",
     "output_type": "stream",
     "text": [
      "( 3689 , 2 )\n"
     ]
    }
   ],
   "source": [
    "def shape(df):\n",
    "    print('(',df.count() ,',', len(df.columns),')')\n",
    "\n",
    "shape(df1)"
   ]
  },
  {
   "cell_type": "code",
   "execution_count": 16,
   "id": "e1458b86",
   "metadata": {},
   "outputs": [
    {
     "name": "stdout",
     "output_type": "stream",
     "text": [
      "( 3683 , 2 )\n"
     ]
    }
   ],
   "source": [
    "df2 = df1.dropna(subset='subject')\n",
    "shape(df2)"
   ]
  },
  {
   "cell_type": "markdown",
   "id": "3c98e6d3",
   "metadata": {},
   "source": [
    "## Machine Learning\n",
    "Tokenization -> stopwords remover -> CountVectorizer -> IDF -> LogisticRegression "
   ]
  },
  {
   "cell_type": "code",
   "execution_count": 21,
   "id": "47b8b33c",
   "metadata": {},
   "outputs": [],
   "source": [
    "import pyspark.ml.feature"
   ]
  },
  {
   "cell_type": "code",
   "execution_count": 22,
   "id": "e6927e88",
   "metadata": {
    "collapsed": true
   },
   "outputs": [
    {
     "data": {
      "text/plain": [
       "['Any',\n",
       " 'Binarizer',\n",
       " 'BucketedRandomProjectionLSH',\n",
       " 'BucketedRandomProjectionLSHModel',\n",
       " 'Bucketizer',\n",
       " 'ChiSqSelector',\n",
       " 'ChiSqSelectorModel',\n",
       " 'CountVectorizer',\n",
       " 'CountVectorizerModel',\n",
       " 'DCT',\n",
       " 'DataFrame',\n",
       " 'DenseMatrix',\n",
       " 'DenseVector',\n",
       " 'Dict',\n",
       " 'ElementwiseProduct',\n",
       " 'FeatureHasher',\n",
       " 'Generic',\n",
       " 'HasFeaturesCol',\n",
       " 'HasHandleInvalid',\n",
       " 'HasInputCol',\n",
       " 'HasInputCols',\n",
       " 'HasLabelCol',\n",
       " 'HasMaxIter',\n",
       " 'HasNumFeatures',\n",
       " 'HasOutputCol',\n",
       " 'HasOutputCols',\n",
       " 'HasRelativeError',\n",
       " 'HasSeed',\n",
       " 'HasStepSize',\n",
       " 'HasThreshold',\n",
       " 'HasThresholds',\n",
       " 'HashingTF',\n",
       " 'IDF',\n",
       " 'IDFModel',\n",
       " 'Imputer',\n",
       " 'ImputerModel',\n",
       " 'IndexToString',\n",
       " 'Interaction',\n",
       " 'JM',\n",
       " 'JavaEstimator',\n",
       " 'JavaMLReadable',\n",
       " 'JavaMLWritable',\n",
       " 'JavaModel',\n",
       " 'JavaParams',\n",
       " 'JavaTransformer',\n",
       " 'List',\n",
       " 'MaxAbsScaler',\n",
       " 'MaxAbsScalerModel',\n",
       " 'MinHashLSH',\n",
       " 'MinHashLSHModel',\n",
       " 'MinMaxScaler',\n",
       " 'MinMaxScalerModel',\n",
       " 'NGram',\n",
       " 'Normalizer',\n",
       " 'OneHotEncoder',\n",
       " 'OneHotEncoderModel',\n",
       " 'Optional',\n",
       " 'P',\n",
       " 'PCA',\n",
       " 'PCAModel',\n",
       " 'Param',\n",
       " 'Params',\n",
       " 'PolynomialExpansion',\n",
       " 'QuantileDiscretizer',\n",
       " 'RFormula',\n",
       " 'RFormulaModel',\n",
       " 'RegexTokenizer',\n",
       " 'RobustScaler',\n",
       " 'RobustScalerModel',\n",
       " 'SQLTransformer',\n",
       " 'SparkContext',\n",
       " 'StandardScaler',\n",
       " 'StandardScalerModel',\n",
       " 'StopWordsRemover',\n",
       " 'StringIndexer',\n",
       " 'StringIndexerModel',\n",
       " 'TYPE_CHECKING',\n",
       " 'Tokenizer',\n",
       " 'Tuple',\n",
       " 'TypeConverters',\n",
       " 'TypeVar',\n",
       " 'Union',\n",
       " 'UnivariateFeatureSelector',\n",
       " 'UnivariateFeatureSelectorModel',\n",
       " 'VarianceThresholdSelector',\n",
       " 'VarianceThresholdSelectorModel',\n",
       " 'Vector',\n",
       " 'VectorAssembler',\n",
       " 'VectorIndexer',\n",
       " 'VectorIndexerModel',\n",
       " 'VectorSizeHint',\n",
       " 'VectorSlicer',\n",
       " 'Word2Vec',\n",
       " 'Word2VecModel',\n",
       " '_BucketedRandomProjectionLSHParams',\n",
       " '_CountVectorizerParams',\n",
       " '_IDFParams',\n",
       " '_ImputerParams',\n",
       " '_LSH',\n",
       " '_LSHModel',\n",
       " '_LSHParams',\n",
       " '_MaxAbsScalerParams',\n",
       " '_MinMaxScalerParams',\n",
       " '_OneHotEncoderParams',\n",
       " '_PCAParams',\n",
       " '_RFormulaParams',\n",
       " '_RobustScalerParams',\n",
       " '_Selector',\n",
       " '_SelectorModel',\n",
       " '_SelectorParams',\n",
       " '_StandardScalerParams',\n",
       " '_StringIndexerParams',\n",
       " '_UnivariateFeatureSelectorParams',\n",
       " '_VarianceThresholdSelectorParams',\n",
       " '_VectorIndexerParams',\n",
       " '_Word2VecParams',\n",
       " '__all__',\n",
       " '__builtins__',\n",
       " '__cached__',\n",
       " '__doc__',\n",
       " '__file__',\n",
       " '__loader__',\n",
       " '__name__',\n",
       " '__package__',\n",
       " '__spec__',\n",
       " '_convert_to_vector',\n",
       " '_jvm',\n",
       " 'cast',\n",
       " 'inherit_doc',\n",
       " 'keyword_only',\n",
       " 'overload',\n",
       " 'since']"
      ]
     },
     "execution_count": 22,
     "metadata": {},
     "output_type": "execute_result"
    }
   ],
   "source": [
    "dir(pyspark.ml.feature)"
   ]
  },
  {
   "cell_type": "code",
   "execution_count": 23,
   "id": "81f7f210",
   "metadata": {},
   "outputs": [],
   "source": [
    "from pyspark.ml.feature import Tokenizer,StopWordsRemover, CountVectorizer, IDF\n",
    "from pyspark.ml.feature import StringIndexer"
   ]
  },
  {
   "cell_type": "code",
   "execution_count": 110,
   "id": "46952a67",
   "metadata": {},
   "outputs": [
    {
     "name": "stdout",
     "output_type": "stream",
     "text": [
      "+-----------------------------------------------------------+----------------+\n",
      "|course_title                                               |subject         |\n",
      "+-----------------------------------------------------------+----------------+\n",
      "|Ultimate Investment Banking Course                         |Business Finance|\n",
      "|Complete GST Course & Certification - Grow Your CA Practice|Business Finance|\n",
      "+-----------------------------------------------------------+----------------+\n",
      "only showing top 2 rows\n",
      "\n"
     ]
    }
   ],
   "source": [
    "df2.show(2,truncate=False)"
   ]
  },
  {
   "cell_type": "code",
   "execution_count": 109,
   "id": "f2fbd7b5",
   "metadata": {},
   "outputs": [
    {
     "name": "stdout",
     "output_type": "stream",
     "text": [
      "+--------------------+-----+\n",
      "|             subject|count|\n",
      "+--------------------+-----+\n",
      "|play Electric Gui...|    1|\n",
      "|Multiply returns ...|    1|\n",
      "|    Business Finance| 1198|\n",
      "|Introduction Guit...|    1|\n",
      "|Learn Play Fernan...|    1|\n",
      "|      Graphic Design|  603|\n",
      "|Aprende tocar el ...|    1|\n",
      "|     Web Development| 1200|\n",
      "|Learn Classical G...|    1|\n",
      "| Musical Instruments|  676|\n",
      "+--------------------+-----+\n",
      "\n"
     ]
    }
   ],
   "source": [
    "df2.groupBy('subject').count().show()"
   ]
  },
  {
   "cell_type": "code",
   "execution_count": 30,
   "id": "9deb6ddd",
   "metadata": {},
   "outputs": [
    {
     "name": "stdout",
     "output_type": "stream",
     "text": [
      "+-------------------+-----+\n",
      "|            subject|count|\n",
      "+-------------------+-----+\n",
      "|   Business Finance| 1198|\n",
      "|     Graphic Design|  603|\n",
      "|    Web Development| 1200|\n",
      "|Musical Instruments|  676|\n",
      "+-------------------+-----+\n",
      "\n"
     ]
    }
   ],
   "source": [
    "df2.groupBy('subject').count().filter('count != 1').show()"
   ]
  },
  {
   "cell_type": "code",
   "execution_count": 31,
   "id": "8db54c67",
   "metadata": {},
   "outputs": [
    {
     "name": "stdout",
     "output_type": "stream",
     "text": [
      "+-------------------+\n",
      "|            subject|\n",
      "+-------------------+\n",
      "|   Business Finance|\n",
      "|     Graphic Design|\n",
      "|    Web Development|\n",
      "|Musical Instruments|\n",
      "+-------------------+\n",
      "\n"
     ]
    }
   ],
   "source": [
    "df2.groupBy('subject').count().filter('count != 1').select('subject').show()"
   ]
  },
  {
   "cell_type": "code",
   "execution_count": 32,
   "id": "67cd9a4b",
   "metadata": {},
   "outputs": [
    {
     "data": {
      "text/plain": [
       "DataFrame[subject: string]"
      ]
     },
     "execution_count": 32,
     "metadata": {},
     "output_type": "execute_result"
    }
   ],
   "source": [
    "df2.groupBy('subject').count().filter('count != 1').select('subject')"
   ]
  },
  {
   "cell_type": "code",
   "execution_count": 33,
   "id": "4dd27833",
   "metadata": {},
   "outputs": [],
   "source": [
    "from pyspark.sql.functions import col\n",
    "\n",
    "df3 = df2.filter(col(\"subject\").isin(['Web Development','Graphic Design','Business Finance','Musical Instruments']))"
   ]
  },
  {
   "cell_type": "code",
   "execution_count": 34,
   "id": "b6d7b4b8",
   "metadata": {},
   "outputs": [
    {
     "name": "stdout",
     "output_type": "stream",
     "text": [
      "( 3683 , 2 )\n"
     ]
    }
   ],
   "source": [
    "shape(df2)"
   ]
  },
  {
   "cell_type": "code",
   "execution_count": 35,
   "id": "aa54556c",
   "metadata": {},
   "outputs": [
    {
     "name": "stdout",
     "output_type": "stream",
     "text": [
      "( 3677 , 2 )\n"
     ]
    }
   ],
   "source": [
    "shape(df3)"
   ]
  },
  {
   "cell_type": "code",
   "execution_count": 36,
   "id": "a11579e7",
   "metadata": {},
   "outputs": [
    {
     "name": "stdout",
     "output_type": "stream",
     "text": [
      "+-------------------+-----+\n",
      "|            subject|count|\n",
      "+-------------------+-----+\n",
      "|   Business Finance| 1198|\n",
      "|     Graphic Design|  603|\n",
      "|    Web Development| 1200|\n",
      "|Musical Instruments|  676|\n",
      "+-------------------+-----+\n",
      "\n"
     ]
    }
   ],
   "source": [
    "df3.groupBy('subject').count().show()"
   ]
  },
  {
   "cell_type": "code",
   "execution_count": 40,
   "id": "508ae982",
   "metadata": {},
   "outputs": [
    {
     "data": {
      "text/plain": [
       "pyspark.sql.dataframe.DataFrame"
      ]
     },
     "execution_count": 40,
     "metadata": {},
     "output_type": "execute_result"
    }
   ],
   "source": [
    "type(df3)"
   ]
  },
  {
   "cell_type": "markdown",
   "id": "c4b5bf5f",
   "metadata": {},
   "source": [
    "### Pipeline\n",
    "- Tokenize the text: Convert the text into individual tokens (words).\n",
    "- Apply CountVectorizer: Convert the tokens into numerical vectors representing the word occurrences in each document.\n",
    "- Apply IDF: Transform the CountVectorizer output into TF-IDF (Term Frequency-Inverse Document Frequency) vectors."
   ]
  },
  {
   "cell_type": "code",
   "execution_count": 42,
   "id": "c33e5ea9",
   "metadata": {},
   "outputs": [
    {
     "name": "stdout",
     "output_type": "stream",
     "text": [
      "+--------------------+----------------+--------------------+\n",
      "|        course_title|         subject|              tokens|\n",
      "+--------------------+----------------+--------------------+\n",
      "|Ultimate Investme...|Business Finance|[ultimate, invest...|\n",
      "|Complete GST Cour...|Business Finance|[complete, gst, c...|\n",
      "|Financial Modelin...|Business Finance|[financial, model...|\n",
      "|Beginner to Pro -...|Business Finance|[beginner, to, pr...|\n",
      "|How To Maximize Y...|Business Finance|[how, to, maximiz...|\n",
      "|Trading Penny Sto...|Business Finance|[trading, penny, ...|\n",
      "|Investing And Tra...|Business Finance|[investing, and, ...|\n",
      "|Trading Stock Cha...|Business Finance|[trading, stock, ...|\n",
      "|Options Trading 3...|Business Finance|[options, trading...|\n",
      "|The Only Investme...|Business Finance|[the, only, inves...|\n",
      "|Forex Trading Sec...|Business Finance|[forex, trading, ...|\n",
      "|Trading Options W...|Business Finance|[trading, options...|\n",
      "|Financial Managem...|Business Finance|[financial, manag...|\n",
      "|Forex Trading Cou...|Business Finance|[forex, trading, ...|\n",
      "|Python Algo Tradi...|Business Finance|[python, algo, tr...|\n",
      "|Short Selling: Le...|Business Finance|[short, selling:,...|\n",
      "|Basic Technical A...|Business Finance|[basic, technical...|\n",
      "|The Complete Char...|Business Finance|[the, complete, c...|\n",
      "|7 Deadly Mistakes...|Business Finance|[7, deadly, mista...|\n",
      "|Financial Stateme...|Business Finance|[financial, state...|\n",
      "+--------------------+----------------+--------------------+\n",
      "only showing top 20 rows\n",
      "\n"
     ]
    }
   ],
   "source": [
    "tokenizer = Tokenizer(inputCol=\"course_title\" , outputCol=\"tokens\")\n",
    "tokenizer.transform(df3).show()"
   ]
  },
  {
   "cell_type": "code",
   "execution_count": 45,
   "id": "72d29cdf",
   "metadata": {},
   "outputs": [],
   "source": [
    "tokenizer = Tokenizer(inputCol=\"course_title\" , outputCol=\"tokens\")\n",
    "stopwords_remove = StopWordsRemover(inputCol=\"tokens\",outputCol=\"filtred_tokens\")\n",
    "vectorizer = CountVectorizer(inputCol=\"filtred_tokens\",outputCol=\"vectors\")\n",
    "idf = IDF(inputCol=\"vectors\",outputCol=\"tfidf_vectors\")"
   ]
  },
  {
   "cell_type": "code",
   "execution_count": 58,
   "id": "b0f0501c",
   "metadata": {},
   "outputs": [
    {
     "name": "stdout",
     "output_type": "stream",
     "text": [
      "+-----+-----+\n",
      "|label|count|\n",
      "+-----+-----+\n",
      "|  0.0| 1200|\n",
      "|  1.0| 1198|\n",
      "|  3.0|  603|\n",
      "|  2.0|  676|\n",
      "+-----+-----+\n",
      "\n"
     ]
    }
   ],
   "source": [
    "labelEncoder = StringIndexer(inputCol=\"subject\",outputCol=\"label\").fit(df3)\n",
    "labelEncoder.transform(df3).groupBy('label').count().show()"
   ]
  },
  {
   "cell_type": "code",
   "execution_count": 52,
   "id": "b41bd3b6",
   "metadata": {},
   "outputs": [
    {
     "data": {
      "text/plain": [
       "['Web Development',\n",
       " 'Business Finance',\n",
       " 'Musical Instruments',\n",
       " 'Graphic Design']"
      ]
     },
     "execution_count": 52,
     "metadata": {},
     "output_type": "execute_result"
    }
   ],
   "source": [
    "labelEncoder.labels"
   ]
  },
  {
   "cell_type": "code",
   "execution_count": 59,
   "id": "5f9ce244",
   "metadata": {},
   "outputs": [
    {
     "name": "stdout",
     "output_type": "stream",
     "text": [
      "+--------------------+----------------+-----+\n",
      "|        course_title|         subject|label|\n",
      "+--------------------+----------------+-----+\n",
      "|Ultimate Investme...|Business Finance|  1.0|\n",
      "|Complete GST Cour...|Business Finance|  1.0|\n",
      "|Financial Modelin...|Business Finance|  1.0|\n",
      "|Beginner to Pro -...|Business Finance|  1.0|\n",
      "|How To Maximize Y...|Business Finance|  1.0|\n",
      "+--------------------+----------------+-----+\n",
      "only showing top 5 rows\n",
      "\n"
     ]
    }
   ],
   "source": [
    "df4 = labelEncoder.transform(df3)\n",
    "df4.show(5)"
   ]
  },
  {
   "cell_type": "code",
   "execution_count": 76,
   "id": "7c77789f",
   "metadata": {},
   "outputs": [],
   "source": [
    "# split dataset\n",
    "(df4_train , df4_test) = df4.randomSplit((0.7,0.3))"
   ]
  },
  {
   "cell_type": "code",
   "execution_count": 77,
   "id": "02af3474",
   "metadata": {},
   "outputs": [
    {
     "name": "stdout",
     "output_type": "stream",
     "text": [
      "( 3677 , 3 )\n",
      "( 2575 , 3 )\n",
      "( 1102 , 3 )\n"
     ]
    },
    {
     "data": {
      "text/plain": [
       "(None, None, None)"
      ]
     },
     "execution_count": 77,
     "metadata": {},
     "output_type": "execute_result"
    }
   ],
   "source": [
    "shape(df4) , shape(df4_train)  ,  shape(df4_test)"
   ]
  },
  {
   "cell_type": "markdown",
   "id": "67ee53f9",
   "metadata": {},
   "source": [
    "### Model"
   ]
  },
  {
   "cell_type": "code",
   "execution_count": 78,
   "id": "a3d63724",
   "metadata": {},
   "outputs": [],
   "source": [
    "from pyspark.ml.classification import LogisticRegression\n",
    "from pyspark.ml.pipeline import Pipeline"
   ]
  },
  {
   "cell_type": "code",
   "execution_count": 79,
   "id": "f0415823",
   "metadata": {},
   "outputs": [
    {
     "data": {
      "text/plain": [
       "Pipeline_bb66d9c3d862"
      ]
     },
     "execution_count": 79,
     "metadata": {},
     "output_type": "execute_result"
    }
   ],
   "source": [
    "tokenizer = Tokenizer(inputCol=\"course_title\" , outputCol=\"tokens\")\n",
    "stopwords_remove = StopWordsRemover(inputCol=\"tokens\",outputCol=\"filtred_tokens\")\n",
    "vectorizer = CountVectorizer(inputCol=\"filtred_tokens\",outputCol=\"vectors\")\n",
    "idf = IDF(inputCol=\"vectors\",outputCol=\"tfidf_vectors\")\n",
    "lr = LogisticRegression(featuresCol=\"tfidf_vectors\" , labelCol=\"label\")\n",
    "\n",
    "pipeline = Pipeline(stages=[tokenizer,stopwords_remove,vectorizer,idf, lr])\n",
    "pipeline"
   ]
  },
  {
   "cell_type": "code",
   "execution_count": 81,
   "id": "04945097",
   "metadata": {},
   "outputs": [
    {
     "data": {
      "text/plain": [
       "PipelineModel_b00624807cbe"
      ]
     },
     "execution_count": 81,
     "metadata": {},
     "output_type": "execute_result"
    }
   ],
   "source": [
    "model = pipeline.fit(df4_train)\n",
    "model"
   ]
  },
  {
   "cell_type": "code",
   "execution_count": 84,
   "id": "7a2bdc2d",
   "metadata": {},
   "outputs": [
    {
     "name": "stdout",
     "output_type": "stream",
     "text": [
      "+--------------------+-------------------+-----+--------------------+--------------------+--------------------+----------+\n",
      "|        course_title|            subject|label|       tfidf_vectors|       rawPrediction|         probability|prediction|\n",
      "+--------------------+-------------------+-----+--------------------+--------------------+--------------------+----------+\n",
      "|#10 Hand Coordina...|Musical Instruments|  2.0|(3632,[0,4,304,32...|[-7.8409562446138...|[9.06327355030474...|       2.0|\n",
      "|#4 Piano Hand Coo...|Musical Instruments|  2.0|(3632,[11,43,172,...|[-15.411165730635...|[1.75264458680651...|       2.0|\n",
      "|1 - Concepts of S...|   Business Finance|  1.0|(3632,[0,3,38,79,...|[7.53314092984721...|[0.98934600423680...|       0.0|\n",
      "|4 Week Rhythm Mas...|Musical Instruments|  2.0|(3632,[60,213,306...|[4.08226013767878...|[0.68779413303885...|       0.0|\n",
      "|48 Logo Designs a...|     Graphic Design|  3.0|(3632,[54,125,405...|[-10.543906142554...|[3.01621709496620...|       3.0|\n",
      "|6 Must Know Trick...|Musical Instruments|  2.0|(3632,[140,231,30...|[4.21458096236397...|[0.37085639951073...|       1.0|\n",
      "|6. Annuities Due ...|   Business Finance|  1.0|(3632,[2997],[7.1...|[-0.7704102270009...|[0.00115105957104...|       1.0|\n",
      "|7 Deadly Mistakes...|   Business Finance|  1.0|(3632,[68,201],[4...|[-3.2596095120774...|[3.96833072735535...|       1.0|\n",
      "|8 Steps To Achiev...|   Business Finance|  1.0|(3632,[14,141,218...|[-10.922204088530...|[4.12662187235155...|       1.0|\n",
      "|8. Amortization S...|   Business Finance|  1.0|        (3632,[],[])|[-0.1492236353252...|[0.00204232210711...|       1.0|\n",
      "|88 Logic - The Es...|Musical Instruments|  2.0|(3632,[0,11,21,97...|[-3.4575794661397...|[9.95504330160393...|       2.0|\n",
      "|    9. Sinking Funds|   Business Finance|  1.0|(3632,[825],[6.46...|[-0.7971662461768...|[5.64983365482335...|       1.0|\n",
      "|A 13 Hour SQL Ser...|    Web Development|  0.0|(3632,[6,117,273,...|[9.43998772716441...|[0.99993655928254...|       0.0|\n",
      "|A Beginner's Guid...|   Business Finance|  1.0|(3632,[21,183,244...|[0.84006435848233...|[0.00228064104590...|       1.0|\n",
      "|A Complete Guide ...|   Business Finance|  1.0|(3632,[9,12,21,61...|[-10.721711429854...|[4.10115005397263...|       1.0|\n",
      "|A Very Complete I...|    Web Development|  0.0|(3632,[9,33,142],...|[13.0200873692312...|[0.99999407624541...|       0.0|\n",
      "|A how to guide in...|    Web Development|  0.0|(3632,[21,26],[3....|[9.91730353413996...|[0.99995165761200...|       0.0|\n",
      "|A-Frame WebVR Pro...|    Web Development|  0.0|(3632,[75,90,257]...|[11.8562501546968...|[0.99999905929816...|       0.0|\n",
      "|ACCA MA1 Manageme...|   Business Finance|  1.0|(3632,[114,1921],...|[-3.1702328870538...|[2.96486960190256...|       1.0|\n",
      "|ALGOTECH Hedge Fu...|   Business Finance|  1.0|(3632,[2,50,61,38...|[-14.251748929452...|[2.47069856759654...|       1.0|\n",
      "+--------------------+-------------------+-----+--------------------+--------------------+--------------------+----------+\n",
      "only showing top 20 rows\n",
      "\n"
     ]
    }
   ],
   "source": [
    "predictions = model.transform(df4_test)\n",
    "predictions.select(['course_title','subject','label','tfidf_vectors','rawPrediction','probability','prediction']).show()"
   ]
  },
  {
   "cell_type": "markdown",
   "id": "8271213a",
   "metadata": {},
   "source": [
    "### Metrics"
   ]
  },
  {
   "cell_type": "code",
   "execution_count": 86,
   "id": "68e2029d",
   "metadata": {},
   "outputs": [],
   "source": [
    "from pyspark.ml.evaluation import MulticlassClassificationEvaluator as MCE"
   ]
  },
  {
   "cell_type": "code",
   "execution_count": 89,
   "id": "6441bb07",
   "metadata": {},
   "outputs": [
    {
     "data": {
      "text/plain": [
       "0.9310344827586207"
      ]
     },
     "execution_count": 89,
     "metadata": {},
     "output_type": "execute_result"
    }
   ],
   "source": [
    "evaluator = MCE(predictionCol=\"prediction\", labelCol=\"label\", metricName=\"accuracy\")\n",
    "accuracy = evaluator.evaluate(predictions)\n",
    "accuracy"
   ]
  },
  {
   "cell_type": "code",
   "execution_count": 90,
   "id": "bd913342",
   "metadata": {},
   "outputs": [],
   "source": [
    "from pyspark.mllib.evaluation import MulticlassMetrics # it word with rdd"
   ]
  },
  {
   "cell_type": "code",
   "execution_count": 101,
   "id": "8c124bb1",
   "metadata": {},
   "outputs": [
    {
     "name": "stdout",
     "output_type": "stream",
     "text": [
      "accuracy : 0.9310344827586207\n",
      "precision : 0.9690140845070423\n",
      "recall : 0.884318766066838\n",
      "f-score : 0.924731182795699\n"
     ]
    }
   ],
   "source": [
    "metrics = MulticlassMetrics(predictions['label','prediction'].rdd)\n",
    "print('accuracy :',metrics.accuracy)\n",
    "print('precision :',metrics.precision(1.0))\n",
    "print('recall :',metrics.recall(1.0))\n",
    "print('f-score :',metrics.fMeasure(1.0))"
   ]
  },
  {
   "cell_type": "code",
   "execution_count": 104,
   "id": "efea77e5",
   "metadata": {},
   "outputs": [
    {
     "data": {
      "text/plain": [
       "array([[338,  11,   0,   9],\n",
       "       [  5, 344,   2,   4],\n",
       "       [  2,  12, 192,   2],\n",
       "       [  6,  22,   1, 152]], dtype=int64)"
      ]
     },
     "execution_count": 104,
     "metadata": {},
     "output_type": "execute_result"
    }
   ],
   "source": [
    "from sklearn.metrics import confusion_matrix,classification_report\n",
    "import seaborn as sn\n",
    "\n",
    "y_true = predictions.select('label').toPandas()\n",
    "y_pred = predictions.select('prediction').toPandas()\n",
    "cm = confusion_matrix(y_true , y_pred)\n",
    "cm"
   ]
  },
  {
   "cell_type": "code",
   "execution_count": 106,
   "id": "b7ba585d",
   "metadata": {},
   "outputs": [
    {
     "data": {
      "text/plain": [
       "<Axes: >"
      ]
     },
     "execution_count": 106,
     "metadata": {},
     "output_type": "execute_result"
    },
    {
     "data": {
      "image/png": "[encoded data removed]",
      "text/plain": [
       "<Figure size 640x480 with 2 Axes>"
      ]
     },
     "metadata": {},
     "output_type": "display_data"
    }
   ],
   "source": [
    "sn.heatmap(cm,annot=True)"
   ]
  },
  {
   "cell_type": "markdown",
   "id": "ff42b113",
   "metadata": {},
   "source": [
    "### Predictions"
   ]
  },
  {
   "cell_type": "code",
   "execution_count": 122,
   "id": "c29fa68c",
   "metadata": {},
   "outputs": [
    {
     "ename": "AttributeError",
     "evalue": "'str' object has no attribute 'StringType'",
     "output_type": "error",
     "traceback": [
      "\u001b[1;31m---------------------------------------------------------------------------\u001b[0m",
      "\u001b[1;31mAttributeError\u001b[0m                            Traceback (most recent call last)",
      "Cell \u001b[1;32mIn[122], line 5\u001b[0m\n\u001b[0;32m      3\u001b[0m data \u001b[38;5;241m=\u001b[39m \u001b[38;5;124m'\u001b[39m\u001b[38;5;124mLearn python for machine learning\u001b[39m\u001b[38;5;124m'\u001b[39m\n\u001b[0;32m      4\u001b[0m cols \u001b[38;5;241m=\u001b[39m [\u001b[38;5;124m'\u001b[39m\u001b[38;5;124mcourse_titel\u001b[39m\u001b[38;5;124m'\u001b[39m]\n\u001b[1;32m----> 5\u001b[0m exl \u001b[38;5;241m=\u001b[39m spark\u001b[38;5;241m.\u001b[39mcreateDataFrame(\u001b[43mdata\u001b[49m\u001b[38;5;241;43m.\u001b[39;49m\u001b[43mStringType\u001b[49m(),cols)\n\u001b[0;32m      6\u001b[0m exl\n",
      "\u001b[1;31mAttributeError\u001b[0m: 'str' object has no attribute 'StringType'"
     ]
    }
   ],
   "source": [
    "from pyspark.sql.types import StringType\n",
    "\n",
    "data = ['Learn python for machine learning']\n",
    "cols = ['course_titel']\n",
    "exl = spark.createDataFrame(data.StringType(),cols)\n",
    "exl"
   ]
  },
  {
   "cell_type": "code",
   "execution_count": null,
   "id": "667d05fd",
   "metadata": {},
   "outputs": [],
   "source": []
  },
  {
   "cell_type": "code",
   "execution_count": null,
   "id": "da2019bd",
   "metadata": {},
   "outputs": [],
   "source": []
  }
 ],
 "metadata": {
  "kernelspec": {
   "display_name": "Python 3 (ipykernel)",
   "language": "python",
   "name": "python3"
  },
  "language_info": {
   "codemirror_mode": {
    "name": "ipython",
    "version": 3
   },
   "file_extension": ".py",
   "mimetype": "text/x-python",
   "name": "python",
   "nbconvert_exporter": "python",
   "pygments_lexer": "ipython3",
   "version": "3.9.12"
  }
 },
 "nbformat": 4,
 "nbformat_minor": 5
}
