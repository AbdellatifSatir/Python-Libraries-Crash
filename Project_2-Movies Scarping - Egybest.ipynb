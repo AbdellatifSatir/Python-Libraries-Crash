{
 "cells": [
  {
   "cell_type": "code",
   "execution_count": 1,
   "id": "516a23af",
   "metadata": {},
   "outputs": [],
   "source": [
    "from bs4 import BeautifulSoup as bs\n",
    "import requests as req \n",
    "import pandas as pd\n",
    "import numpy as np\n",
    "\n",
    "from selenium import webdriver\n",
    "from selenium.webdriver.common.by import By\n",
    "from selenium.webdriver.chrome.options import Options\n",
    "from selenium.webdriver.support.ui import WebDriverWait\n",
    "from selenium.webdriver.support import expected_conditions as EC"
   ]
  },
  {
   "cell_type": "code",
   "execution_count": 132,
   "id": "f3ffcc12",
   "metadata": {},
   "outputs": [],
   "source": [
    "#movie_name = input('Movie Name : ')\n",
    "movie_name = 'pirates'\n",
    "url = f'https://egybest.mx/search?_token=XxA27r6rbubVRBCzEVWmSUuKQzsf4sZWr87l2EVk&q={movie_name}&v=0.0.12'\n",
    "home = req.get(url)\n",
    "home.content\n",
    "soup = bs(home.content,'lxml')\n"
   ]
  },
  {
   "cell_type": "markdown",
   "id": "85a2fdeb",
   "metadata": {},
   "source": [
    "### Dispay the results on web Flask"
   ]
  },
  {
   "cell_type": "code",
   "execution_count": 50,
   "id": "57f09c37",
   "metadata": {
    "scrolled": true
   },
   "outputs": [
    {
     "name": "stdout",
     "output_type": "stream",
     "text": [
      "\n",
      "Title : فيلم The Pirates of Somalia 2017 مترجم \n",
      "Rating : 6.8 \n",
      "Link : https://egybest.mx/movies/%D9%81%D9%8A%D9%84%D9%85-the-pirates-of-somalia-2017-%D9%85%D8%AA%D8%B1%D8%AC%D9%85 \n",
      "Image : None\n",
      "\n",
      "Title : فيلم Pirates of the Caribbean: The Curse of the Black Pearl 2003 مترجم \n",
      "Rating : 8.4 \n",
      "Link : https://egybest.mx/movies/%D9%81%D9%8A%D9%84%D9%85-pirates-of-the-caribbean-the-curse-of-the-black-pearl-2003-%D9%85%D8%AA%D8%B1%D8%AC%D9%85 \n",
      "Image : None\n",
      "\n",
      "Title : فيلم Pirates of the Caribbean: On Stranger Tides 2011 مترجم \n",
      "Rating : 7 \n",
      "Link : https://egybest.mx/movies/%D9%81%D9%8A%D9%84%D9%85-pirates-of-the-caribbean-on-stranger-tides-2011-%D9%85%D8%AA%D8%B1%D8%AC%D9%85 \n",
      "Image : None\n",
      "\n",
      "Title : فيلم Pirates of the Caribbean: At World’s End 2007 مترجم \n",
      "Rating : 7 \n",
      "Link : https://egybest.mx/movies/%D9%81%D9%8A%D9%84%D9%85-pirates-of-the-caribbean-at-world-s-end-2007-%D9%85%D8%AA%D8%B1%D8%AC%D9%85 \n",
      "Image : None\n",
      "\n",
      "Title : فيلم Pirates Of The Caribbean: Dead Man’s Chest 2006 مترجم \n",
      "Rating : 6.9 \n",
      "Link : https://egybest.mx/movies/%D9%81%D9%8A%D9%84%D9%85-pirates-of-the-caribbean-dead-man-s-chest-2006-%D9%85%D8%AA%D8%B1%D8%AC%D9%85 \n",
      "Image : None\n",
      "\n",
      "Title : فيلم Pirates of the Caribbean Dead Men Tell No Tales 2017 مترجم \n",
      "Rating : 6.6 \n",
      "Link : https://egybest.mx/movies/%D9%81%D9%8A%D9%84%D9%85-pirates-of-the-caribbean-dead-men-tell-no-tales-2017-%D9%85%D8%AA%D8%B1%D8%AC%D9%85 \n",
      "Image : None\n",
      "\n",
      "Title :  مشاهدة فيلم Pirates of the Caribbean The Curse of the Black Pearl 2003 مترجم \n",
      "Rating : 7.3 \n",
      "Link : https://egybest.mx/movies/%D9%85%D8%B4%D8%A7%D9%87%D8%AF%D8%A9-%D9%81%D9%8A%D9%84%D9%85-pirates-of-the-caribbean-the-curse-of-the-black-pearl-2003-%D9%85%D8%AA%D8%B1%D8%AC%D9%85 \n",
      "Image : None\n",
      "\n",
      "Title :  مشاهدة فيلم Pirates of the Caribbean At World’s End 2007 مترجم \n",
      "Rating : 7.4 \n",
      "Link : https://egybest.mx/movies/%D9%85%D8%B4%D8%A7%D9%87%D8%AF%D8%A9-%D9%81%D9%8A%D9%84%D9%85-pirates-of-the-caribbean-at-world-s-end-2007-%D9%85%D8%AA%D8%B1%D8%AC%D9%85 \n",
      "Image : None\n",
      "\n",
      "Title :  مشاهدة فيلم The Pirates of Somalia 2017 مترجم \n",
      "Rating : 6.5 \n",
      "Link : https://egybest.mx/movies/%D9%85%D8%B4%D8%A7%D9%87%D8%AF%D8%A9-%D9%81%D9%8A%D9%84%D9%85-the-pirates-of-somalia-2017-%D9%85%D8%AA%D8%B1%D8%AC%D9%85 \n",
      "Image : None\n",
      "\n",
      "Title :  مشاهدة فيلم Pirates of the Caribbean On Stranger Tides 2011 مترجم \n",
      "Rating : 7.0 \n",
      "Link : https://egybest.mx/movies/%D9%85%D8%B4%D8%A7%D9%87%D8%AF%D8%A9-%D9%81%D9%8A%D9%84%D9%85-pirates-of-the-caribbean-on-stranger-tides-2011-%D9%85%D8%AA%D8%B1%D8%AC%D9%85 \n",
      "Image : None\n",
      "\n",
      "Title : فيلم The Pirates! Band of Misfits 2012 مترجم \n",
      "Rating : 7.0 \n",
      "Link : https://egybest.mx/movies/%D9%81%D9%8A%D9%84%D9%85-the-pirates-band-of-misfits-2012-%D9%85%D8%AA%D8%B1%D8%AC%D9%85 \n",
      "Image : None\n",
      "\n",
      "Title :  مشاهدة فيلم The Pirates: The Last Royal Treasure 2022 مترجم \n",
      "Rating : 8.0 \n",
      "Link : https://egybest.mx/movies/%D9%85%D8%B4%D8%A7%D9%87%D8%AF%D8%A9-%D9%81%D9%8A%D9%84%D9%85-the-pirates-the-last-royal-treasure-2022-%D9%85%D8%AA%D8%B1%D8%AC%D9%85 \n",
      "Image : None\n"
     ]
    }
   ],
   "source": [
    "movies = soup.find_all('a',class_='movie')\n",
    "for movie in movies:\n",
    "    title = movie.find('span',class_='title')\n",
    "    rating = movie.find('span',class_='r')\n",
    "    link = movie['href']\n",
    "    image = movie.find('img').get('src')\n",
    "    print('\\nTitle :' ,title.text ,'\\nRating :', rating.text, '\\nLink :' , link, '\\nImage :',image)"
   ]
  },
  {
   "cell_type": "code",
   "execution_count": null,
   "id": "0b4aa688",
   "metadata": {},
   "outputs": [],
   "source": []
  },
  {
   "cell_type": "code",
   "execution_count": 89,
   "id": "6833539e",
   "metadata": {
    "scrolled": true
   },
   "outputs": [
    {
     "name": "stdout",
     "output_type": "stream",
     "text": [
      "\n",
      "Title : فيلم The Pirates of Somalia 2017 مترجم \n",
      "Rating : 6.8 \n",
      "Link : https://egybest.mx/movies/%D9%81%D9%8A%D9%84%D9%85-the-pirates-of-somalia-2017-%D9%85%D8%AA%D8%B1%D8%AC%D9%85 \n",
      "Image : None \n",
      "Watch Now : https://egybest.mx/movies/watch/فيلم-the-pirates-of-somalia-2017-مترجم\n",
      "\n",
      "Title : فيلم Pirates of the Caribbean: The Curse of the Black Pearl 2003 مترجم \n",
      "Rating : 8.4 \n",
      "Link : https://egybest.mx/movies/%D9%81%D9%8A%D9%84%D9%85-pirates-of-the-caribbean-the-curse-of-the-black-pearl-2003-%D9%85%D8%AA%D8%B1%D8%AC%D9%85 \n",
      "Image : None \n",
      "Watch Now : https://egybest.mx/movies/watch/فيلم-pirates-of-the-caribbean-the-curse-of-the-black-pearl-2003-مترجم\n",
      "\n",
      "Title : فيلم Pirates of the Caribbean: On Stranger Tides 2011 مترجم \n",
      "Rating : 7 \n",
      "Link : https://egybest.mx/movies/%D9%81%D9%8A%D9%84%D9%85-pirates-of-the-caribbean-on-stranger-tides-2011-%D9%85%D8%AA%D8%B1%D8%AC%D9%85 \n",
      "Image : None \n",
      "Watch Now : https://egybest.mx/movies/watch/فيلم-pirates-of-the-caribbean-on-stranger-tides-2011-مترجم\n",
      "\n",
      "Title : فيلم Pirates of the Caribbean: At World’s End 2007 مترجم \n",
      "Rating : 7 \n",
      "Link : https://egybest.mx/movies/%D9%81%D9%8A%D9%84%D9%85-pirates-of-the-caribbean-at-world-s-end-2007-%D9%85%D8%AA%D8%B1%D8%AC%D9%85 \n",
      "Image : None \n",
      "Watch Now : https://egybest.mx/movies/watch/فيلم-pirates-of-the-caribbean-at-world-s-end-2007-مترجم\n",
      "\n",
      "Title : فيلم Pirates Of The Caribbean: Dead Man’s Chest 2006 مترجم \n",
      "Rating : 6.9 \n",
      "Link : https://egybest.mx/movies/%D9%81%D9%8A%D9%84%D9%85-pirates-of-the-caribbean-dead-man-s-chest-2006-%D9%85%D8%AA%D8%B1%D8%AC%D9%85 \n",
      "Image : None \n",
      "Watch Now : https://egybest.mx/movies/watch/فيلم-pirates-of-the-caribbean-dead-man-s-chest-2006-مترجم\n",
      "\n",
      "Title : فيلم Pirates of the Caribbean Dead Men Tell No Tales 2017 مترجم \n",
      "Rating : 6.6 \n",
      "Link : https://egybest.mx/movies/%D9%81%D9%8A%D9%84%D9%85-pirates-of-the-caribbean-dead-men-tell-no-tales-2017-%D9%85%D8%AA%D8%B1%D8%AC%D9%85 \n",
      "Image : None \n",
      "Watch Now : https://egybest.mx/movies/watch/فيلم-pirates-of-the-caribbean-dead-men-tell-no-tales-2017-مترجم\n",
      "\n",
      "Title : مشاهدة فيلم Pirates of the Caribbean The Curse of the Black Pearl 2003 مترجم \n",
      "Rating : 7.3 \n",
      "Link : https://egybest.mx/movies/%D9%85%D8%B4%D8%A7%D9%87%D8%AF%D8%A9-%D9%81%D9%8A%D9%84%D9%85-pirates-of-the-caribbean-the-curse-of-the-black-pearl-2003-%D9%85%D8%AA%D8%B1%D8%AC%D9%85 \n",
      "Image : None \n",
      "Watch Now : https://egybest.mx/movies/watch/مشاهدة-فيلم-pirates-of-the-caribbean-the-curse-of-the-black-pearl-2003-مترجم\n",
      "\n",
      "Title : مشاهدة فيلم Pirates of the Caribbean At World’s End 2007 مترجم \n",
      "Rating : 7.4 \n",
      "Link : https://egybest.mx/movies/%D9%85%D8%B4%D8%A7%D9%87%D8%AF%D8%A9-%D9%81%D9%8A%D9%84%D9%85-pirates-of-the-caribbean-at-world-s-end-2007-%D9%85%D8%AA%D8%B1%D8%AC%D9%85 \n",
      "Image : None \n",
      "Watch Now : https://egybest.mx/movies/watch/مشاهدة-فيلم-pirates-of-the-caribbean-at-world-s-end-2007-مترجم\n",
      "\n",
      "Title : مشاهدة فيلم The Pirates of Somalia 2017 مترجم \n",
      "Rating : 6.5 \n",
      "Link : https://egybest.mx/movies/%D9%85%D8%B4%D8%A7%D9%87%D8%AF%D8%A9-%D9%81%D9%8A%D9%84%D9%85-the-pirates-of-somalia-2017-%D9%85%D8%AA%D8%B1%D8%AC%D9%85 \n",
      "Image : None \n",
      "Watch Now : https://egybest.mx/movies/watch/مشاهدة-فيلم-the-pirates-of-somalia-2017-مترجم\n",
      "\n",
      "Title : مشاهدة فيلم Pirates of the Caribbean On Stranger Tides 2011 مترجم \n",
      "Rating : 7.0 \n",
      "Link : https://egybest.mx/movies/%D9%85%D8%B4%D8%A7%D9%87%D8%AF%D8%A9-%D9%81%D9%8A%D9%84%D9%85-pirates-of-the-caribbean-on-stranger-tides-2011-%D9%85%D8%AA%D8%B1%D8%AC%D9%85 \n",
      "Image : None \n",
      "Watch Now : https://egybest.mx/movies/watch/مشاهدة-فيلم-pirates-of-the-caribbean-on-stranger-tides-2011-مترجم\n",
      "\n",
      "Title : فيلم The Pirates! Band of Misfits 2012 مترجم \n",
      "Rating : 7.0 \n",
      "Link : https://egybest.mx/movies/%D9%81%D9%8A%D9%84%D9%85-the-pirates-band-of-misfits-2012-%D9%85%D8%AA%D8%B1%D8%AC%D9%85 \n",
      "Image : None \n",
      "Watch Now : https://egybest.mx/movies/watch/فيلم-the-pirates-band-of-misfits-2012-مترجم\n",
      "\n",
      "Title : مشاهدة فيلم The Pirates: The Last Royal Treasure 2022 مترجم \n",
      "Rating : 8.0 \n",
      "Link : https://egybest.mx/movies/%D9%85%D8%B4%D8%A7%D9%87%D8%AF%D8%A9-%D9%81%D9%8A%D9%84%D9%85-the-pirates-the-last-royal-treasure-2022-%D9%85%D8%AA%D8%B1%D8%AC%D9%85 \n",
      "Image : None \n",
      "Watch Now : https://egybest.mx/movies/watch/مشاهدة-فيلم-the-pirates-the-last-royal-treasure-2022-مترجم\n"
     ]
    }
   ],
   "source": [
    "movie_name = 'pirates'\n",
    "url = f'https://egybest.mx/search?_token=XxA27r6rbubVRBCzEVWmSUuKQzsf4sZWr87l2EVk&q={movie_name}&v=0.0.12'\n",
    "home = req.get(url)\n",
    "home.content\n",
    "soup = bs(home.content,'lxml')\n",
    "\n",
    "movies = soup.find_all('a',class_='movie')\n",
    "results=[]\n",
    "for movie in movies:\n",
    "    title = movie.find('span',class_='title').text.strip()\n",
    "    rating = movie.find('span',class_='r').text\n",
    "    link = movie['href']\n",
    "    image = movie.find('img').get('src')\n",
    "    title_url = title.lower().replace(' ','-').replace(':','').replace(\"’\", \"-\").replace('!','')\n",
    "    watching_url = f'https://egybest.mx/movies/watch/{title_url}'\n",
    "    \n",
    "    print('\\nTitle :' ,title ,'\\nRating :', rating, '\\nLink :' , link, '\\nImage :',image, \n",
    "          '\\nWatch Now :',watching_url)\n",
    "    results.append({\n",
    "            'title':title,'rating':rating,'link':link,'image':image,\n",
    "            'title_url':title_url,'watching_url':watching_url\n",
    "        })"
   ]
  },
  {
   "cell_type": "code",
   "execution_count": 144,
   "id": "af4800f2",
   "metadata": {
    "scrolled": false
   },
   "outputs": [
    {
     "name": "stdout",
     "output_type": "stream",
     "text": [
      "['https://egybest.mx/movies/%D9%81%D9%8A%D9%84%D9%85-the-pirates-of-somalia-2017-%D9%85%D8%AA%D8%B1%D8%AC%D9%85'\n",
      " 'https://egybest.mx/movies/%D9%81%D9%8A%D9%84%D9%85-pirates-of-the-caribbean-the-curse-of-the-black-pearl-2003-%D9%85%D8%AA%D8%B1%D8%AC%D9%85'\n",
      " 'https://egybest.mx/movies/%D9%81%D9%8A%D9%84%D9%85-pirates-of-the-caribbean-on-stranger-tides-2011-%D9%85%D8%AA%D8%B1%D8%AC%D9%85'\n",
      " 'https://egybest.mx/movies/%D9%81%D9%8A%D9%84%D9%85-pirates-of-the-caribbean-at-world-s-end-2007-%D9%85%D8%AA%D8%B1%D8%AC%D9%85'\n",
      " 'https://egybest.mx/movies/%D9%81%D9%8A%D9%84%D9%85-pirates-of-the-caribbean-dead-man-s-chest-2006-%D9%85%D8%AA%D8%B1%D8%AC%D9%85'\n",
      " 'https://egybest.mx/movies/%D9%81%D9%8A%D9%84%D9%85-pirates-of-the-caribbean-dead-men-tell-no-tales-2017-%D9%85%D8%AA%D8%B1%D8%AC%D9%85'\n",
      " 'https://egybest.mx/movies/%D9%85%D8%B4%D8%A7%D9%87%D8%AF%D8%A9-%D9%81%D9%8A%D9%84%D9%85-pirates-of-the-caribbean-the-curse-of-the-black-pearl-2003-%D9%85%D8%AA%D8%B1%D8%AC%D9%85'\n",
      " 'https://egybest.mx/movies/%D9%85%D8%B4%D8%A7%D9%87%D8%AF%D8%A9-%D9%81%D9%8A%D9%84%D9%85-pirates-of-the-caribbean-at-world-s-end-2007-%D9%85%D8%AA%D8%B1%D8%AC%D9%85'\n",
      " 'https://egybest.mx/movies/%D9%85%D8%B4%D8%A7%D9%87%D8%AF%D8%A9-%D9%81%D9%8A%D9%84%D9%85-the-pirates-of-somalia-2017-%D9%85%D8%AA%D8%B1%D8%AC%D9%85'\n",
      " 'https://egybest.mx/movies/%D9%85%D8%B4%D8%A7%D9%87%D8%AF%D8%A9-%D9%81%D9%8A%D9%84%D9%85-pirates-of-the-caribbean-on-stranger-tides-2011-%D9%85%D8%AA%D8%B1%D8%AC%D9%85'\n",
      " 'https://egybest.mx/movies/%D9%81%D9%8A%D9%84%D9%85-the-pirates-band-of-misfits-2012-%D9%85%D8%AA%D8%B1%D8%AC%D9%85'\n",
      " 'https://egybest.mx/movies/%D9%85%D8%B4%D8%A7%D9%87%D8%AF%D8%A9-%D9%81%D9%8A%D9%84%D9%85-the-pirates-the-last-royal-treasure-2022-%D9%85%D8%AA%D8%B1%D8%AC%D9%85']\n"
     ]
    }
   ],
   "source": [
    "pirates_mv = pd.DataFrame(results)\n",
    "#pirates_mv.to_csv('pirates_mv')\n",
    "pd.read_csv('pirates_mv')\n",
    "movie = pd.read_csv('pirates_mv')\n",
    "print(movie['link'].values)"
   ]
  },
  {
   "cell_type": "code",
   "execution_count": null,
   "id": "04e4ea82",
   "metadata": {},
   "outputs": [],
   "source": []
  },
  {
   "cell_type": "code",
   "execution_count": null,
   "id": "9ca61665",
   "metadata": {},
   "outputs": [],
   "source": [
    "tester_link = req.get('https://egybest.mx/movies/watch/مشاهدة-فيلم-the-pirates-of-somalia-2017-مترجم')\n",
    "soup2 = bs(tester_link.content,'lxml')\n",
    "tester_link = soup2.find('iframe').get('data-src')\n",
    "tester_link"
   ]
  },
  {
   "cell_type": "code",
   "execution_count": 142,
   "id": "fa81f8a8",
   "metadata": {},
   "outputs": [],
   "source": [
    "results=[]\n",
    "for index,row in  pirates_mv.iterrows():\n",
    "        title = row['title']\n",
    "        rating = row['rating']\n",
    "        link = row['link']\n",
    "        image = row['image']\n",
    "        #print('\\nTitle :' ,title.text ,'\\nRating :', rating.text, '\\nLink :' , link, '\\nImage :',image)\n",
    "        title_url = row['title_url']\n",
    "        watching_url = row['watching_url']\n",
    "        \n",
    "        tester_link = req.get(watching_url)\n",
    "        soup2 = bs(tester_link.content,'lxml')\n",
    "        tester_link = soup2.find('iframe').get('data-src')\n",
    "        \n",
    "        results.append({\n",
    "            'title':title,'rating':rating,'link':link,'image':image,\n",
    "            'title_url':title_url,'watching_url':watching_url,\n",
    "            'tester_link':tester_link\n",
    "        })"
   ]
  },
  {
   "cell_type": "code",
   "execution_count": 161,
   "id": "f7d12167",
   "metadata": {},
   "outputs": [
    {
     "data": {
      "text/html": [
       "<div>\n",
       "<style scoped>\n",
       "    .dataframe tbody tr th:only-of-type {\n",
       "        vertical-align: middle;\n",
       "    }\n",
       "\n",
       "    .dataframe tbody tr th {\n",
       "        vertical-align: top;\n",
       "    }\n",
       "\n",
       "    .dataframe thead th {\n",
       "        text-align: right;\n",
       "    }\n",
       "</style>\n",
       "<table border=\"1\" class=\"dataframe\">\n",
       "  <thead>\n",
       "    <tr style=\"text-align: right;\">\n",
       "      <th></th>\n",
       "      <th>Unnamed: 0</th>\n",
       "      <th>title</th>\n",
       "      <th>rating</th>\n",
       "      <th>link</th>\n",
       "      <th>image</th>\n",
       "      <th>title_url</th>\n",
       "      <th>watching_url</th>\n",
       "      <th>tester_link</th>\n",
       "    </tr>\n",
       "  </thead>\n",
       "  <tbody>\n",
       "    <tr>\n",
       "      <th>0</th>\n",
       "      <td>0</td>\n",
       "      <td>فيلم The Pirates of Somalia 2017 مترجم</td>\n",
       "      <td>6.8</td>\n",
       "      <td>https://egybest.mx/movies/%D9%81%D9%8A%D9%84%D...</td>\n",
       "      <td>NaN</td>\n",
       "      <td>فيلم-the-pirates-of-somalia-2017-مترجم</td>\n",
       "      <td>https://egybest.mx/movies/watch/فيلم-the-pirat...</td>\n",
       "      <td>https://openload.co/embed/MaHBgfMrg6I</td>\n",
       "    </tr>\n",
       "    <tr>\n",
       "      <th>1</th>\n",
       "      <td>1</td>\n",
       "      <td>فيلم Pirates of the Caribbean: The Curse of th...</td>\n",
       "      <td>8.4</td>\n",
       "      <td>https://egybest.mx/movies/%D9%81%D9%8A%D9%84%D...</td>\n",
       "      <td>NaN</td>\n",
       "      <td>فيلم-pirates-of-the-caribbean-the-curse-of-the...</td>\n",
       "      <td>https://egybest.mx/movies/watch/فيلم-pirates-o...</td>\n",
       "      <td>https://vadbom.com/embed-417vj5munq1x.html</td>\n",
       "    </tr>\n",
       "  </tbody>\n",
       "</table>\n",
       "</div>"
      ],
      "text/plain": [
       "   Unnamed: 0                                              title  rating  \\\n",
       "0           0             فيلم The Pirates of Somalia 2017 مترجم     6.8   \n",
       "1           1  فيلم Pirates of the Caribbean: The Curse of th...     8.4   \n",
       "\n",
       "                                                link  image  \\\n",
       "0  https://egybest.mx/movies/%D9%81%D9%8A%D9%84%D...    NaN   \n",
       "1  https://egybest.mx/movies/%D9%81%D9%8A%D9%84%D...    NaN   \n",
       "\n",
       "                                           title_url  \\\n",
       "0             فيلم-the-pirates-of-somalia-2017-مترجم   \n",
       "1  فيلم-pirates-of-the-caribbean-the-curse-of-the...   \n",
       "\n",
       "                                        watching_url  \\\n",
       "0  https://egybest.mx/movies/watch/فيلم-the-pirat...   \n",
       "1  https://egybest.mx/movies/watch/فيلم-pirates-o...   \n",
       "\n",
       "                                  tester_link  \n",
       "0       https://openload.co/embed/MaHBgfMrg6I  \n",
       "1  https://vadbom.com/embed-417vj5munq1x.html  "
      ]
     },
     "execution_count": 161,
     "metadata": {},
     "output_type": "execute_result"
    }
   ],
   "source": [
    "#pirates_mv.to_csv('pirates_mv')\n",
    "movie = pd.read_csv('pirates_mv')\n",
    "movie.head(2)"
   ]
  },
  {
   "cell_type": "code",
   "execution_count": null,
   "id": "8d917ba9",
   "metadata": {},
   "outputs": [],
   "source": []
  },
  {
   "cell_type": "code",
   "execution_count": null,
   "id": "3efd752a",
   "metadata": {},
   "outputs": [],
   "source": []
  },
  {
   "cell_type": "code",
   "execution_count": 131,
   "id": "835be8fd",
   "metadata": {},
   "outputs": [],
   "source": []
  },
  {
   "cell_type": "code",
   "execution_count": 173,
   "id": "123de055",
   "metadata": {
    "scrolled": true
   },
   "outputs": [
    {
     "name": "stdout",
     "output_type": "stream",
     "text": [
      "https://s204.vidboo.org/6jmnv2kxuuazsalriwuqfzvvjnyfetp3kvczngaqlqodu2korekzluhm6h2a/v.mp4\n"
     ]
    }
   ],
   "source": [
    "from selenium import webdriver\n",
    "from bs4 import BeautifulSoup\n",
    "\n",
    "#url = 'https://egybest.mx/movies/watch/مشاهدة-فيلم-the-pirates-of-somalia-2017-مترجم'\n",
    "url = 'https://egybest.mx/movies/watch/مشاهدة-فيلم-the-strays-2023-مترجم'\n",
    "\n",
    "\n",
    "options = Options()\n",
    "options.headless = True\n",
    "driver = webdriver.Chrome(options=options)\n",
    "driver.get(url)\n",
    "\n",
    "iframe = WebDriverWait(driver, 10).until(\n",
    "    EC.presence_of_element_located((By.TAG_NAME, \"iframe\"))\n",
    ")\n",
    "\n",
    "if iframe:\n",
    "    driver.switch_to.frame(iframe)\n",
    "    page_source = driver.page_source\n",
    "    soup = bs(page_source, \"html.parser\")\n",
    "    video = soup.find(\"video\")\n",
    "    if video:\n",
    "        video_src = video[\"src\"]\n",
    "        print(video_src)\n",
    "    else:\n",
    "        print(\"No video tag found in the iframe.\")\n",
    "else:\n",
    "    print(\"No iframe found on the page.\")\n",
    "\n",
    "driver.quit()\n"
   ]
  },
  {
   "cell_type": "code",
   "execution_count": null,
   "id": "e12faf3a",
   "metadata": {},
   "outputs": [],
   "source": []
  },
  {
   "cell_type": "code",
   "execution_count": null,
   "id": "c87b886f",
   "metadata": {},
   "outputs": [],
   "source": []
  }
 ],
 "metadata": {
  "kernelspec": {
   "display_name": "Python 3 (ipykernel)",
   "language": "python",
   "name": "python3"
  },
  "language_info": {
   "codemirror_mode": {
    "name": "ipython",
    "version": 3
   },
   "file_extension": ".py",
   "mimetype": "text/x-python",
   "name": "python",
   "nbconvert_exporter": "python",
   "pygments_lexer": "ipython3",
   "version": "3.9.12"
  }
 },
 "nbformat": 4,
 "nbformat_minor": 5
}
