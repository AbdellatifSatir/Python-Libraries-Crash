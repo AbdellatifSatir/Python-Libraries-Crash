{
 "cells": [
  {
   "cell_type": "code",
   "execution_count": 1,
   "id": "96967a20",
   "metadata": {},
   "outputs": [],
   "source": [
    "import scipy as sp"
   ]
  },
  {
   "cell_type": "code",
   "execution_count": 23,
   "id": "e28ee21c",
   "metadata": {},
   "outputs": [],
   "source": [
    "from scipy import special"
   ]
  },
  {
   "cell_type": "code",
   "execution_count": 51,
   "id": "49d7749c",
   "metadata": {},
   "outputs": [],
   "source": [
    "#help(special)"
   ]
  },
  {
   "cell_type": "code",
   "execution_count": 40,
   "id": "23a97e1c",
   "metadata": {},
   "outputs": [
    {
     "data": {
      "text/plain": [
       "(100.0, 2.5198420997897464, -0.0, -1.44807361612917, array([2., 3.]))"
      ]
     },
     "execution_count": 40,
     "metadata": {},
     "output_type": "execute_result"
    }
   ],
   "source": [
    "special.exp10(2) ,  special.cbrt(16) , special.cosdg(90) , special.cosm1(90) , special.round([2,2.6])"
   ]
  },
  {
   "cell_type": "code",
   "execution_count": 42,
   "id": "3aa01368",
   "metadata": {},
   "outputs": [
    {
     "data": {
      "text/plain": [
       "array([ 1.        , -0.5       ,  0.16666667,  0.        ])"
      ]
     },
     "execution_count": 42,
     "metadata": {},
     "output_type": "execute_result"
    }
   ],
   "source": [
    "special.bernoulli(3)"
   ]
  },
  {
   "cell_type": "code",
   "execution_count": 48,
   "id": "834ba3f7",
   "metadata": {},
   "outputs": [],
   "source": [
    "from scipy import integrate"
   ]
  },
  {
   "cell_type": "code",
   "execution_count": 52,
   "id": "8a39e108",
   "metadata": {},
   "outputs": [],
   "source": [
    "#help(integrate)"
   ]
  },
  {
   "cell_type": "code",
   "execution_count": 49,
   "id": "5d4ecfe3",
   "metadata": {},
   "outputs": [
    {
     "data": {
      "text/plain": [
       "(0.33333333333333337, 3.700743415417189e-15)"
      ]
     },
     "execution_count": 49,
     "metadata": {},
     "output_type": "execute_result"
    }
   ],
   "source": [
    "f = lambda x:x**2\n",
    "integrate.quad(f, 0 ,1)"
   ]
  },
  {
   "cell_type": "code",
   "execution_count": 50,
   "id": "9bfdd650",
   "metadata": {},
   "outputs": [
    {
     "data": {
      "text/plain": [
       "(-0.6666666666666666, 2.2108134835808843e-14)"
      ]
     },
     "execution_count": 50,
     "metadata": {},
     "output_type": "execute_result"
    }
   ],
   "source": [
    "f = lambda x,y:x+y**2\n",
    "x1 = lambda x:1\n",
    "x2 = lambda x:-1\n",
    "integrate.dblquad(f,0,1, x1,x2)"
   ]
  },
  {
   "cell_type": "code",
   "execution_count": 53,
   "id": "f9fc08d6",
   "metadata": {},
   "outputs": [],
   "source": [
    "from scipy import fftpack"
   ]
  },
  {
   "cell_type": "code",
   "execution_count": 60,
   "id": "8d4b3df7",
   "metadata": {},
   "outputs": [],
   "source": [
    "#help(fftpack)"
   ]
  },
  {
   "cell_type": "code",
   "execution_count": 55,
   "id": "48cccfa9",
   "metadata": {},
   "outputs": [],
   "source": [
    "import numpy as np"
   ]
  },
  {
   "cell_type": "code",
   "execution_count": 59,
   "id": "69b2a52e",
   "metadata": {},
   "outputs": [
    {
     "name": "stdout",
     "output_type": "stream",
     "text": [
      "[ 6. -0.j        -1.5+0.8660254j -1.5-0.8660254j]\n",
      "[ 2. -0.j         -0.5-0.28867513j -0.5+0.28867513j]\n"
     ]
    }
   ],
   "source": [
    "print(fftpack.fft(np.array([1,2,3])))\n",
    "print(fftpack.ifft(np.array([1,2,3])))"
   ]
  },
  {
   "cell_type": "code",
   "execution_count": 61,
   "id": "5d9b52fa",
   "metadata": {},
   "outputs": [],
   "source": [
    "from scipy import linalg"
   ]
  },
  {
   "cell_type": "code",
   "execution_count": 88,
   "id": "c9d2db0b",
   "metadata": {},
   "outputs": [],
   "source": [
    "#help(linalg)"
   ]
  },
  {
   "cell_type": "code",
   "execution_count": 81,
   "id": "4a4249ff",
   "metadata": {},
   "outputs": [
    {
     "name": "stdout",
     "output_type": "stream",
     "text": [
      "matrix a: \n",
      " [[1 2 3]\n",
      " [2 3 4]\n",
      " [5 6 7]]\n",
      "inverse a**-1: \n",
      " [[-6.75539944e+16  9.00719925e+16 -2.25179981e+16]\n",
      " [ 1.35107989e+17 -1.80143985e+17  4.50359963e+16]\n",
      " [-6.75539944e+16  9.00719925e+16 -2.25179981e+16]]\n",
      "a * a**-1 : \n",
      " [[ -72.   64.  -24.]\n",
      " [ -96.  128.  -32.]\n",
      " [-232.  384.  -88.]]\n"
     ]
    }
   ],
   "source": [
    "a = np.array([[1,2,3],[2,3,4],[5,6,7]])\n",
    "b = linalg.inv(a)\n",
    "print('matrix a: \\n',a)\n",
    "print('inverse a**-1: \\n',b)\n",
    "print('a * a**-1 : \\n', np.matmul(a,b))#print(np.identity(3))"
   ]
  },
  {
   "cell_type": "code",
   "execution_count": 86,
   "id": "6c253afa",
   "metadata": {},
   "outputs": [
    {
     "data": {
      "text/plain": [
       "(array([[0., 1., 0.],\n",
       "        [0., 0., 1.],\n",
       "        [1., 0., 0.]]),\n",
       " array([[1.  , 0.  , 0.  ],\n",
       "        [0.2 , 1.  , 0.  ],\n",
       "        [0.4 , 0.75, 1.  ]]),\n",
       " array([[5.00000000e+00, 6.00000000e+00, 7.00000000e+00],\n",
       "        [0.00000000e+00, 8.00000000e-01, 1.60000000e+00],\n",
       "        [0.00000000e+00, 0.00000000e+00, 1.11022302e-17]]))"
      ]
     },
     "execution_count": 86,
     "metadata": {},
     "output_type": "execute_result"
    }
   ],
   "source": [
    "linalg.lu(a)"
   ]
  },
  {
   "cell_type": "code",
   "execution_count": 87,
   "id": "84f18ed6",
   "metadata": {},
   "outputs": [
    {
     "data": {
      "text/plain": [
       "array([[21909.77523221, 29212.12172332, 36515.46821444],\n",
       "       [31298.61154348, 41732.69276483, 52164.77398618],\n",
       "       [59468.12047729, 79290.40588934, 99113.6913014 ]])"
      ]
     },
     "execution_count": 87,
     "metadata": {},
     "output_type": "execute_result"
    }
   ],
   "source": [
    "linalg.expm(a) "
   ]
  },
  {
   "cell_type": "code",
   "execution_count": 89,
   "id": "8b1a857d",
   "metadata": {},
   "outputs": [],
   "source": [
    "from scipy import interpolate"
   ]
  },
  {
   "cell_type": "code",
   "execution_count": 106,
   "id": "0ed54dc6",
   "metadata": {},
   "outputs": [],
   "source": [
    "#help(interpolate)"
   ]
  },
  {
   "cell_type": "code",
   "execution_count": 122,
   "id": "fc3137cb",
   "metadata": {},
   "outputs": [
    {
     "data": {
      "text/plain": [
       "<scipy.interpolate.interpolate.interp1d at 0x26ec4d42040>"
      ]
     },
     "execution_count": 122,
     "metadata": {},
     "output_type": "execute_result"
    }
   ],
   "source": [
    "x = np.arange(0,15)\n",
    "#y = lambda x:2*x+1\n",
    "y = np.exp(x/2)\n",
    "f = interpolate.interp1d(x,y)\n",
    "f"
   ]
  },
  {
   "cell_type": "code",
   "execution_count": 123,
   "id": "2e0d4105",
   "metadata": {},
   "outputs": [],
   "source": [
    "import matplotlib.pyplot as plt"
   ]
  },
  {
   "cell_type": "code",
   "execution_count": 124,
   "id": "f0082bea",
   "metadata": {},
   "outputs": [
    {
     "data": {
      "text/plain": [
       "[<matplotlib.lines.Line2D at 0x26ec70337f0>]"
      ]
     },
     "execution_count": 124,
     "metadata": {},
     "output_type": "execute_result"
    },
    {
     "data": {
      "image/png": "[encoded data removed]",
      "text/plain": [
       "<Figure size 432x288 with 1 Axes>"
      ]
     },
     "metadata": {
      "needs_background": "light"
     },
     "output_type": "display_data"
    }
   ],
   "source": [
    "plt.plot(x,y)"
   ]
  },
  {
   "cell_type": "code",
   "execution_count": 125,
   "id": "0a142dfa",
   "metadata": {},
   "outputs": [
    {
     "data": {
      "text/plain": [
       "[<matplotlib.lines.Line2D at 0x26ec7057b20>,\n",
       " <matplotlib.lines.Line2D at 0x26ec7057b80>]"
      ]
     },
     "execution_count": 125,
     "metadata": {},
     "output_type": "execute_result"
    },
    {
     "data": {
      "image/png": "[encoded data removed]",
      "text/plain": [
       "<Figure size 432x288 with 1 Axes>"
      ]
     },
     "metadata": {
      "needs_background": "light"
     },
     "output_type": "display_data"
    }
   ],
   "source": [
    "x_interp = np.arange(0,8)\n",
    "y_interp = f(x_interp)\n",
    "plt.plot(x,y,x_interp,y_interp)"
   ]
  },
  {
   "cell_type": "code",
   "execution_count": null,
   "id": "a57a3364",
   "metadata": {},
   "outputs": [],
   "source": []
  },
  {
   "cell_type": "code",
   "execution_count": null,
   "id": "02613d82",
   "metadata": {},
   "outputs": [],
   "source": []
  }
 ],
 "metadata": {
  "kernelspec": {
   "display_name": "Python 3 (ipykernel)",
   "language": "python",
   "name": "python3"
  },
  "language_info": {
   "codemirror_mode": {
    "name": "ipython",
    "version": 3
   },
   "file_extension": ".py",
   "mimetype": "text/x-python",
   "name": "python",
   "nbconvert_exporter": "python",
   "pygments_lexer": "ipython3",
   "version": "3.9.12"
  }
 },
 "nbformat": 4,
 "nbformat_minor": 5
}
