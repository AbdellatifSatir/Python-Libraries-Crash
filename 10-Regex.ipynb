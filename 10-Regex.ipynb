{
 "cells": [
  {
   "cell_type": "code",
   "execution_count": 13,
   "id": "afa51e5c",
   "metadata": {},
   "outputs": [],
   "source": [
    "import re"
   ]
  },
  {
   "cell_type": "markdown",
   "id": "5570e996",
   "metadata": {},
   "source": [
    "from https://colauttilab.github.io/PythonCrashCourse/2_regex.html"
   ]
  },
  {
   "cell_type": "markdown",
   "id": "a3457a0e",
   "metadata": {},
   "source": [
    "### re.match()\n",
    "Returns ‘None’ if no match"
   ]
  },
  {
   "cell_type": "code",
   "execution_count": 31,
   "id": "eac40c7d",
   "metadata": {},
   "outputs": [
    {
     "name": "stdout",
     "output_type": "stream",
     "text": [
      "<re.Match object; span=(0, 9), match='salicaria'>\n",
      "None\n",
      "None\n"
     ]
    }
   ],
   "source": [
    "# Try to apply the pattern at the start of the string, returning a Match object, or None if no match was found.\n",
    "\n",
    "m1 = re.match(\"salicaria\",\"salicaria\")\n",
    "m2 = re.match(\"a\",\"salicaria\")\n",
    "m3 = re.match(\"z\",\"salicaria\")\n",
    "\n",
    "print(m1)\n",
    "print(m2)\n",
    "print(m3)"
   ]
  },
  {
   "cell_type": "markdown",
   "id": "ca1f3b55",
   "metadata": {},
   "source": [
    "### re.search()\n",
    "Contrast output with re.match()"
   ]
  },
  {
   "cell_type": "code",
   "execution_count": 279,
   "id": "edd5c5a7",
   "metadata": {},
   "outputs": [
    {
     "name": "stdout",
     "output_type": "stream",
     "text": [
      "<re.Match object; span=(0, 9), match='salicaria'>\n",
      "None\n",
      "None\n"
     ]
    }
   ],
   "source": [
    "m1 = re.search(\"salicaria\",\"salicaria\")\n",
    "m2 = re.search(\"a\",\"salicaria\")\n",
    "m3 = re.search(\"z\",\"salicaria\")\n",
    "\n",
    "print(m1)\n",
    "print(m2)\n",
    "print(m3)"
   ]
  },
  {
   "cell_type": "code",
   "execution_count": 19,
   "id": "ca2425d1",
   "metadata": {},
   "outputs": [
    {
     "name": "stdout",
     "output_type": "stream",
     "text": [
      "<re.Match object; span=(5, 8), match='ain'>\n",
      "None\n"
     ]
    }
   ],
   "source": [
    "# Scan through string looking for a match to the pattern, returning\n",
    "# a Match object, or None if no match was found.\n",
    "\n",
    "txt = \"The rain in Spain\"\n",
    "m1 = re.search('rain' , string=txt)\n",
    "m2 = re.search('rainn' , string=txt)\n",
    "\n",
    "print(m1)\n",
    "print(m2)"
   ]
  },
  {
   "cell_type": "markdown",
   "id": "4c604eee",
   "metadata": {},
   "source": [
    "### re.findall()\n",
    "Note [] instead of None when no match is found"
   ]
  },
  {
   "cell_type": "code",
   "execution_count": 29,
   "id": "3a2b4078",
   "metadata": {},
   "outputs": [
    {
     "name": "stdout",
     "output_type": "stream",
     "text": [
      "['salicaria']\n",
      "['a', 'a', 'a']\n",
      "[]\n"
     ]
    }
   ],
   "source": [
    "# Return a list of all non-overlapping matches in the string.\n",
    "\n",
    "m1 = re.findall(\"salicaria\",\"salicaria\")\n",
    "m2 = re.findall(\"a\",\"salicaria\")\n",
    "m3 = re.findall(\"z\",\"salicaria\")\n",
    "\n",
    "print(m1)\n",
    "print(m2)\n",
    "print(m3)"
   ]
  },
  {
   "cell_type": "markdown",
   "id": "987c04b9",
   "metadata": {},
   "source": [
    "### re.split()\n",
    "Compare this output with previous functions"
   ]
  },
  {
   "cell_type": "code",
   "execution_count": 36,
   "id": "6f02d82f",
   "metadata": {},
   "outputs": [
    {
     "name": "stdout",
     "output_type": "stream",
     "text": [
      "['', '']\n",
      "['sali', 'aria']\n"
     ]
    }
   ],
   "source": [
    "# Split the source string by the occurrences of the pattern,\n",
    "# returning a list containing the resulting substrings.\n",
    "\n",
    "m1 = re.split(\"salicaria\",\"salicaria\")\n",
    "m2 = re.split(\"c\",\"salicaria\")\n",
    "\n",
    "print(m1)\n",
    "print(m2)"
   ]
  },
  {
   "cell_type": "markdown",
   "id": "8360931e",
   "metadata": {},
   "source": [
    "### re.sub()\n",
    "For this function, we have to add a replace string parameter"
   ]
  },
  {
   "cell_type": "code",
   "execution_count": 39,
   "id": "6d4ff6aa",
   "metadata": {},
   "outputs": [
    {
     "name": "stdout",
     "output_type": "stream",
     "text": [
      "saliXaria\n"
     ]
    }
   ],
   "source": [
    "# Return the string obtained by replacing the leftmost\n",
    "# non-overlapping occurrences of the pattern in string by the\n",
    "# replacement repl.\n",
    "\n",
    "m1 = re.sub(pattern=\"c\",repl=\"X\",string=\"salicaria\")\n",
    "\n",
    "print(m1)"
   ]
  },
  {
   "cell_type": "markdown",
   "id": "994be6c5",
   "metadata": {},
   "source": [
    "### 3. Wildcards\n",
    "The escape \\ character tells the Python interpreter that the next string is not to be interpreted literally. "
   ]
  },
  {
   "cell_type": "code",
   "execution_count": 102,
   "id": "294b478b",
   "metadata": {},
   "outputs": [
    {
     "name": "stdout",
     "output_type": "stream",
     "text": [
      "...whi_h 1-100  words get repl__ed?\n",
      "<re.Match object; span=(6, 7), match='c'>\n",
      "['c', 'a', 'c']\n",
      "None\n"
     ]
    }
   ],
   "source": [
    "txt = \"...which 1-100  words get replaced?\"\n",
    "\n",
    "print(re.sub(pattern=r\"[ac]\",repl=r\"_\",string=txt))\n",
    "\n",
    "print(re.search(pattern=r\"[ac]\",string=txt))\n",
    "\n",
    "print(re.findall(pattern=r\"[ac]\",string=txt))\n",
    "\n",
    "print(re.match(pattern=r\"[ac]\",string=txt))"
   ]
  },
  {
   "cell_type": "code",
   "execution_count": 143,
   "id": "f5e3e5fe",
   "metadata": {
    "scrolled": true
   },
   "outputs": [
    {
     "name": "stdout",
     "output_type": "stream",
     "text": [
      "XXXXXXXXX\n",
      "salicaria\n"
     ]
    }
   ],
   "source": [
    "# word \\w , non-word \\W\n",
    "print(re.sub(pattern=r\"\\w\",repl=\"X\",string=\"salicaria\"))\n",
    "print(re.sub(pattern=r\"\\W\",repl=\"X\",string=\"salicaria\"))"
   ]
  },
  {
   "cell_type": "code",
   "execution_count": 110,
   "id": "071ce75d",
   "metadata": {
    "scrolled": true
   },
   "outputs": [
    {
     "name": "stdout",
     "output_type": "stream",
     "text": [
      "...which*1-100**words*get*replaced?\n"
     ]
    }
   ],
   "source": [
    "# white space \\s , non-whitespace \\S\n",
    "print(re.sub(pattern=r\"\\s\",repl=r\"*\",string=txt))"
   ]
  },
  {
   "cell_type": "code",
   "execution_count": 107,
   "id": "e9e85e5a",
   "metadata": {},
   "outputs": [
    {
     "name": "stdout",
     "output_type": "stream",
     "text": [
      "...which *-***  words get replaced?\n",
      "*********1*100*********************\n"
     ]
    }
   ],
   "source": [
    "# digit \\d , non-digit \\D\n",
    "print(re.sub(pattern=r\"\\d\",repl=r\"*\",string=txt))\n",
    "print(re.sub(pattern=r\"\\D\",repl=r\"*\",string=txt))"
   ]
  },
  {
   "cell_type": "code",
   "execution_count": 113,
   "id": "21475662",
   "metadata": {},
   "outputs": [
    {
     "data": {
      "text/plain": [
       "'***********************************'"
      ]
     },
     "execution_count": 113,
     "metadata": {},
     "output_type": "execute_result"
    }
   ],
   "source": [
    "# . = any character except new line\n",
    "re.sub(pattern=r'.',repl='*',string=txt)"
   ]
  },
  {
   "cell_type": "markdown",
   "id": "eb73a3dd",
   "metadata": {},
   "source": [
    "### 4. Special characters:\n"
   ]
  },
  {
   "cell_type": "code",
   "execution_count": 120,
   "id": "bdb87bc1",
   "metadata": {},
   "outputs": [
    {
     "data": {
      "text/plain": [
       "'...**ic* 1-100  *ords get replaced?'"
      ]
     },
     "execution_count": 120,
     "metadata": {},
     "output_type": "execute_result"
    }
   ],
   "source": [
    "#  or |\n",
    "re.sub(\"w|h\",\"*\",txt)"
   ]
  },
  {
   "cell_type": "code",
   "execution_count": 135,
   "id": "3673749c",
   "metadata": {},
   "outputs": [
    {
     "name": "stdout",
     "output_type": "stream",
     "text": [
      "...which 1-100  words get replaced?\n",
      "...***** *-***  ***** *** ********?\n",
      "...* *-*  * * *?\n"
     ]
    }
   ],
   "source": [
    "print(txt)\n",
    "\n",
    "print(re.sub(\"\\w\",\"*\",txt))\n",
    "\n",
    "print(re.sub(\"\\w+\",\"*\",txt)) # + = 1 or more occurrences \n",
    "\n",
    " # ? = 0 or 1 occurrences , This tells regex to do a ‘lazy’ search (find the first occurrance)\n",
    " # * = 0 or more occurrences , This tells regex to do a ‘greedy’ search (find the last occurrence)"
   ]
  },
  {
   "cell_type": "code",
   "execution_count": 142,
   "id": "bc4ecda3",
   "metadata": {},
   "outputs": [
    {
     "name": "stdout",
     "output_type": "stream",
     "text": [
      "...*ch 1-*  *ds * **ed?\n"
     ]
    }
   ],
   "source": [
    "m1 = re.sub(\"\\w{3}\",\"*\",txt)\n",
    "print(m1)"
   ]
  },
  {
   "cell_type": "markdown",
   "id": "fd50ef65",
   "metadata": {},
   "source": [
    "### 5. Multiple search: [ ]\n",
    "Use square brackets to find any matching characters.\n",
    "Use dash for a range of numbers"
   ]
  },
  {
   "cell_type": "code",
   "execution_count": 146,
   "id": "d9356454",
   "metadata": {},
   "outputs": [
    {
     "name": "stdout",
     "output_type": "stream",
     "text": [
      "...***** 1-100  *ords get repla*ed?\n",
      "A*B*C*D*\n"
     ]
    }
   ],
   "source": [
    "print(re.sub(\"[which]\",\"*\",txt))\n",
    "print(re.sub(\"[a-z]\",\"*\",\"AaBbCcDd\"))"
   ]
  },
  {
   "cell_type": "markdown",
   "id": "162963a7",
   "metadata": {},
   "source": [
    "### 6. ^Start and end of line$"
   ]
  },
  {
   "cell_type": "code",
   "execution_count": 156,
   "id": "bb68537c",
   "metadata": {},
   "outputs": [
    {
     "name": "stdout",
     "output_type": "stream",
     "text": [
      "*tart of slines\n",
      "s********s****s\n"
     ]
    }
   ],
   "source": [
    "print(re.sub(\"^[sS]\",\"*\",\"start of slines\"))\n",
    "print(re.sub(\"[^sS]\",\"*\",\"start of slines\"))\n",
    "# IMPORTANT: ^ Also ‘negates’ when used within [] Find species containing any letter other than s"
   ]
  },
  {
   "cell_type": "code",
   "execution_count": 160,
   "id": "b78f542e",
   "metadata": {},
   "outputs": [
    {
     "name": "stdout",
     "output_type": "stream",
     "text": [
      "start of sline*\n",
      "start of sline*\n"
     ]
    }
   ],
   "source": [
    "print(re.sub(\"s$\",\"*\",\"start of slines\"))"
   ]
  },
  {
   "cell_type": "markdown",
   "id": "c141b29a",
   "metadata": {},
   "source": [
    "### 7. Capture text: ()\n",
    "Capture text using () and reprint using \\\\1, \\\\2, etc"
   ]
  },
  {
   "cell_type": "code",
   "execution_count": 188,
   "id": "60de23ba",
   "metadata": {},
   "outputs": [
    {
     "name": "stdout",
     "output_type": "stream",
     "text": [
      "...which 1-100  words get replaced?\n",
      "ed\n",
      "100-1\n",
      "...hwich 1-010  owrds egt erplaced?\n"
     ]
    }
   ],
   "source": [
    "print(txt)\n",
    "print(re.sub(\".*(\\w\\w+).*\",\"\\\\1\",txt)) # Replace each word with its first letter\n",
    "print(re.sub(\".*([0-9]+)-([0-9]+).*\",\"\\\\2-\\\\1\",txt)) # Pull out only the numbers and reverse their order\n",
    "print(re.sub(\"(\\w)(\\w)(\\w+)\",\"\\\\2\\\\1\\\\3\",txt)) # Reverse first two letters of each ‘word’ containing 3+ characters"
   ]
  },
  {
   "cell_type": "markdown",
   "id": "6b1e3050",
   "metadata": {},
   "source": [
    "### group()\n",
    "As you can see above, re.match() and re.search() return an object if there is a match. What if we want to see what was matched? Use .group()"
   ]
  },
  {
   "cell_type": "code",
   "execution_count": 192,
   "id": "1b124ad6",
   "metadata": {},
   "outputs": [
    {
     "data": {
      "text/plain": [
       "'salicaria'"
      ]
     },
     "execution_count": 192,
     "metadata": {},
     "output_type": "execute_result"
    }
   ],
   "source": [
    "re.match(\"salicaria\",\"salicaria\").group()"
   ]
  },
  {
   "cell_type": "code",
   "execution_count": 197,
   "id": "3d7136bf",
   "metadata": {},
   "outputs": [],
   "source": [
    "# re.match(\"z\",\"salicaria\").group() \n",
    "# But group() produces an error if no match was generated:"
   ]
  },
  {
   "cell_type": "code",
   "execution_count": 209,
   "id": "e47a0888",
   "metadata": {},
   "outputs": [
    {
     "data": {
      "text/plain": [
       "'sal'"
      ]
     },
     "execution_count": 209,
     "metadata": {},
     "output_type": "execute_result"
    }
   ],
   "source": [
    "re.match(\"sal\",\"salicaria\").group()"
   ]
  },
  {
   "cell_type": "code",
   "execution_count": 277,
   "id": "a4dbe439",
   "metadata": {},
   "outputs": [
    {
     "data": {
      "text/plain": [
       "(0, 3)"
      ]
     },
     "execution_count": 277,
     "metadata": {},
     "output_type": "execute_result"
    }
   ],
   "source": [
    "re.match(\"sal\",\"salicaria\").span()"
   ]
  },
  {
   "cell_type": "code",
   "execution_count": 210,
   "id": "5c49e4b2",
   "metadata": {},
   "outputs": [
    {
     "data": {
      "text/plain": [
       "('s', 'a', 'l')"
      ]
     },
     "execution_count": 210,
     "metadata": {},
     "output_type": "execute_result"
    }
   ],
   "source": [
    "re.match(\"(s)(a)(l)\",\"salicaria\").groups()"
   ]
  },
  {
   "cell_type": "markdown",
   "id": "4d8b60bb",
   "metadata": {},
   "source": [
    "### PRACTICE EXERCISES\n",
    "1. Consider a vector of email addresses scraped from the internet:\n",
    "- robert ‘dot’ colautti ‘at’ queensu ‘dot’ ca\n",
    "- chris.eckert[at]queensu.ca\n",
    "- lonnie.aarssen at queensu.ca\n",
    "\n",
    "Use regular expressions to convert all email addresses to the standard format: name@queensu.ca"
   ]
  },
  {
   "cell_type": "code",
   "execution_count": 250,
   "id": "c4a02d82",
   "metadata": {},
   "outputs": [],
   "source": [
    "emails =['robert ‘dot’ colautti ‘at’ queensu ‘dot’ ca',\n",
    "         'chris.eckert[at]queensu.ca',\n",
    "         'lonnie.aarssen at queensu.ca']"
   ]
  },
  {
   "cell_type": "code",
   "execution_count": 238,
   "id": "53cb880c",
   "metadata": {},
   "outputs": [
    {
     "data": {
      "text/plain": [
       "'lonnie.aarssen@queensu.ca'"
      ]
     },
     "execution_count": 238,
     "metadata": {},
     "output_type": "execute_result"
    }
   ],
   "source": [
    "re.sub(pattern=r'(\\s)(at)(\\s)', repl='@', string=emails[2])"
   ]
  },
  {
   "cell_type": "code",
   "execution_count": 249,
   "id": "ccdb36cf",
   "metadata": {
    "scrolled": true
   },
   "outputs": [
    {
     "data": {
      "text/plain": [
       "'chris.eckert@queensu.ca'"
      ]
     },
     "execution_count": 249,
     "metadata": {},
     "output_type": "execute_result"
    }
   ],
   "source": [
    "re.sub(pattern=r'\\[at]', repl='@', string=emails[1])"
   ]
  },
  {
   "cell_type": "code",
   "execution_count": 262,
   "id": "8bf3163b",
   "metadata": {},
   "outputs": [
    {
     "data": {
      "text/plain": [
       "'robert.colautti@queensu.ca'"
      ]
     },
     "execution_count": 262,
     "metadata": {},
     "output_type": "execute_result"
    }
   ],
   "source": [
    "s1 = re.sub(pattern=r'(\\s)(‘dot’)(\\s)', repl='.', string=emails[0])\n",
    "re.sub(pattern=r'(\\s)(‘at’)(\\s)', repl='@', string=s1)"
   ]
  },
  {
   "cell_type": "code",
   "execution_count": 252,
   "id": "c1f2e5c1",
   "metadata": {},
   "outputs": [
    {
     "data": {
      "text/plain": [
       "'robert ‘dot’ colautti ‘at’ queensu ‘dot’ ca'"
      ]
     },
     "execution_count": 252,
     "metadata": {},
     "output_type": "execute_result"
    }
   ],
   "source": [
    "emails[0]"
   ]
  },
  {
   "cell_type": "markdown",
   "id": "84b7f723",
   "metadata": {},
   "source": [
    "### 2. Create a random sequence of DNA:\n",
    "MySeq=\"ATGTGTGATAGATATAGTTTATAG\"\n",
    "* Replace T with U\n",
    "* Find all start codons (AUG) and stop codons (UAA, UAG, UGA)\n",
    "* Find all open reading frames (hint: consider each sequence beginning with AUG and ending with a stop codon; how do you know if both sequences are in the same reading frame?)\n",
    "* Count the length of bp for all open reading frames"
   ]
  },
  {
   "cell_type": "code",
   "execution_count": 265,
   "id": "acb9422e",
   "metadata": {},
   "outputs": [
    {
     "data": {
      "text/plain": [
       "'AUGUGUGAUAGAUAUAGUUUAUAG'"
      ]
     },
     "execution_count": 265,
     "metadata": {},
     "output_type": "execute_result"
    }
   ],
   "source": [
    "MySeq = \"ATGTGTGATAGATATAGTTTATAG\"\n",
    "\n",
    "stp1 = re.sub(pattern='T', repl='U', string=MySeq)\n",
    "stp1"
   ]
  },
  {
   "cell_type": "code",
   "execution_count": 276,
   "id": "836412b8",
   "metadata": {},
   "outputs": [
    {
     "data": {
      "text/plain": [
       "(['AUG'], ['UGA', 'UAG', 'UAG', 'UAG'])"
      ]
     },
     "execution_count": 276,
     "metadata": {},
     "output_type": "execute_result"
    }
   ],
   "source": [
    "start_codons = re.findall(pattern='AUG', string=stp1)\n",
    "stop_codons = re.findall(pattern='UAA|UAG|UGA', string=stp1)\n",
    "\n",
    "start_codons , stop_codons"
   ]
  },
  {
   "cell_type": "code",
   "execution_count": null,
   "id": "9820f147",
   "metadata": {},
   "outputs": [],
   "source": []
  },
  {
   "cell_type": "code",
   "execution_count": null,
   "id": "95e81c06",
   "metadata": {},
   "outputs": [],
   "source": []
  },
  {
   "cell_type": "code",
   "execution_count": null,
   "id": "81151a2f",
   "metadata": {},
   "outputs": [],
   "source": []
  },
  {
   "cell_type": "code",
   "execution_count": null,
   "id": "542528ae",
   "metadata": {},
   "outputs": [],
   "source": []
  }
 ],
 "metadata": {
  "kernelspec": {
   "display_name": "Python 3 (ipykernel)",
   "language": "python",
   "name": "python3"
  },
  "language_info": {
   "codemirror_mode": {
    "name": "ipython",
    "version": 3
   },
   "file_extension": ".py",
   "mimetype": "text/x-python",
   "name": "python",
   "nbconvert_exporter": "python",
   "pygments_lexer": "ipython3",
   "version": "3.9.12"
  }
 },
 "nbformat": 4,
 "nbformat_minor": 5
}
